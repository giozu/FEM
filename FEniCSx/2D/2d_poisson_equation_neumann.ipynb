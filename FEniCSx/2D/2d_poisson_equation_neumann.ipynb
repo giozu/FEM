{
 "cells": [
  {
   "cell_type": "code",
   "execution_count": 1,
   "metadata": {},
   "outputs": [
    {
     "data": {
      "application/vnd.jupyter.widget-view+json": {
       "model_id": "cb1df910453941998c6fec8d5fa50b1b",
       "version_major": 2,
       "version_minor": 0
      },
      "text/plain": [
       "Widget(value=\"<iframe src='http://localhost:34643/index.html?ui=P_0x7f0979057fa0_0&reconnect=auto' style='widt…"
      ]
     },
     "metadata": {},
     "output_type": "display_data"
    }
   ],
   "source": [
    "from mpi4py import MPI\n",
    "from dolfinx import mesh,plot\n",
    "from dolfinx.fem import FunctionSpace,Function,form\n",
    "from dolfinx.fem.petsc import create_vector,assemble_matrix,assemble_vector\n",
    "from ufl import inner,TrialFunction,TestFunction,ds,dx,grad,exp,sin,SpatialCoordinate\n",
    "from petsc4py import PETSc\n",
    "import pyvista\n",
    "\n",
    "# Create mesh and define function space\n",
    "domain = mesh.create_unit_square(MPI.COMM_WORLD, 20,20, mesh.CellType.quadrilateral)\n",
    "V = FunctionSpace(domain, (\"CG\", 1))\n",
    "\n",
    "u = TrialFunction(V)\n",
    "v = TestFunction(V)\n",
    "\n",
    "x = SpatialCoordinate(domain)\n",
    "f = 10*exp(-(((x[0] - 0.5)**2) + (x[1] - 0.5)**2) / 0.02)\n",
    "g = -sin(5*x[0])\n",
    "\n",
    "a = inner(grad(u), grad(v))*dx\n",
    "L = f*v*dx + g*v*ds\n",
    "\n",
    "# Assemble system\n",
    "A = assemble_matrix(form(a))\n",
    "A.assemble()\n",
    "b = create_vector(form(L))\n",
    "with b.localForm() as b_loc:\n",
    "  b_loc.set(0)\n",
    "assemble_vector(b,form(L))\n",
    "\n",
    "# Solution Function\n",
    "uh = Function(V)\n",
    "\n",
    "# Create Krylov solver\n",
    "solver = PETSc.KSP().create(A.getComm())\n",
    "solver.setOperators(A)\n",
    "\n",
    "# Create vector that spans the null space\n",
    "nullspace = PETSc.NullSpace().create(constant=True,comm=MPI.COMM_WORLD)\n",
    "A.setNullSpace(nullspace)\n",
    "\n",
    "# orthogonalize b with respect to the nullspace ensures that \n",
    "# b does not contain any component in the nullspace\n",
    "nullspace.remove(b)\n",
    "\n",
    "# Finally we are able to solve our linear system ::\n",
    "solver.solve(b,uh.vector)\n",
    "\n",
    "#plotting stuff\n",
    "tdim = domain.topology.dim\n",
    "topology, cell_types, geometry = plot.create_vtk_mesh(domain, tdim)\n",
    "grid = pyvista.UnstructuredGrid(topology, cell_types, geometry)\n",
    "plotter = pyvista.Plotter()\n",
    "plotter.add_mesh(grid, show_edges=True,opacity=0.25)\n",
    "u_topology, u_cell_types, u_geometry = plot.create_vtk_mesh(V)\n",
    "u_grid = pyvista.UnstructuredGrid(u_topology, u_cell_types, u_geometry)\n",
    "u_grid.point_data[\"u\"] = uh.x.array.real\n",
    "u_grid.set_active_scalars(\"u\")\n",
    "plotter.add_mesh(u_grid.warp_by_scalar(\"u\",factor=.5), show_edges=True)\n",
    "plotter.view_vector((-0.25,-1,0.5))\n",
    "if not pyvista.OFF_SCREEN:\n",
    "    plotter.show()"
   ]
  }
 ],
 "metadata": {
  "kernelspec": {
   "display_name": "Python 3",
   "language": "python",
   "name": "python3"
  },
  "language_info": {
   "codemirror_mode": {
    "name": "ipython",
    "version": 3
   },
   "file_extension": ".py",
   "mimetype": "text/x-python",
   "name": "python",
   "nbconvert_exporter": "python",
   "pygments_lexer": "ipython3",
   "version": "3.10.6"
  },
  "orig_nbformat": 4
 },
 "nbformat": 4,
 "nbformat_minor": 2
}
