{
 "cells": [
  {
   "cell_type": "code",
   "execution_count": 3,
   "metadata": {},
   "outputs": [
    {
     "ename": "ValueError",
     "evalue": "Can only integrate scalar expressions. The integrand is a tensor expression with value shape (2,) and free indices with labels ().",
     "output_type": "error",
     "traceback": [
      "\u001b[0;31m---------------------------------------------------------------------------\u001b[0m",
      "\u001b[0;31mValueError\u001b[0m                                Traceback (most recent call last)",
      "Cell \u001b[0;32mIn[3], line 22\u001b[0m\n\u001b[1;32m     19\u001b[0m g \u001b[38;5;241m=\u001b[39m \u001b[38;5;241m-\u001b[39msin(\u001b[38;5;241m5\u001b[39m\u001b[38;5;241m*\u001b[39mx[\u001b[38;5;241m0\u001b[39m])\n\u001b[1;32m     21\u001b[0m a \u001b[38;5;241m=\u001b[39m inner(grad(u), grad(v))\u001b[38;5;241m*\u001b[39mdx\n\u001b[0;32m---> 22\u001b[0m L \u001b[38;5;241m=\u001b[39m \u001b[43mf\u001b[49m\u001b[38;5;241;43m*\u001b[39;49m\u001b[43mv\u001b[49m\u001b[38;5;241;43m*\u001b[39;49m\u001b[43mdx\u001b[49m \u001b[38;5;241m+\u001b[39m g\u001b[38;5;241m*\u001b[39mv\u001b[38;5;241m*\u001b[39mds\n\u001b[1;32m     24\u001b[0m \u001b[38;5;66;03m# Assemble system\u001b[39;00m\n\u001b[1;32m     25\u001b[0m A \u001b[38;5;241m=\u001b[39m assemble_matrix(form(a))\n",
      "File \u001b[0;32m~/miniconda3/lib/python3.12/site-packages/ufl/measure.py:382\u001b[0m, in \u001b[0;36mMeasure.__rmul__\u001b[0;34m(self, integrand)\u001b[0m\n\u001b[1;32m    380\u001b[0m \u001b[38;5;66;03m# Allow only scalar integrands\u001b[39;00m\n\u001b[1;32m    381\u001b[0m \u001b[38;5;28;01mif\u001b[39;00m \u001b[38;5;129;01mnot\u001b[39;00m is_true_ufl_scalar(integrand):\n\u001b[0;32m--> 382\u001b[0m     \u001b[38;5;28;01mraise\u001b[39;00m \u001b[38;5;167;01mValueError\u001b[39;00m(\n\u001b[1;32m    383\u001b[0m         \u001b[38;5;124m\"\u001b[39m\u001b[38;5;124mCan only integrate scalar expressions. The integrand is a \u001b[39m\u001b[38;5;124m\"\u001b[39m\n\u001b[1;32m    384\u001b[0m         \u001b[38;5;124mf\u001b[39m\u001b[38;5;124m\"\u001b[39m\u001b[38;5;124mtensor expression with value shape \u001b[39m\u001b[38;5;132;01m{\u001b[39;00mintegrand\u001b[38;5;241m.\u001b[39mufl_shape\u001b[38;5;132;01m}\u001b[39;00m\u001b[38;5;124m and \u001b[39m\u001b[38;5;124m\"\u001b[39m\n\u001b[1;32m    385\u001b[0m         \u001b[38;5;124mf\u001b[39m\u001b[38;5;124m\"\u001b[39m\u001b[38;5;124mfree indices with labels \u001b[39m\u001b[38;5;132;01m{\u001b[39;00mintegrand\u001b[38;5;241m.\u001b[39mufl_free_indices\u001b[38;5;132;01m}\u001b[39;00m\u001b[38;5;124m.\u001b[39m\u001b[38;5;124m\"\u001b[39m\n\u001b[1;32m    386\u001b[0m     )\n\u001b[1;32m    388\u001b[0m \u001b[38;5;66;03m# If we have a tuple of domain ids build the integrals one by\u001b[39;00m\n\u001b[1;32m    389\u001b[0m \u001b[38;5;66;03m# one and construct as a Form in one go.\u001b[39;00m\n\u001b[1;32m    390\u001b[0m subdomain_id \u001b[38;5;241m=\u001b[39m \u001b[38;5;28mself\u001b[39m\u001b[38;5;241m.\u001b[39msubdomain_id()\n",
      "\u001b[0;31mValueError\u001b[0m: Can only integrate scalar expressions. The integrand is a tensor expression with value shape (2,) and free indices with labels ()."
     ]
    }
   ],
   "source": [
    "from mpi4py import MPI\n",
    "from dolfinx import mesh,plot\n",
    "from dolfinx.fem import FunctionSpace,Function,form\n",
    "from dolfinx.fem.petsc import create_vector,assemble_matrix,assemble_vector\n",
    "from ufl import inner,TrialFunction,TestFunction,ds,dx,grad,exp,sin,SpatialCoordinate\n",
    "from petsc4py import PETSc\n",
    "import pyvista\n",
    "from dolfinx import fem, io, mesh, plot\n",
    "\n",
    "# Create mesh and define function space\n",
    "domain = mesh.create_unit_square(MPI.COMM_WORLD, 20,20, mesh.CellType.quadrilateral)\n",
    "V = fem.functionspace(domain, (\"Lagrange\", 1, (domain.geometry.dim,)))\n",
    "\n",
    "u = TrialFunction(V)\n",
    "v = TestFunction(V)\n",
    "\n",
    "x = SpatialCoordinate(domain)\n",
    "f = 10*exp(-(((x[0] - 0.5)**2) + (x[1] - 0.5)**2) / 0.02)\n",
    "g = -sin(5*x[0])\n",
    "\n",
    "a = inner(grad(u), grad(v))*dx\n",
    "L = f*v*dx + g*v*ds\n",
    "\n",
    "# Assemble system\n",
    "A = assemble_matrix(form(a))\n",
    "A.assemble()\n",
    "b = create_vector(form(L))\n",
    "with b.localForm() as b_loc:\n",
    "  b_loc.set(0)\n",
    "assemble_vector(b,form(L))\n",
    "\n",
    "# Solution Function\n",
    "uh = Function(V)\n",
    "\n",
    "# Create Krylov solver\n",
    "solver = PETSc.KSP().create(A.getComm())\n",
    "solver.setOperators(A)\n",
    "\n",
    "# Create vector that spans the null space\n",
    "nullspace = PETSc.NullSpace().create(constant=True,comm=MPI.COMM_WORLD)\n",
    "A.setNullSpace(nullspace)\n",
    "\n",
    "# orthogonalize b with respect to the nullspace ensures that \n",
    "# b does not contain any component in the nullspace\n",
    "nullspace.remove(b)\n",
    "\n",
    "# Finally we are able to solve our linear system ::\n",
    "solver.solve(b,uh.vector)\n",
    "\n",
    "#plotting stuff\n",
    "tdim = domain.topology.dim\n",
    "topology, cell_types, geometry = plot.create_vtk_mesh(domain, tdim)\n",
    "grid = pyvista.UnstructuredGrid(topology, cell_types, geometry)\n",
    "plotter = pyvista.Plotter()\n",
    "plotter.add_mesh(grid, show_edges=True,opacity=0.25)\n",
    "u_topology, u_cell_types, u_geometry = plot.create_vtk_mesh(V)\n",
    "u_grid = pyvista.UnstructuredGrid(u_topology, u_cell_types, u_geometry)\n",
    "u_grid.point_data[\"u\"] = uh.x.array.real\n",
    "u_grid.set_active_scalars(\"u\")\n",
    "plotter.add_mesh(u_grid.warp_by_scalar(\"u\",factor=.5), show_edges=True)\n",
    "plotter.view_vector((-0.25,-1,0.5))\n",
    "if not pyvista.OFF_SCREEN:\n",
    "    plotter.show()"
   ]
  }
 ],
 "metadata": {
  "kernelspec": {
   "display_name": "Python 3",
   "language": "python",
   "name": "python3"
  },
  "language_info": {
   "codemirror_mode": {
    "name": "ipython",
    "version": 3
   },
   "file_extension": ".py",
   "mimetype": "text/x-python",
   "name": "python",
   "nbconvert_exporter": "python",
   "pygments_lexer": "ipython3",
   "version": "3.12.2"
  },
  "orig_nbformat": 4
 },
 "nbformat": 4,
 "nbformat_minor": 2
}
