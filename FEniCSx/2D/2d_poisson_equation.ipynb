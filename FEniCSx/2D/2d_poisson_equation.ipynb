{
  "cells": [
    {
      "attachments": {},
      "cell_type": "markdown",
      "metadata": {
        "colab_type": "text",
        "id": "view-in-github"
      },
      "source": [
        "<a href=\"https://colab.research.google.com/github/giozu/FEniCS/blob/main/2D%20problems/2d_poisson_equation.ipynb\" target=\"_parent\"><img src=\"https://colab.research.google.com/assets/colab-badge.svg\" alt=\"Open In Colab\"/></a>"
      ]
    },
    {
      "attachments": {},
      "cell_type": "markdown",
      "metadata": {
        "id": "-Y1QQRGxGQoJ"
      },
      "source": [
        "## Equation and problem definition\n",
        "\n",
        "For a domain $\\Omega \\subset \\mathbb{R}^n$ with boundary $\\partial\n",
        "\\Omega = \\Gamma_{D} \\cup \\Gamma_{N}$, the Poisson equation with\n",
        "particular boundary conditions reads:\n",
        "\n",
        "$$\n",
        "\\begin{align}\n",
        "- \\nabla^{2} u &= f \\quad {\\rm in} \\ \\Omega, \\\\\n",
        "u &= 0 \\quad {\\rm on} \\ \\Gamma_{D}, \\\\\n",
        "\\nabla u \\cdot n &= g \\quad {\\rm on} \\ \\Gamma_{N}. \\\\\n",
        "\\end{align}\n",
        "$$\n",
        "\n",
        "where $f$ and $g$ are input data and $n$ denotes the outward directed\n",
        "boundary normal. The variational problem reads: find $u \\in V$ such\n",
        "that\n",
        "\n",
        "$$\n",
        "a(u, v) = L(v) \\quad \\forall \\ v \\in V,\n",
        "$$\n",
        "\n",
        "where $V$ is a suitable function space and\n",
        "\n",
        "$$\n",
        "\\begin{align}\n",
        "a(u, v) &:= \\int_{\\Omega} \\nabla u \\cdot \\nabla v \\, {\\rm d} x, \\\\\n",
        "L(v)    &:= \\int_{\\Omega} f v \\, {\\rm d} x + \\int_{\\Gamma_{N}} g v \\, {\\rm d} s.\n",
        "\\end{align}\n",
        "$$\n",
        "\n",
        "The expression $a(u, v)$ is the bilinear form and $L(v)$\n",
        "is the linear form. It is assumed that all functions in $V$\n",
        "satisfy the Dirichlet boundary conditions ($u = 0 \\ {\\rm on} \\\n",
        "\\Gamma_{D}$).\n",
        "\n",
        "In this demo we consider:\n",
        "\n",
        "- $\\Omega = [0,2] \\times [0,1]$ (a rectangle)\n",
        "- $\\Gamma_{D} = \\{(0, y) \\cup (1, y) \\subset \\partial \\Omega\\}$\n",
        "- $\\Gamma_{N} = \\{(x, 0) \\cup (x, 1) \\subset \\partial \\Omega\\}$\n",
        "- $g = \\sin(5x)$\n",
        "- $f = 10\\exp(-((x - 0.5)^2 + (y - 0.5)^2) / 0.02)$\n"
      ]
    },
    {
      "attachments": {},
      "cell_type": "markdown",
      "metadata": {
        "id": "EkcHVEDtHQyz"
      },
      "source": [
        "## Implementation\n",
        "\n",
        "The modules that will be used are imported:"
      ]
    },
    {
      "cell_type": "code",
      "execution_count": 14,
      "metadata": {
        "colab": {
          "base_uri": "https://localhost:8080/"
        },
        "id": "0xApXXY4_gM-",
        "outputId": "53d91ee9-eb1a-4d2d-f183-47d069949c7e"
      },
      "outputs": [],
      "source": [
        "import numpy as np\n",
        "\n",
        "import ufl\n",
        "from dolfinx import fem, io, mesh, plot\n",
        "from ufl import ds, dx, grad, inner\n",
        "\n",
        "from mpi4py import MPI\n",
        "from petsc4py.PETSc import ScalarType"
      ]
    },
    {
      "attachments": {},
      "cell_type": "markdown",
      "metadata": {
        "id": "6eRYeRPiHTyy"
      },
      "source": [
        "## Initializing notebook plotting\n",
        "When running a python notebook, a special line is necessary to show the plots."
      ]
    },
    {
      "cell_type": "code",
      "execution_count": 15,
      "metadata": {
        "id": "aHunEITwHdEJ"
      },
      "outputs": [],
      "source": [
        "%matplotlib inline"
      ]
    },
    {
      "cell_type": "code",
      "execution_count": 16,
      "metadata": {},
      "outputs": [],
      "source": [
        "# We create a rectangular {py:class}`Mesh <dolfinx.mesh.Mesh>` using\n",
        "# {py:func}`create_rectangle <dolfinx.mesh.create_rectangle>`, and\n",
        "# create a finite element {py:class}`FunctionSpace\n",
        "# <dolfinx.fem.FunctionSpace>` $V$ on the mesh.\n",
        "\n",
        "# +\n",
        "msh = mesh.create_rectangle(comm=MPI.COMM_WORLD,\n",
        "                            points=((0.0, 0.0), (2.0, 1.0)), n=(32, 16),\n",
        "                            cell_type=mesh.CellType.triangle,)\n",
        "V = fem.FunctionSpace(msh, (\"Lagrange\", 1))\n",
        "# -\n",
        "\n",
        "# The second argument to {py:class}`FunctionSpace\n",
        "# <dolfinx.fem.FunctionSpace>` is a tuple `(family, degree)`, where\n",
        "# `family` is the finite element family, and `degree` specifies the\n",
        "# polynomial degree. In this case `V` is a space of continuous Lagrange\n",
        "# finite elements of degree 1.\n",
        "#\n",
        "# To apply the Dirichlet boundary conditions, we find the mesh facets\n",
        "# (entities of topological co-dimension 1) that lie on the boundary\n",
        "# $\\Gamma_D$ using {py:func}`locate_entities_boundary\n",
        "# <dolfinx.mesh.locate_entities_boundary>`. The function is provided\n",
        "# with a 'marker' function that returns `True` for points `x` on the\n",
        "# boundary and `False` otherwise.\n",
        "\n",
        "facets = mesh.locate_entities_boundary(msh, dim=(msh.topology.dim - 1),\n",
        "                                       marker=lambda x: np.logical_or(np.isclose(x[0], 0.0),\n",
        "                                                                      np.isclose(x[0], 2.0)))\n",
        "\n",
        "# We now find the degrees-of-freedom that are associated with the\n",
        "# boundary facets using {py:func}`locate_dofs_topological\n",
        "# <dolfinx.fem.locate_dofs_topological>`:\n",
        "\n",
        "dofs = fem.locate_dofs_topological(V=V, entity_dim=1, entities=facets)\n",
        "\n",
        "# and use {py:func}`dirichletbc <dolfinx.fem.dirichletbc>` to create a\n",
        "# {py:class}`DirichletBCMetaClass <dolfinx.fem.DirichletBCMetaClass>`\n",
        "# class that represents the boundary condition:\n",
        "\n",
        "bc = fem.dirichletbc(value=ScalarType(0), dofs=dofs, V=V)"
      ]
    },
    {
      "cell_type": "code",
      "execution_count": 17,
      "metadata": {},
      "outputs": [],
      "source": [
        "# Next, the variational problem is defined:\n",
        "\n",
        "# +\n",
        "u = ufl.TrialFunction(V)\n",
        "v = ufl.TestFunction(V)\n",
        "x = ufl.SpatialCoordinate(msh)\n",
        "f = 10 * ufl.exp(-((x[0] - 0.5) ** 2 + (x[1] - 0.5) ** 2) / 0.02)\n",
        "g = ufl.sin(5 * x[0])\n",
        "a = inner(grad(u), grad(v)) * dx\n",
        "L = inner(f, v) * dx + inner(g, v) * ds\n",
        "# -\n",
        "\n",
        "# A {py:class}`LinearProblem <dolfinx.fem.LinearProblem>` object is\n",
        "# created that brings together the variational problem, the Dirichlet\n",
        "# boundary condition, and which specifies the linear solver. In this\n",
        "# case an LU solver us sued. The {py:func}`solve\n",
        "# <dolfinx.fem.LinearProblem.solve>` computes the solution.\n",
        "\n",
        "# +\n",
        "problem = fem.petsc.LinearProblem(a, L, bcs=[bc], petsc_options={\"ksp_type\": \"preonly\", \"pc_type\": \"lu\"})\n",
        "uh = problem.solve()\n",
        "# -\n",
        "\n",
        "# The solution can be written to a {py:class}`XDMFFile\n",
        "# <dolfinx.io.XDMFFile>` file visualization with ParaView or VisIt:\n",
        "\n",
        "# +\n",
        "with io.XDMFFile(msh.comm, \"out_poisson/poisson.xdmf\", \"w\") as file:\n",
        "    file.write_mesh(msh)\n",
        "    file.write_function(uh)\n",
        "# -"
      ]
    },
    {
      "attachments": {},
      "cell_type": "markdown",
      "metadata": {
        "id": "Y1zmMY2UH1Wa"
      },
      "source": [
        "## Defining the finite element function space\n",
        "After the mesh, we define the finite element function space. We will use linear lagrangian finite elements (P1)."
      ]
    },
    {
      "attachments": {},
      "cell_type": "markdown",
      "metadata": {
        "id": "hWLgP2FjIKRg"
      },
      "source": [
        "## Defining the boundary condition\n",
        "Here boundary conditions are defined. For this problem, homogeneous Dirichlet boundary conditions are considered."
      ]
    },
    {
      "attachments": {},
      "cell_type": "markdown",
      "metadata": {
        "id": "bEaRNwguJamX"
      },
      "source": [
        "## Defining the variational problem\n",
        "The finite element variational problem  reads: Find $u \\in V$ such that\n",
        "$$\n",
        "\\int_{\\Omega} (\\nabla u \\cdot \\nabla v) \\,\\mathrm{d}x = \\int_{\\Omega} fv \\,\\mathrm{d}x\n",
        "$$\n",
        "for all $v \\in V$.\n",
        "\n",
        "This can be expressed in FEniCS by defining the *bilinear form* $a$ and the *linear form* $L$:\n",
        "\n",
        "\\begin{align}\n",
        "  a(u, v) &= \\int_{\\Omega} \\nabla u \\cdot \\nabla v \\,\\mathrm{d}x, \\\\\n",
        "  L(v) &= \\int_{\\Omega} fv \\,\\mathrm{d}x.\n",
        "\\end{align}\n",
        "\n",
        "To have, in the end, the following linear problem:\n",
        "$$\n",
        "a(u,v) = L(v)\n",
        "$$"
      ]
    },
    {
      "cell_type": "code",
      "execution_count": null,
      "metadata": {
        "id": "lA-WvUxoKuZY"
      },
      "outputs": [],
      "source": [
        "# Weak formulation\n",
        "u_trial = fe.TrialFunction(lagrange_polynomial_space_first_order)\n",
        "v_test = fe.TestFunction(lagrange_polynomial_space_first_order)\n",
        "\n",
        "forcing = fe.Constant(- FORCING_MAGNITUDE)\n",
        "a = fe.dot(fe.grad(u_trial), fe.grad(v_test)) * fe.dx\n",
        "L = forcing * v_test * fe.dx\n",
        "\n",
        "u_solution = fe.Function(lagrange_polynomial_space_first_order)"
      ]
    },
    {
      "attachments": {},
      "cell_type": "markdown",
      "metadata": {
        "id": "JElDr2O3Kviw"
      },
      "source": [
        "## Solving the variational problem\n",
        "The variational problem can now be solved by calling the FEniCS `solve` loop."
      ]
    },
    {
      "attachments": {},
      "cell_type": "markdown",
      "metadata": {
        "id": "klZg27UU2Wo1"
      },
      "source": [
        "## Visualization\n",
        "\n",
        "Use the `plot` command to visualize the solution. "
      ]
    },
    {
      "cell_type": "code",
      "execution_count": 18,
      "metadata": {
        "colab": {
          "base_uri": "https://localhost:8080/",
          "height": 435
        },
        "id": "_HYGOiVm2a7Y",
        "outputId": "1793c511-213d-429b-9ed3-e72305e889f4"
      },
      "outputs": [
        {
          "data": {
            "application/vnd.jupyter.widget-view+json": {
              "model_id": "059a1d42ae104879b7b34934a3558231",
              "version_major": 2,
              "version_minor": 0
            },
            "text/plain": [
              "Widget(value=\"<iframe src='http://localhost:33765/index.html?ui=P_0x7ff5740d1f90_3&reconnect=auto' style='widt…"
            ]
          },
          "metadata": {},
          "output_type": "display_data"
        }
      ],
      "source": [
        "# and displayed using [pyvista](https://docs.pyvista.org/).\n",
        "\n",
        "# +\n",
        "try:\n",
        "    import pyvista\n",
        "    cells, types, x = plot.create_vtk_mesh(V)\n",
        "    grid = pyvista.UnstructuredGrid(cells, types, x)\n",
        "    grid.point_data[\"u\"] = uh.x.array.real\n",
        "    grid.set_active_scalars(\"u\")\n",
        "    plotter = pyvista.Plotter()\n",
        "    plotter.add_mesh(grid, show_edges=True)\n",
        "    warped = grid.warp_by_scalar()\n",
        "    plotter.add_mesh(warped)\n",
        "    if pyvista.OFF_SCREEN:\n",
        "        pyvista.start_xvfb(wait=0.1)\n",
        "        plotter.screenshot(\"uh_poisson.png\")\n",
        "    else:\n",
        "        plotter.show()\n",
        "\n",
        "except ModuleNotFoundError:\n",
        "    print(\"'pyvista' is required to visualise the solution\")\n",
        "    print(\"Install 'pyvista' with pip: 'python3 -m pip install pyvista'\")\n",
        "# -\n"
      ]
    }
  ],
  "metadata": {
    "colab": {
      "authorship_tag": "ABX9TyNI2fGsm0zDirRlq8ljHV/x",
      "collapsed_sections": [
        "EkcHVEDtHQyz",
        "6eRYeRPiHTyy",
        "fLTBUVsCHg92",
        "Y1zmMY2UH1Wa",
        "meDFvI4lIWJ7"
      ],
      "include_colab_link": true,
      "provenance": []
    },
    "kernelspec": {
      "display_name": "Python 3",
      "name": "python3"
    },
    "language_info": {
      "name": "python"
    }
  },
  "nbformat": 4,
  "nbformat_minor": 0
}
