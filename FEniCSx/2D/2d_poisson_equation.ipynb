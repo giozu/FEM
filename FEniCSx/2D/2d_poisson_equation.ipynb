{
  "cells": [
    {
      "attachments": {},
      "cell_type": "markdown",
      "metadata": {
        "colab_type": "text",
        "id": "view-in-github"
      },
      "source": [
        "<a href=\"https://colab.research.google.com/github/giozu/FEniCS/blob/main/2D%20problems/2d_poisson_equation.ipynb\" target=\"_parent\"><img src=\"https://colab.research.google.com/assets/colab-badge.svg\" alt=\"Open In Colab\"/></a>"
      ]
    },
    {
      "attachments": {},
      "cell_type": "markdown",
      "metadata": {
        "id": "-Y1QQRGxGQoJ"
      },
      "source": [
        "## Equation and problem definition\n",
        "Given a domain $\\Omega \\subset \\mathbb{R}^n$ with boundary $\\partial\n",
        "\\Omega = \\Gamma_{D} \\cup \\Gamma_{N}$, the Poisson equation with\n",
        "particular boundary conditions is:\n",
        "\n",
        "$$\n",
        "\\begin{align}\n",
        "- D \\nabla^{2} u &= S \\quad {\\rm in} \\ \\Omega, \\\\\n",
        "u &= 0 \\quad {\\rm on} \\ \\partial \\Omega, \\\\\n",
        "\\end{align}\n",
        "$$\n",
        "\n",
        "In this particular case, we consider $u$ to be a concentration,  $S$ a production rate, and $D$ a diffusivity. The variational problem reads: find $u \\in V$ such\n",
        "that\n",
        "\n",
        "$$\n",
        "a(u, v) = L(v) \\quad \\forall \\ v \\in V,\n",
        "$$\n",
        "\n",
        "where $V$ is a suitable function space and\n",
        "\n",
        "$$\n",
        "\\begin{align}\n",
        "a(u, v) &:= \\int_{\\Omega} \\nabla u \\cdot \\nabla v \\, {\\rm d} x, \\\\\n",
        "L(v)    &:= \\int_{\\Omega} S v \\, {\\rm d} x\n",
        "\\end{align}\n",
        "$$\n",
        "\n",
        "The expression $a(u, v)$ is a bilinear form and $L(v)$ is a linear functional. It is assumed that all functions in $V$ satisfy the boundary conditions."
      ]
    },
    {
      "attachments": {},
      "cell_type": "markdown",
      "metadata": {
        "id": "6eRYeRPiHTyy"
      },
      "source": [
        "## Initializing notebook plotting\n",
        "When running a python notebook, a special line is necessary to show the plots."
      ]
    },
    {
      "cell_type": "code",
      "execution_count": 13,
      "metadata": {
        "id": "aHunEITwHdEJ"
      },
      "outputs": [],
      "source": [
        "%matplotlib inline"
      ]
    },
    {
      "attachments": {},
      "cell_type": "markdown",
      "metadata": {
        "id": "EkcHVEDtHQyz"
      },
      "source": [
        "## Implementation\n",
        "The modules that will be used are imported:"
      ]
    },
    {
      "cell_type": "code",
      "execution_count": 14,
      "metadata": {
        "colab": {
          "base_uri": "https://localhost:8080/"
        },
        "id": "0xApXXY4_gM-",
        "outputId": "53d91ee9-eb1a-4d2d-f183-47d069949c7e"
      },
      "outputs": [],
      "source": [
        "import numpy as np\n",
        "\n",
        "import ufl\n",
        "from ufl import ds, dx, grad, inner\n",
        "\n",
        "from dolfinx import fem, io, mesh, plot\n",
        "from dolfinx.io import gmshio # to import gmsh functions\n",
        "from dolfinx import geometry # to define the line plot\n",
        "\n",
        "from mpi4py import MPI\n",
        "\n",
        "# from petsc4py import PETSc\n",
        "from petsc4py.PETSc import ScalarType\n",
        "\n",
        "import matplotlib.pyplot as plt"
      ]
    },
    {
      "attachments": {},
      "cell_type": "markdown",
      "metadata": {},
      "source": [
        "### Mesh generation and functional spaces\n",
        "We create the mesh using dedicated functions (e.g., {py:func} `create_rectangle<dolfinx.mesh.create_rectangle>`), or we import it from a .msh file (made with gmsh). Then, we define a finite element space $V$ on the mesh. In this case `V` is the space of continuous Lagrange finite elements of degree 1.\n",
        "\n",
        "To apply Dirichlet boundary conditions, we find the mesh facets (entities of topological co-dimension 1) that lie on the boundary $\\Gamma_D = \\partial \\Omega$ using `locate_entities_boundary`. The function is provided with a boolean function that returns `True` for points `x` on the boundary and `False` otherwise.\n",
        "\n",
        "Lastly, we find the degrees-of-freedom that are associated with the boundary facets using `locate_dofs_topological`, and use `dirichletbc` to create a `DirichletBCMetaClass` class that represents the boundary condition."
      ]
    },
    {
      "attachments": {},
      "cell_type": "markdown",
      "metadata": {},
      "source": [
        "### Class definition"
      ]
    },
    {
      "cell_type": "code",
      "execution_count": 26,
      "metadata": {},
      "outputs": [],
      "source": [
        "class poisson_problem():\n",
        "    def __init__(self):\n",
        "        \n",
        "        # Domain\n",
        "        self.domain, __, __ = gmshio.read_from_msh(\"esagonino.msh\", MPI.COMM_WORLD, gdim = 2)\n",
        "        self.tdim = self.domain.topology.dim\n",
        "        self.fdim = self.tdim - 1\n",
        "        self.domain.topology.create_connectivity(self.fdim, self.tdim)\n",
        "\n",
        "        # Functional spaces\n",
        "        self.P1 = ufl.FiniteElement(\"Lagrange\", self.domain.ufl_cell(), 1)\n",
        "        self.V = fem.FunctionSpace(self.domain, self.P1)\n",
        "        self.W = fem.FunctionSpace(self.domain, ufl.VectorElement(\"Lagrange\", self.domain.ufl_cell(), 1))\n",
        "\n",
        "        # Test and trial functions\n",
        "        self.u = ufl.TestFunction(self.V)\n",
        "        self.v = ufl.TrialFunction(self.V)\n",
        "        self.x = ufl.SpatialCoordinate(self.domain)\n",
        "\n",
        "    def parameters(self, f):\n",
        "        self.forcingValue = f\n",
        "        print('forcing = {:.0f}'.format(f))\n",
        "        self.forcing = fem.Constant(self.domain, ScalarType(self.forcingValue))\n",
        "\n",
        "    def boundaryConditions(self, bc):\n",
        "        self.facets = mesh.exterior_facet_indices(self.domain.topology)\n",
        "        self.dofs = fem.locate_dofs_topological(V=self.V, entity_dim=self.fdim, entities=self.facets)\n",
        "        self.bc = fem.dirichletbc(value=bc, dofs=self.dofs, V=self.V)\n",
        "\n",
        "    def assemble(self):\n",
        "        # Variational forms\n",
        "        self.lhs = inner(grad(self.u), grad(self.v)) * dx\n",
        "        self.rhs = inner(self.forcingValue, self.v) * dx\n",
        "\n",
        "    def solve(self):\n",
        "        self.problem = fem.petsc.LinearProblem(self.lhs, self.rhs, bcs=[self.bc], petsc_options={\"ksp_type\": \"preonly\", \"pc_type\": \"lu\"})\n",
        "        self.solution = self.problem.solve()\n",
        "        return self.solution\n",
        "    \n",
        "    def gradient(self):\n",
        "        # grad_u_expr = fem.Expression(grad(uh)[0], V.element.interpolation_points()) # d/dx\n",
        "        grad_u_expr = fem.Expression(grad(self.solution), self.W.element.interpolation_points())\n",
        "        grad_u = fem.Function(self.W)\n",
        "        grad_u.interpolate(grad_u_expr)\n",
        "        return grad_u\n",
        "        "
      ]
    },
    {
      "attachments": {},
      "cell_type": "markdown",
      "metadata": {},
      "source": [
        "Problem solution"
      ]
    },
    {
      "cell_type": "code",
      "execution_count": 23,
      "metadata": {},
      "outputs": [
        {
          "name": "stdout",
          "output_type": "stream",
          "text": [
            "Info    : Reading 'esagonino.msh'...\n",
            "Info    : 13 entities\n",
            "Info    : 817 nodes\n",
            "Info    : 1536 elements\n",
            "Info    : Done reading 'esagonino.msh'\n",
            "forcing = 10\n"
          ]
        }
      ],
      "source": [
        "poisson = poisson_problem()\n",
        "\n",
        "S = 3 # production rate (1e-7)\n",
        "D = 0.3 # diffusivity\n",
        "forcing = S / D\n",
        "\n",
        "poisson.parameters(forcing)\n",
        "poisson.boundaryConditions(0.0)\n",
        "poisson.assemble()\n",
        "uh = poisson.solve()"
      ]
    },
    {
      "attachments": {},
      "cell_type": "markdown",
      "metadata": {
        "id": "klZg27UU2Wo1"
      },
      "source": [
        "## Visualization\n",
        "displayed using [pyvista](https://docs.pyvista.org/).\n"
      ]
    },
    {
      "cell_type": "code",
      "execution_count": 24,
      "metadata": {
        "colab": {
          "base_uri": "https://localhost:8080/",
          "height": 435
        },
        "id": "_HYGOiVm2a7Y",
        "outputId": "1793c511-213d-429b-9ed3-e72305e889f4"
      },
      "outputs": [
        {
          "data": {
            "application/vnd.jupyter.widget-view+json": {
              "model_id": "74bfb753c29345fbbab98cb1ff759452",
              "version_major": 2,
              "version_minor": 0
            },
            "text/plain": [
              "Widget(value=\"<iframe src='http://localhost:41301/index.html?ui=P_0x7f96472dd420_7&reconnect=auto' style='widt…"
            ]
          },
          "metadata": {},
          "output_type": "display_data"
        }
      ],
      "source": [
        "try:\n",
        "    import pyvista\n",
        "    cells, types, x = plot.create_vtk_mesh(V)\n",
        "    grid = pyvista.UnstructuredGrid(cells, types, x)\n",
        "    grid.point_data[\"u\"] = uh.x.array.real\n",
        "    grid.set_active_scalars(\"u\")\n",
        "    plotter = pyvista.Plotter()\n",
        "    plotter.add_mesh(grid, show_edges=True)\n",
        "    warped = grid.warp_by_scalar()\n",
        "    plotter.add_mesh(warped)\n",
        "    if pyvista.OFF_SCREEN:\n",
        "        pyvista.start_xvfb(wait=0.1)\n",
        "        plotter.screenshot(\"uh_poisson.png\")\n",
        "    else:\n",
        "        plotter.show()\n",
        "\n",
        "except ModuleNotFoundError:\n",
        "    print(\"'pyvista' is required to visualise the solution\")\n",
        "    print(\"Install 'pyvista' with pip: 'python3 -m pip install pyvista'\")\n"
      ]
    },
    {
      "attachments": {},
      "cell_type": "markdown",
      "metadata": {},
      "source": [
        "## Curve plots throughout the mesh\n",
        "It is possible to plot the finite element solution $u_h$ along a determined line $y=f(x)$. First, we define the set of points belonging to the line, then we evaluate $u_h$ at these points.\n",
        "\n",
        "Since the finite element solution is a linear combination of all degrees of freedom, $u_h = \\sum_{i=1}^N c_i \\phi_i(x)$, where $c_i$ is the coefficient of $u_i$ and $\\phi_i$ is the basis function, we can compute the solution at any point in $\\Omega$. However, as a mesh consists of a large set of degrees of freedom (i.e. $N$ is large), we want to reduce the number of evaluations of the basis functions. This is efficiently done by creating a bounding box tree of the cells of the mesh, allowing a quick recursive search through the mesh entities."
      ]
    },
    {
      "cell_type": "code",
      "execution_count": 25,
      "metadata": {},
      "outputs": [
        {
          "name": "stderr",
          "output_type": "stream",
          "text": [
            "ERROR:root:Exception raised\n",
            "ERROR:root:KeyError('858172f207e84e350ff2a133fd630ba0_817d')\n",
            "ERROR:root:Traceback (most recent call last):\n",
            "  File \"/home/giovanni/.local/lib/python3.10/site-packages/wslink/backends/aiohttp/__init__.py\", line 493, in onMessage\n",
            "    results = func(*args, **kwargs)\n",
            "  File \"/home/giovanni/.local/lib/python3.10/site-packages/trame_vtk/modules/vtk/protocols/local_rendering.py\", line 33, in get_array\n",
            "    self.context.get_cached_data_array(data_hash, binary)\n",
            "  File \"/home/giovanni/.local/lib/python3.10/site-packages/trame_vtk/modules/vtk/serializers/synchronization_context.py\", line 30, in get_cached_data_array\n",
            "    cache_obj = self.data_array_cache[p_md5]\n",
            "KeyError: '858172f207e84e350ff2a133fd630ba0_817d'\n",
            "\n"
          ]
        },
        {
          "name": "stderr",
          "output_type": "stream",
          "text": [
            "ERROR:root:Exception raised\n",
            "ERROR:root:KeyError('a430abe4746427a5c3b54b5bd69877a4_817d')\n",
            "ERROR:root:Traceback (most recent call last):\n",
            "  File \"/home/giovanni/.local/lib/python3.10/site-packages/wslink/backends/aiohttp/__init__.py\", line 493, in onMessage\n",
            "    results = func(*args, **kwargs)\n",
            "  File \"/home/giovanni/.local/lib/python3.10/site-packages/trame_vtk/modules/vtk/protocols/local_rendering.py\", line 33, in get_array\n",
            "    self.context.get_cached_data_array(data_hash, binary)\n",
            "  File \"/home/giovanni/.local/lib/python3.10/site-packages/trame_vtk/modules/vtk/serializers/synchronization_context.py\", line 30, in get_cached_data_array\n",
            "    cache_obj = self.data_array_cache[p_md5]\n",
            "KeyError: 'a430abe4746427a5c3b54b5bd69877a4_817d'\n",
            "\n"
          ]
        }
      ],
      "source": [
        "points = np.zeros((3, 101))\n",
        "\n",
        "# plot along the line y = x\n",
        "points[0] = np.linspace(0, 1, 101)\n",
        "points[1] = np.linspace(0, 1, 101)\n",
        "\n",
        "u_values = []\n",
        "cells = []\n",
        "points_on_proc = []\n",
        "\n",
        "bb_tree = geometry.BoundingBoxTree(msh, msh.topology.dim)\n",
        "\n",
        "cell_candidates = geometry.compute_collisions(bb_tree, points.T)\n",
        "colliding_cells = geometry.compute_colliding_cells(msh, cell_candidates, points.T)\n",
        "\n",
        "for i, point in enumerate(points.T):\n",
        "    if len(colliding_cells.links(i))>0:\n",
        "        points_on_proc.append(point)\n",
        "        cells.append(colliding_cells.links(i)[0])\n",
        "        \n",
        "points_on_proc = np.array(points_on_proc, dtype=np.float64)\n",
        "u_values = uh.eval(points_on_proc, cells)"
      ]
    },
    {
      "cell_type": "code",
      "execution_count": 19,
      "metadata": {},
      "outputs": [
        {
          "data": {
            "application/vnd.jupyter.widget-view+json": {
              "model_id": "cefba07299274585ada180b5c1516e08",
              "version_major": 2,
              "version_minor": 0
            },
            "text/plain": [
              "Widget(value=\"<iframe src='http://localhost:41301/index.html?ui=P_0x7f9667fd91e0_5&reconnect=auto' style='widt…"
            ]
          },
          "metadata": {},
          "output_type": "display_data"
        },
        {
          "data": {
            "text/plain": [
              "<matplotlib.legend.Legend at 0x7f9667ec4190>"
            ]
          },
          "execution_count": 19,
          "metadata": {},
          "output_type": "execute_result"
        },
        {
          "data": {
            "image/png": "[encoded data removed]",
            "text/plain": [
              "<Figure size 640x480 with 1 Axes>"
            ]
          },
          "metadata": {},
          "output_type": "display_data"
        }
      ],
      "source": [
        "# 2D plot\n",
        "u_topology, u_cell_types, u_geometry = plot.create_vtk_mesh(V)\n",
        "\n",
        "u_grid = pyvista.UnstructuredGrid(u_topology, u_cell_types, u_geometry)\n",
        "u_grid.point_data[\"u\"] = uh.x.array.real\n",
        "u_grid.set_active_scalars(\"u\")\n",
        "u_plotter = pyvista.Plotter()\n",
        "u_plotter.add_mesh(u_grid, show_edges=True)\n",
        "u_plotter.view_xy()\n",
        "if not pyvista.OFF_SCREEN:\n",
        "    u_plotter.show()\n",
        "\n",
        "# Line plot\n",
        "fig = plt.figure()\n",
        "plt.plot(points_on_proc[:,1], u_values, \"k\", linewidth=2, label=\"Deflection ($\\\\times 50$)\")\n",
        "plt.grid(True)\n",
        "plt.xlabel(\"y\")\n",
        "plt.legend()"
      ]
    },
    {
      "attachments": {},
      "cell_type": "markdown",
      "metadata": {},
      "source": [
        "## Evaluate the gradient of the solution\n",
        "We evaluate the gradient of $u_h$ by defining an expression for the gradient and interpolating it on the domain."
      ]
    },
    {
      "cell_type": "code",
      "execution_count": 20,
      "metadata": {},
      "outputs": [
        {
          "data": {
            "application/vnd.jupyter.widget-view+json": {
              "model_id": "1858e9eb19774cdda2fb416eefd331ea",
              "version_major": 2,
              "version_minor": 0
            },
            "text/plain": [
              "Widget(value=\"<iframe src='http://localhost:41301/index.html?ui=P_0x7f9699529f00_6&reconnect=auto' style='widt…"
            ]
          },
          "metadata": {},
          "output_type": "display_data"
        }
      ],
      "source": [
        "# # 2D plot\n",
        "# u_topology, u_cell_types, u_geometry = plot.create_vtk_mesh(V)\n",
        "\n",
        "# u_grid = pyvista.UnstructuredGrid(u_topology, u_cell_types, u_geometry)\n",
        "# u_grid.point_data[\"u\"] = grad_u.sub(0).collapse().x.array.real\n",
        "# u_grid.set_active_scalars(\"u\")\n",
        "# u_plotter = pyvista.Plotter()\n",
        "# u_plotter.add_mesh(u_grid, show_edges=True)\n",
        "# u_plotter.view_xy()\n",
        "# if not pyvista.OFF_SCREEN:\n",
        "#     u_plotter.show()\n",
        "\n",
        "# The solution can be written to a file, and visualize it with ParaView or VisIt:\n",
        "with io.XDMFFile(poisson.domain.comm, \"out_poisson/poisson.xdmf\", \"w\") as file:\n",
        "    file.write_mesh(poisson.domain)\n",
        "    file.write_function(poisson.gradient())\n"
      ]
    }
  ],
  "metadata": {
    "colab": {
      "authorship_tag": "ABX9TyNI2fGsm0zDirRlq8ljHV/x",
      "collapsed_sections": [
        "EkcHVEDtHQyz",
        "6eRYeRPiHTyy",
        "fLTBUVsCHg92",
        "Y1zmMY2UH1Wa",
        "meDFvI4lIWJ7"
      ],
      "include_colab_link": true,
      "provenance": []
    },
    "kernelspec": {
      "display_name": "Python 3",
      "name": "python3"
    },
    "language_info": {
      "codemirror_mode": {
        "name": "ipython",
        "version": 3
      },
      "file_extension": ".py",
      "mimetype": "text/x-python",
      "name": "python",
      "nbconvert_exporter": "python",
      "pygments_lexer": "ipython3",
      "version": "3.10.6"
    }
  },
  "nbformat": 4,
  "nbformat_minor": 0
}
