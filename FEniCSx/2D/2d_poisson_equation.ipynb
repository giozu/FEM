{
  "cells": [
    {
      "attachments": {},
      "cell_type": "markdown",
      "metadata": {
        "colab_type": "text",
        "id": "view-in-github"
      },
      "source": [
        "<a href=\"https://colab.research.google.com/github/giozu/FEniCS/blob/main/2D%20problems/2d_poisson_equation.ipynb\" target=\"_parent\"><img src=\"https://colab.research.google.com/assets/colab-badge.svg\" alt=\"Open In Colab\"/></a>"
      ]
    },
    {
      "attachments": {},
      "cell_type": "markdown",
      "metadata": {
        "id": "-Y1QQRGxGQoJ"
      },
      "source": [
        "## Equation and problem definition\n",
        "\n",
        "For a domain $\\Omega \\subset \\mathbb{R}^n$ with boundary $\\partial\n",
        "\\Omega = \\Gamma_{D} \\cup \\Gamma_{N}$, the Poisson equation with\n",
        "particular boundary conditions reads:\n",
        "\n",
        "$$\n",
        "\\begin{align}\n",
        "- \\nabla^{2} u &= f \\quad {\\rm in} \\ \\Omega, \\\\\n",
        "u &= 0 \\quad {\\rm on} \\ \\Gamma_{D}, \\\\\n",
        "\\nabla u \\cdot n &= g \\quad {\\rm on} \\ \\Gamma_{N}. \\\\\n",
        "\\end{align}\n",
        "$$\n",
        "\n",
        "where $f$ and $g$ are input data and $n$ denotes the outward directed\n",
        "boundary normal. The variational problem reads: find $u \\in V$ such\n",
        "that\n",
        "\n",
        "$$\n",
        "a(u, v) = L(v) \\quad \\forall \\ v \\in V,\n",
        "$$\n",
        "\n",
        "where $V$ is a suitable function space and\n",
        "\n",
        "$$\n",
        "\\begin{align}\n",
        "a(u, v) &:= \\int_{\\Omega} \\nabla u \\cdot \\nabla v \\, {\\rm d} x, \\\\\n",
        "L(v)    &:= \\int_{\\Omega} f v \\, {\\rm d} x + \\int_{\\Gamma_{N}} g v \\, {\\rm d} s.\n",
        "\\end{align}\n",
        "$$\n",
        "\n",
        "The expression $a(u, v)$ is the bilinear form and $L(v)$\n",
        "is the linear form. It is assumed that all functions in $V$\n",
        "satisfy the Dirichlet boundary conditions ($u = 0 \\ {\\rm on} \\\n",
        "\\Gamma_{D}$).\n",
        "\n",
        "In this exercise, we consider:\n",
        "\n",
        "- $\\Omega = [0,2] \\times [0,1]$ (a rectangle)\n",
        "- $\\Gamma_{D} = \\partial \\Omega\\$\n",
        "- $f = 1.0$\n"
      ]
    },
    {
      "attachments": {},
      "cell_type": "markdown",
      "metadata": {
        "id": "EkcHVEDtHQyz"
      },
      "source": [
        "## Implementation\n",
        "\n",
        "The modules that will be used are imported:"
      ]
    },
    {
      "cell_type": "code",
      "execution_count": 1,
      "metadata": {
        "colab": {
          "base_uri": "https://localhost:8080/"
        },
        "id": "0xApXXY4_gM-",
        "outputId": "53d91ee9-eb1a-4d2d-f183-47d069949c7e"
      },
      "outputs": [],
      "source": [
        "import numpy as np\n",
        "\n",
        "import ufl\n",
        "from dolfinx import fem, io, mesh, plot\n",
        "from ufl import ds, dx, grad, inner\n",
        "\n",
        "from mpi4py import MPI\n",
        "from petsc4py.PETSc import ScalarType"
      ]
    },
    {
      "attachments": {},
      "cell_type": "markdown",
      "metadata": {
        "id": "6eRYeRPiHTyy"
      },
      "source": [
        "## Initializing notebook plotting\n",
        "When running a python notebook, a special line is necessary to show the plots."
      ]
    },
    {
      "cell_type": "code",
      "execution_count": 2,
      "metadata": {
        "id": "aHunEITwHdEJ"
      },
      "outputs": [],
      "source": [
        "%matplotlib inline"
      ]
    },
    {
      "attachments": {},
      "cell_type": "markdown",
      "metadata": {},
      "source": [
        "## Mesh generation and functional spaces\n",
        "We create a rectangular {py:class}`Mesh <dolfinx.mesh.Mesh>` using\n",
        "{py:func}`create_rectangle <dolfinx.mesh.create_rectangle>`, and\n",
        "create a finite element {py:class}`FunctionSpace\n",
        "<dolfinx.fem.FunctionSpace>` $V$ on the mesh.\n",
        "\n",
        "The second argument to {py:class}`FunctionSpace\n",
        "<dolfinx.fem.FunctionSpace>` is a tuple `(family, degree)`, where\n",
        "`family` is the finite element family, and `degree` specifies the\n",
        "polynomial degree. In this case `V` is a space of continuous Lagrange\n",
        "finite elements of degree 1.\n",
        "\n",
        "To apply the Dirichlet boundary conditions, we find the mesh facets\n",
        "(entities of topological co-dimension 1) that lie on the boundary\n",
        "$\\Gamma_D$ using {py:func}`locate_entities_boundary\n",
        "<dolfinx.mesh.locate_entities_boundary>`. The function is provided\n",
        "with a 'marker' function that returns `True` for points `x` on the\n",
        "boundary and `False` otherwise.\n",
        "\n",
        "We now find the degrees-of-freedom that are associated with the\n",
        "boundary facets using {py:func}`locate_dofs_topological\n",
        "<dolfinx.fem.locate_dofs_topological>`:\n",
        "\n",
        "and use {py:func}`dirichletbc <dolfinx.fem.dirichletbc>` to create a\n",
        "{py:class}`DirichletBCMetaClass <dolfinx.fem.DirichletBCMetaClass>`\n",
        "class that represents the boundary condition:"
      ]
    },
    {
      "cell_type": "code",
      "execution_count": 3,
      "metadata": {},
      "outputs": [],
      "source": [
        "# msh = mesh.create_rectangle(comm=MPI.COMM_WORLD,\n",
        "#                             points=((0.0, 0.0), (2.0, 1.0)), n=(32, 16),\n",
        "#                             cell_type=mesh.CellType.triangle,)\n",
        "\n",
        "msh = mesh.create_unit_square(MPI.COMM_WORLD, 12, 12, mesh.CellType.quadrilateral)\n",
        "\n",
        "V = fem.FunctionSpace(msh, (\"Lagrange\", 1))\n",
        "\n",
        "# Create facet to cell connectivity required to determine boundary facets\n",
        "tdim = msh.topology.dim\n",
        "fdim = tdim - 1\n",
        "msh.topology.create_connectivity(fdim, tdim)\n",
        "\n",
        "# facets = mesh.locate_entities_boundary(msh, dim=(msh.topology.dim - 1),\n",
        "#                                        marker=lambda x: np.logical_or(np.isclose(x[0], 0.0),\n",
        "#                                                                       np.isclose(x[0], 2.0)))\n",
        "\n",
        "facets = mesh.exterior_facet_indices(msh.topology)\n",
        "dofs = fem.locate_dofs_topological(V=V, entity_dim=1, entities=facets)\n",
        "bc = fem.dirichletbc(value=ScalarType(0), dofs=dofs, V=V)\n"
      ]
    },
    {
      "attachments": {},
      "cell_type": "markdown",
      "metadata": {},
      "source": [
        "## Variational problem solution\n",
        "The variational problem is defined:\n",
        "\n",
        "A {py:class}`LinearProblem <dolfinx.fem.LinearProblem>` object is\n",
        "created that brings together the variational problem, the Dirichlet\n",
        "boundary condition, and which specifies the linear solver. In this\n",
        "case an LU solver us sued. The {py:func}`solve\n",
        "<dolfinx.fem.LinearProblem.solve>` computes the solution."
      ]
    },
    {
      "cell_type": "code",
      "execution_count": 4,
      "metadata": {},
      "outputs": [],
      "source": [
        "u = ufl.TrialFunction(V)\n",
        "v = ufl.TestFunction(V)\n",
        "x = ufl.SpatialCoordinate(msh)\n",
        "# f = 10 * ufl.exp(-((x[0] - 0.5) ** 2 + (x[1] - 0.5) ** 2) / 0.02)\n",
        "f = 10.0\n",
        "# g = ufl.sin(5 * x[0])\n",
        "a = inner(grad(u), grad(v)) * dx\n",
        "L = inner(f, v) * dx # + inner(g, v) * ds\n",
        "\n",
        "problem = fem.petsc.LinearProblem(a, L, bcs=[bc], petsc_options={\"ksp_type\": \"preonly\", \"pc_type\": \"lu\"})\n",
        "uh = problem.solve()\n",
        "\n",
        "# The solution can be written to a {py:class}`XDMFFile\n",
        "# <dolfinx.io.XDMFFile>` file visualization with ParaView or VisIt:\n",
        "\n",
        "with io.XDMFFile(msh.comm, \"out_poisson/poisson.xdmf\", \"w\") as file:\n",
        "    file.write_mesh(msh)\n",
        "    file.write_function(uh)"
      ]
    },
    {
      "attachments": {},
      "cell_type": "markdown",
      "metadata": {
        "id": "klZg27UU2Wo1"
      },
      "source": [
        "## Visualization\n",
        "displayed using [pyvista](https://docs.pyvista.org/).\n"
      ]
    },
    {
      "cell_type": "code",
      "execution_count": 5,
      "metadata": {
        "colab": {
          "base_uri": "https://localhost:8080/",
          "height": 435
        },
        "id": "_HYGOiVm2a7Y",
        "outputId": "1793c511-213d-429b-9ed3-e72305e889f4"
      },
      "outputs": [],
      "source": [
        "# try:\n",
        "#     import pyvista\n",
        "#     cells, types, x = plot.create_vtk_mesh(V)\n",
        "#     grid = pyvista.UnstructuredGrid(cells, types, x)\n",
        "#     grid.point_data[\"u\"] = uh.x.array.real\n",
        "#     grid.set_active_scalars(\"u\")\n",
        "#     plotter = pyvista.Plotter()\n",
        "#     plotter.add_mesh(grid, show_edges=True)\n",
        "#     warped = grid.warp_by_scalar()\n",
        "#     plotter.add_mesh(warped)\n",
        "#     if pyvista.OFF_SCREEN:\n",
        "#         pyvista.start_xvfb(wait=0.1)\n",
        "#         plotter.screenshot(\"uh_poisson.png\")\n",
        "#     else:\n",
        "#         plotter.show()\n",
        "\n",
        "# except ModuleNotFoundError:\n",
        "#     print(\"'pyvista' is required to visualise the solution\")\n",
        "#     print(\"Install 'pyvista' with pip: 'python3 -m pip install pyvista'\")\n"
      ]
    },
    {
      "attachments": {},
      "cell_type": "markdown",
      "metadata": {},
      "source": [
        "## Curve plots throughout the mesh\n",
        "It is possible to plot the solution along a line. Let's consider $x=0$. First, we define a set of point along the $y$-axis, then we evaluate the finite element solution $u$ at these points."
      ]
    },
    {
      "attachments": {},
      "cell_type": "markdown",
      "metadata": {},
      "source": [
        "The finite element function is the linear combination of all degrees of freedom, $u_h = \\Sum_{i=1}^N c_i \\phi_i(x), where $c_i$ are the coefficients of $u_i$ and $\\phi_i$ are the the basis function. We can compute the exact solution at any point in $\\Omega$. However, as a mesh consists of a large set of degrees of freedom (i.e. $N$ is large), we want to reduce the number of evaluations of the basis functions $\\phi_i(x)$. We do this by identifying which cell of the mesh is in. This is efficiently done by creating a bounding box tree of the cells of the mesh, allowing a quick recursive search through the mesh entities."
      ]
    },
    {
      "attachments": {},
      "cell_type": "markdown",
      "metadata": {},
      "source": [
        "We now got a list of points on the processor, on in which cell each point belongs. We can then call uh.eval and pressure.eval to obtain the set of values for all the points."
      ]
    },
    {
      "cell_type": "code",
      "execution_count": 6,
      "metadata": {},
      "outputs": [
        {
          "data": {
            "text/plain": [
              "<matplotlib.legend.Legend at 0x7f120f6846d0>"
            ]
          },
          "execution_count": 6,
          "metadata": {},
          "output_type": "execute_result"
        },
        {
          "data": {
            "image/png": "[encoded data removed]",
            "text/plain": [
              "<Figure size 640x480 with 1 Axes>"
            ]
          },
          "metadata": {},
          "output_type": "display_data"
        }
      ],
      "source": [
        "from dolfinx import geometry\n",
        "\n",
        "points = np.zeros((3, 101))\n",
        "\n",
        "points[0] = np.linspace(0, 1, 101)\n",
        "points[1] = np.linspace(0, 1, 101)\n",
        "\n",
        "u_values = []\n",
        "cells = []\n",
        "points_on_proc = []\n",
        "\n",
        "bb_tree = geometry.BoundingBoxTree(msh, msh.topology.dim)\n",
        "\n",
        "cell_candidates = geometry.compute_collisions(bb_tree, points.T)\n",
        "colliding_cells = geometry.compute_colliding_cells(msh, cell_candidates, points.T)\n",
        "\n",
        "for i, point in enumerate(points.T):\n",
        "    if len(colliding_cells.links(i))>0:\n",
        "        points_on_proc.append(point)\n",
        "        cells.append(colliding_cells.links(i)[0])\n",
        "        \n",
        "points_on_proc = np.array(points_on_proc, dtype=np.float64)\n",
        "u_values = uh.eval(points_on_proc, cells)\n",
        "\n",
        "import matplotlib.pyplot as plt\n",
        "fig = plt.figure()\n",
        "plt.plot(points_on_proc[:,1], u_values, \"k\", linewidth=2, label=\"Deflection ($\\\\times 50$)\")\n",
        "plt.grid(True)\n",
        "plt.xlabel(\"y\")\n",
        "plt.legend()"
      ]
    },
    {
      "attachments": {},
      "cell_type": "markdown",
      "metadata": {},
      "source": [
        "## Evaluate the gradient of the solution"
      ]
    },
    {
      "cell_type": "code",
      "execution_count": 26,
      "metadata": {},
      "outputs": [
        {
          "data": {
            "application/vnd.jupyter.widget-view+json": {
              "model_id": "82c58e6a9d874a289f3b54dd0b833409",
              "version_major": 2,
              "version_minor": 0
            },
            "text/plain": [
              "Widget(value=\"<iframe src='http://localhost:34293/index.html?ui=P_0x7f120ee357b0_0&reconnect=auto' style='widt…"
            ]
          },
          "metadata": {},
          "output_type": "display_data"
        }
      ],
      "source": [
        "from dolfinx import fem\n",
        "\n",
        "grad_u_expr = fem.Expression(grad(uh)[0], V.element.interpolation_points()) # d/dx\n",
        "grad_u = fem.Function(V)\n",
        "grad_u.interpolate(grad_u_expr)\n",
        "\n",
        "\n",
        "import pyvista\n",
        "u_topology, u_cell_types, u_geometry = plot.create_vtk_mesh(V)\n",
        "\n",
        "u_grid = pyvista.UnstructuredGrid(u_topology, u_cell_types, u_geometry)\n",
        "u_grid.point_data[\"u\"] = uh.x.array.real\n",
        "u_grid.set_active_scalars(\"u\")\n",
        "u_plotter = pyvista.Plotter()\n",
        "u_plotter.add_mesh(u_grid, show_edges=True)\n",
        "u_plotter.view_xy()\n",
        "if not pyvista.OFF_SCREEN:\n",
        "    u_plotter.show()\n"
      ]
    },
    {
      "cell_type": "code",
      "execution_count": 27,
      "metadata": {},
      "outputs": [
        {
          "data": {
            "application/vnd.jupyter.widget-view+json": {
              "model_id": "9741eaaffed747c1931b2e8f8d601c4f",
              "version_major": 2,
              "version_minor": 0
            },
            "text/plain": [
              "Widget(value=\"<iframe src='http://localhost:34293/index.html?ui=P_0x7f11ff7f5510_1&reconnect=auto' style='widt…"
            ]
          },
          "metadata": {},
          "output_type": "display_data"
        }
      ],
      "source": [
        "u_topology, u_cell_types, u_geometry = plot.create_vtk_mesh(V)\n",
        "\n",
        "u_grid = pyvista.UnstructuredGrid(u_topology, u_cell_types, u_geometry)\n",
        "u_grid.point_data[\"u\"] = grad_u.x.array.real\n",
        "u_grid.set_active_scalars(\"u\")\n",
        "u_plotter = pyvista.Plotter()\n",
        "u_plotter.add_mesh(u_grid, show_edges=True)\n",
        "u_plotter.view_xy()\n",
        "if not pyvista.OFF_SCREEN:\n",
        "    u_plotter.show()"
      ]
    },
    {
      "cell_type": "code",
      "execution_count": 28,
      "metadata": {},
      "outputs": [
        {
          "data": {
            "text/plain": [
              "<matplotlib.legend.Legend at 0x7f120145f190>"
            ]
          },
          "execution_count": 28,
          "metadata": {},
          "output_type": "execute_result"
        },
        {
          "data": {
            "image/png": "[encoded data removed]",
            "text/plain": [
              "<Figure size 640x480 with 1 Axes>"
            ]
          },
          "metadata": {},
          "output_type": "display_data"
        }
      ],
      "source": [
        "from dolfinx import geometry\n",
        "\n",
        "points = np.zeros((3, 101))\n",
        "\n",
        "points[0] = np.zeros(101)\n",
        "points[1] = np.linspace(0, 1, 101)\n",
        "\n",
        "u_values = []\n",
        "cells = []\n",
        "points_on_proc = []\n",
        "\n",
        "bb_tree = geometry.BoundingBoxTree(msh, msh.topology.dim)\n",
        "\n",
        "cell_candidates = geometry.compute_collisions(bb_tree, points.T)\n",
        "colliding_cells = geometry.compute_colliding_cells(msh, cell_candidates, points.T)\n",
        "\n",
        "for i, point in enumerate(points.T):\n",
        "    if len(colliding_cells.links(i))>0:\n",
        "        points_on_proc.append(point)\n",
        "        cells.append(colliding_cells.links(i)[0])\n",
        "        \n",
        "points_on_proc = np.array(points_on_proc, dtype=np.float64)\n",
        "u_values = grad_u.eval(points_on_proc, cells)\n",
        "\n",
        "import matplotlib.pyplot as plt\n",
        "fig = plt.figure()\n",
        "plt.plot(points_on_proc[:,1], u_values, \"k\", linewidth=2, label=\"Deflection ($\\\\times 50$)\")\n",
        "plt.grid(True)\n",
        "plt.xlabel(\"y\")\n",
        "plt.legend()"
      ]
    }
  ],
  "metadata": {
    "colab": {
      "authorship_tag": "ABX9TyNI2fGsm0zDirRlq8ljHV/x",
      "collapsed_sections": [
        "EkcHVEDtHQyz",
        "6eRYeRPiHTyy",
        "fLTBUVsCHg92",
        "Y1zmMY2UH1Wa",
        "meDFvI4lIWJ7"
      ],
      "include_colab_link": true,
      "provenance": []
    },
    "kernelspec": {
      "display_name": "Python 3",
      "name": "python3"
    },
    "language_info": {
      "codemirror_mode": {
        "name": "ipython",
        "version": 3
      },
      "file_extension": ".py",
      "mimetype": "text/x-python",
      "name": "python",
      "nbconvert_exporter": "python",
      "pygments_lexer": "ipython3",
      "version": "3.10.6"
    }
  },
  "nbformat": 4,
  "nbformat_minor": 0
}
