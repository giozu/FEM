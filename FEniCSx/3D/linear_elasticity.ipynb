{
 "cells": [
  {
   "attachments": {},
   "cell_type": "markdown",
   "metadata": {},
   "source": [
    "# Linear elasticity\n",
    "\n",
    "Whenever a force or a load is applied to a solid, the body deforms. Stress analysis relate loads and deformations. Elasticity theory deals with small (reversible) deformations, i.e., the body returns to its original size and shape when the load is removed. Within this range, the distances between atoms in the solid, or, alternatively, the atom–atom bonds, are stretched or compressed, but not broken. In order to remain in the elastic range, the fractional changes in interatomic distances (on a microscopic scale) or in the body’s gross dimensions (on a macroscopic scale) must be less than 0.2%. When loads or deformations exceed the elastic range, the changes in the shape of the body are not recovered when the load is removed. This type of irreversible deformation is defined plastic deformation. On a microscopic level, atomic bonds are broken and new bonds are formed. The maximum extent of plastic deformation is breakage or fracture of the material. Instead of load (or force) and deformation, elasticity theory utilizes the related quantities stress and strain. \n",
    "\n",
    "## Problem equations\n",
    "The equations governing the linear elastic problem for an isotropic body $\\Omega$ can be written as:\n",
    "\n",
    "$$\n",
    "\\begin{align}\n",
    "    &\\nabla \\cdot \\sigma + f = 0, && \\quad \\text{equilibrium condition} \\\\\n",
    "    &\\sigma= \\lambda \\mathrm{tr}(\\epsilon)I + 2 \\mu \\epsilon, &&\\quad \\text{constitutive equation} \\\\\n",
    "    &\\epsilon= \\frac{1}{2}\\left(\\nabla u + (\\nabla u )^T\\right), && \\quad \\text{strain compatibility equation}\n",
    "\\end{align}\n",
    "$$\n",
    "\n",
    "where $\\sigma$ is the stress tensor, $f$ is the body force per unit volume, $\\lambda$ and $\\mu$ are Lamé parameters for the material in $\\Omega$, $I$ is the identity tensor, $\\mathrm{tr}$ is the trace operator on a tensor, $\\epsilon$ is the symmetric strain tensor, and $u$ is the displacement vector field.\n",
    "\n",
    "By using the strain compatibility equation in the constitutive equation, we get:\n",
    "$$\n",
    "\\begin{align}\n",
    "    \\sigma &= \\lambda(\\nabla \\cdot u)I + \\mu(\\nabla u + (\\nabla u)^T)\n",
    "\\end{align}\n",
    "$$\n",
    "\n",
    "Note that we could have written the PDE above as a single vector PDE for $u$, which is the governing PDE for the unknown $u$ (Navier's) equation. However, it is convenient to keep the current representation of the PDE for the derivation of the variational formulation.\n",
    "\n",
    "## The variational formulation\n",
    "The variational formulation of the PDE consists of forming the inner product of the PDE with a *vector* test function $v\\in\\hat{V}$, where $\\hat{V}$ is a vector-valued test function space, and integrating over the domain $\\Omega$:\n",
    "$$\n",
    "\\begin{align}\n",
    "    -\\int_{\\Omega}(\\nabla \\cdot \\sigma)\\cdot v ~\\mathrm{d} x = \\int_{\\Omega} f\\cdot v ~\\mathrm{d} x.\n",
    "\\end{align}\n",
    "$$ù\n",
    "\n",
    "Since $\\nabla \\cdot \\sigma$ contains second-order derivatives of our unknown $u$, we integrate this term by parts\n",
    "$$\n",
    "    -\\int_{\\Omega}(\\nabla \\cdot \\sigma)\\cdot v ~\\mathrm{d} x =\\int_{\\Omega}\\sigma : \\nabla v ~\\mathrm{d}x - \\int_{\\partial\\Omega} (\\sigma \\cdot n)\\cdot v~\\mathrm{d}x,\n",
    "$$\n",
    "\n",
    "where the colon operator is the inner product between tensors (summed pairwise product of all elements), and $n$ is the outward unit normal at the boundary. The quantity $\\sigma \\cdot n$ is known as the *traction* or stress vector at the boundary, and often prescribed as a boundary condition. We here assume that it is prescribed on a part $\\partial \\Omega_T$ of the boundary as $\\sigma \\cdot n=T$. On the remaining part of the boundary, we assume that the value of the displacement is given as Dirichlet condition (and hence the boundary integral on those boundaries are $0$). We thus obtain:\n",
    "$$\n",
    "    \\int_{\\Omega} \\sigma : \\nabla v ~\\mathrm{d} x = \\int_{\\Omega} f\\cdot v ~\\mathrm{d} x + \\int_{\\partial\\Omega_T}Tv~\\mathrm{d} s.\n",
    "$$\n",
    "\n",
    "If we now insert for $\\sigma$ its representation with the unknown $u$, we can obtain our variational formulation: Find $u\\in V$ such that \n",
    "$$\n",
    "    a(u,v) = L(v)\\qquad  \\forall v \\in \\hat{V},\n",
    "$$\n",
    "\n",
    "where\n",
    "$$\n",
    "\\begin{align}\n",
    "    a(u,v)&=\\int_{\\Omega}\\sigma(u):\\nabla v ~\\mathrm{d}x\\\\\n",
    "    \\sigma(u)&=\\lambda(\\nabla \\cdot u)I+\\mu (\\nabla u + (\\nabla u)^T)\\\\\n",
    "    L(v)&=\\int_{\\Omega}f\\cdot v~\\mathrm{d} x + \\int_{\\partial\\Omega_T}T\\cdot v~\\mathrm{d}s\n",
    "\\end{align}\n",
    "$$\n",
    "\n",
    "One can show that the inner product of a symmetric tensor $A$ and an anti-symmetric tensor $B$ vanishes. If we express $\\nabla v$ as a sum of its symmetric and anti-symmetric parts, only the symmetric part will survive in the product $\\sigma : \\nabla v$ since $\\sigma$ is a symmetric tensor. Thus replacing $\\nabla v$ by the symmetric gradient $\\epsilon(v)$ gives rise to a slightly different variational form\n",
    "$$\n",
    "\n",
    "    a(u,v)= \\int_{\\Omega}\\sigma(u):\\epsilon(v)~\\mathrm{d} x,\n",
    "$$\n",
    "where $\\epsilon(v)$ is the symmetric part of $\\nabla v$:\n",
    "$$\n",
    "    \\epsilon(v)=\\frac{1}{2}\\left(\\nabla v + (\\nabla v)^T\\right)\n",
    "$$\n",
    "The formulation is what naturally arises from minimization of elastic potential energy and is a more popular formulation than the original formulation."
   ]
  },
  {
   "attachments": {},
   "cell_type": "markdown",
   "metadata": {},
   "source": [
    "## Implementation\n",
    "The modules that will be used are imported:"
   ]
  },
  {
   "cell_type": "code",
   "execution_count": 124,
   "metadata": {},
   "outputs": [],
   "source": [
    "import numpy as np\n",
    "\n",
    "import ufl\n",
    "from ufl import ds, dx, grad, inner\n",
    "\n",
    "from dolfinx import fem, io, mesh, plot\n",
    "from dolfinx.io import gmshio # to import gmsh functions\n",
    "from dolfinx import geometry # to define the line plot\n",
    "\n",
    "from mpi4py import MPI\n",
    "\n",
    "# from petsc4py import PETSc\n",
    "from petsc4py.PETSc import ScalarType\n",
    "\n",
    "import matplotlib.pyplot as plt"
   ]
  },
  {
   "attachments": {},
   "cell_type": "markdown",
   "metadata": {},
   "source": [
    "### Class definition"
   ]
  },
  {
   "cell_type": "code",
   "execution_count": 125,
   "metadata": {},
   "outputs": [],
   "source": [
    "class linear_elasticty():\n",
    "    def __init__(self):\n",
    "        # Domain\n",
    "        self.domain = mesh.create_box(MPI.COMM_WORLD, [np.array([0,0,0]), np.array([1, 0.2, 0.2])], [20, 6, 6], cell_type=mesh.CellType.hexahedron)\n",
    "        # self.domain, __, __ = gmshio.read_from_msh(\"pipeMesh.msh\", MPI.COMM_WORLD, gdim = 3)\n",
    "        self.tdim = self.domain.topology.dim\n",
    "        self.fdim = self.tdim - 1\n",
    "        # self.domain.topology.create_connectivity(self.fdim, self.tdim)\n",
    "\n",
    "        # Functional spaces\n",
    "        # self.P1 = ufl.FiniteElement(\"Lagrange\", self.domain.ufl_cell(), 1)\n",
    "        # self.V = fem.FunctionSpace(self.domain, self.P1)\n",
    "        self.V = fem.VectorFunctionSpace(self.domain, (\"CG\", 1))\n",
    "\n",
    "        # Test and trial functions\n",
    "        self.traction = fem.Constant(self.domain, ScalarType((0, 0, 0)))\n",
    "        self.ds = ufl.Measure(\"ds\", domain=self.domain)\n",
    "        self.u = ufl.TrialFunction(self.V)\n",
    "        self.v = ufl.TestFunction(self.V)\n",
    "\n",
    "    def parameters(self, rho, g, lambda_, mu):\n",
    "        self.rho = rho\n",
    "        self.g = g\n",
    "        self.lambda_ = lambda_\n",
    "        self.mu = mu\n",
    "\n",
    "    def boundaryConditions(self, bc):\n",
    "        def boundary(x):\n",
    "            return np.isclose(x[0], 0)\n",
    "\n",
    "        self.facets = mesh.locate_entities_boundary(self.domain, self.fdim, boundary)\n",
    "        self.dofs = fem.locate_dofs_topological(V=self.V, entity_dim=self.fdim, entities=self.facets)\n",
    "        self.bc = fem.dirichletbc(value=bc, dofs=self.dofs, V=self.V)\n",
    "\n",
    "    def assemble(self):\n",
    "        def sigma(u, lambda_, mu):\n",
    "            return lambda_ * ufl.nabla_div(u) * ufl.Identity(len(u)) + 2*mu*epsilon(u)\n",
    "\n",
    "        def epsilon(u):\n",
    "            return ufl.sym(ufl.grad(u)) # Equivalent to 0.5*(ufl.nabla_grad(u) + ufl.nabla_grad(u).T)\n",
    "\n",
    "        self.f = fem.Constant(self.domain, ScalarType((0, 0, - self.rho * self.g)))\n",
    "        self.a = ufl.inner(sigma(self.u, self.lambda_, self.mu), epsilon(self.v)) * ufl.dx\n",
    "        self.L = ufl.dot(self.f, self.v) * ufl.dx + ufl.dot(self.traction, self.v) * self.ds\n",
    "\n",
    "    def solve(self):\n",
    "        self.problem = fem.petsc.LinearProblem(self.a, self.L, bcs=[self.bc], petsc_options={\"ksp_type\": \"preonly\", \"pc_type\": \"lu\"})\n",
    "        self.solution = self.problem.solve()\n",
    "\n",
    "        def sigma(u, lambda_, mu):\n",
    "            return lambda_ * ufl.nabla_div(u) * ufl.Identity(len(u)) + 2*mu*epsilon(u)\n",
    "\n",
    "        def epsilon(u):\n",
    "            return ufl.sym(ufl.grad(u)) # Equivalent to 0.5*(ufl.nabla_grad(u) + ufl.nabla_grad(u).T)\n",
    "        \n",
    "        self.stressField = sigma(self.solution, self.lambda_, self.mu)\n",
    "        self.strainField = epsilon(self.solution)                \n",
    "\n",
    "        return self.solution"
   ]
  },
  {
   "attachments": {},
   "cell_type": "markdown",
   "metadata": {},
   "source": [
    "Problem solution"
   ]
  },
  {
   "cell_type": "code",
   "execution_count": 126,
   "metadata": {},
   "outputs": [],
   "source": [
    "# Scaled variable\n",
    "L = 1\n",
    "W = 0.2\n",
    "mu = 1\n",
    "rho = 1\n",
    "delta = W/L\n",
    "gamma = 0.4*delta**2\n",
    "beta = 1.25\n",
    "lambda_ = beta\n",
    "g = gamma\n",
    "u_D = np.array([0,0,0], dtype=ScalarType) # boundary condition\n",
    "\n",
    "problem = linear_elasticty()\n",
    "problem.parameters(rho, g, lambda_, mu)\n",
    "problem.boundaryConditions(u_D)\n",
    "problem.assemble()\n",
    "\n",
    "uh = problem.solve()"
   ]
  },
  {
   "attachments": {},
   "cell_type": "markdown",
   "metadata": {},
   "source": [
    "## Visualization\n",
    "displayed using [pyvista](https://docs.pyvista.org/).\n"
   ]
  },
  {
   "cell_type": "code",
   "execution_count": 127,
   "metadata": {},
   "outputs": [
    {
     "data": {
      "application/vnd.jupyter.widget-view+json": {
       "model_id": "5280fe2cc5a84de8971c1b68f4e9296e",
       "version_major": 2,
       "version_minor": 0
      },
      "text/plain": [
       "Widget(value=\"<iframe src='http://localhost:33135/index.html?ui=P_0x7fad61be0ac0_22&reconnect=auto' style='wid…"
      ]
     },
     "metadata": {},
     "output_type": "display_data"
    }
   ],
   "source": [
    "import pyvista\n",
    "pyvista.start_xvfb()\n",
    "\n",
    "# Create plotter and pyvista grid\n",
    "p = pyvista.Plotter()\n",
    "topology, cell_types, geometry = plot.create_vtk_mesh(problem.V)\n",
    "grid = pyvista.UnstructuredGrid(topology, cell_types, geometry)\n",
    "\n",
    "# Attach vector values to grid and warp grid by vector\n",
    "grid[\"u\"] = uh.x.array.reshape((geometry.shape[0], 3))\n",
    "actor_0 = p.add_mesh(grid, style=\"wireframe\", color=\"k\")\n",
    "warped = grid.warp_by_vector(\"u\", factor=1.5)\n",
    "actor_1 = p.add_mesh(warped, show_edges=True)\n",
    "p.show_axes()\n",
    "if not pyvista.OFF_SCREEN:\n",
    "   p.show()\n",
    "else:\n",
    "   figure_as_array = p.screenshot(\"deflection.png\")\n",
    "\n",
    "# We could also use Paraview for visualizing this. We save the solution with XDMFFile.\n",
    "# After opening the file deformation.xdmf in Paraview and pressing Apply, one can press the Warp by vector button Warp\n",
    "# by vector or go through the top menu (Filters->Alphabetical->Warp by Vector) and press Apply.\n",
    "# We can also change the color of the deformed beam by changing the value in the color menu color from Solid Color to Deformation.\n",
    "with io.XDMFFile(problem.domain.comm, \"deformation.xdmf\", \"w\") as xdmf:\n",
    "    xdmf.write_mesh(problem.domain)\n",
    "    uh.name = \"Deformation\"\n",
    "    xdmf.write_function(uh)"
   ]
  },
  {
   "attachments": {},
   "cell_type": "markdown",
   "metadata": {},
   "source": [
    "## Stress computation\n",
    "As soon as the displacement is computed, we can compute various stress measures. We will compute the von Mises stress defined as $\\sigma_m=\\sqrt{\\frac{3}{2}s:s}$ where $s$ is the deviatoric stress tensor $s(u)=\\sigma(u)-\\frac{1}{3}\\mathrm{tr}(\\sigma(u))I$."
   ]
  },
  {
   "cell_type": "code",
   "execution_count": 128,
   "metadata": {},
   "outputs": [
    {
     "data": {
      "application/vnd.jupyter.widget-view+json": {
       "model_id": "6bb1b913d14b474b9eaa334f4e531ee2",
       "version_major": 2,
       "version_minor": 0
      },
      "text/plain": [
       "Widget(value=\"<iframe src='http://localhost:33135/index.html?ui=P_0x7fae0f851960_23&reconnect=auto' style='wid…"
      ]
     },
     "metadata": {},
     "output_type": "display_data"
    }
   ],
   "source": [
    "deviatoric_stress = problem.stressField -1./3*ufl.tr(problem.stressField)*ufl.Identity(len(problem.solution))\n",
    "von_Mises = ufl.sqrt(3./2*ufl.inner(deviatoric_stress, deviatoric_stress))\n",
    "\n",
    "V_von_mises = fem.FunctionSpace(problem.domain, (\"DG\", 0))\n",
    "stress_expr = fem.Expression(von_Mises, V_von_mises.element.interpolation_points())\n",
    "stresses = fem.Function(V_von_mises)\n",
    "stresses.interpolate(stress_expr)\n",
    "\n",
    "warped.cell_data[\"VonMises\"] = stresses.vector.array\n",
    "warped.set_active_scalars(\"VonMises\")\n",
    "p = pyvista.Plotter()\n",
    "p.add_mesh(warped)\n",
    "p.show_axes()\n",
    "if not pyvista.OFF_SCREEN:\n",
    "   p.show()\n",
    "else:\n",
    "   stress_figure = p.screenshot(f\"stresses.png\")\n",
    "\n",
    "   "
   ]
  }
 ],
 "metadata": {
  "kernelspec": {
   "display_name": "Python 3",
   "language": "python",
   "name": "python3"
  },
  "language_info": {
   "codemirror_mode": {
    "name": "ipython",
    "version": 3
   },
   "file_extension": ".py",
   "mimetype": "text/x-python",
   "name": "python",
   "nbconvert_exporter": "python",
   "pygments_lexer": "ipython3",
   "version": "3.10.6"
  },
  "orig_nbformat": 4
 },
 "nbformat": 4,
 "nbformat_minor": 2
}
