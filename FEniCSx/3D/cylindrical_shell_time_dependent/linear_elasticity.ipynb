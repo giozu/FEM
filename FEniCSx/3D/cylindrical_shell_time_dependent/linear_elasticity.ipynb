{
 "cells": [
  {
   "cell_type": "code",
   "execution_count": 64,
   "metadata": {},
   "outputs": [],
   "source": [
    "import numpy as np\n",
    "\n",
    "import ufl\n",
    "from ufl import ds, dx, grad, inner\n",
    "\n",
    "from dolfinx import fem, io, mesh, plot, log\n",
    "from dolfinx.io import gmshio # to import gmsh functions\n",
    "from dolfinx import geometry # to define the line plot\n",
    "from dolfinx import default_scalar_type\n",
    "import dolfinx.fem.petsc\n",
    "from dolfinx.fem.petsc import NonlinearProblem\n",
    "from dolfinx.nls.petsc import NewtonSolver\n",
    "from mpi4py import MPI\n",
    "\n",
    "from petsc4py.PETSc import ScalarType\n",
    "\n",
    "import matplotlib.pyplot as plt"
   ]
  },
  {
   "cell_type": "code",
   "execution_count": 65,
   "metadata": {},
   "outputs": [],
   "source": [
    "class LinearElasticity:\n",
    "    def __init__(self, mesh_file, rank=0, gdim=3):\n",
    "        \"\"\"\n",
    "        Initialize the LinearElasticity class with the mesh file.\n",
    "\n",
    "        Parameters:\n",
    "        mesh_file (str): Path to the mesh file.\n",
    "        rank (int): Rank of the process (default is 0).\n",
    "        gdim (int): Geometric dimension of the mesh (default is 3).\n",
    "        \"\"\"\n",
    "        self.mesh_file = mesh_file\n",
    "        self.rank = rank\n",
    "        self.gdim = gdim\n",
    "        self._read_mesh()\n",
    "        self._setup_function_space()\n",
    "        self._initialize_functions()\n",
    "\n",
    "    def _read_mesh(self):\n",
    "        \"\"\"\n",
    "        Read the mesh and facet tags from the specified mesh file.\n",
    "        \"\"\"\n",
    "        try:\n",
    "            self.domain, self.tags, self.ft = gmshio.read_from_msh(self.mesh_file, MPI.COMM_WORLD, rank=self.rank, gdim=self.gdim)\n",
    "            self.tdim = self.domain.topology.dim\n",
    "            self.fdim = self.tdim - 1\n",
    "            self.domain.topology.create_connectivity(self.fdim, self.tdim)\n",
    "        except Exception as e:\n",
    "            raise ValueError(f\"Error reading mesh file {self.mesh_file}: {e}\")\n",
    "\n",
    "    def _setup_function_space(self):\n",
    "        \"\"\"\n",
    "        Set up the function space for the problem.\n",
    "        \"\"\"\n",
    "        # self.V = fem.functionspace(self.domain, (\"Lagrange\", 1, (self.domain.geometry.dim,)))\n",
    "        self.V = V = fem.functionspace(self.domain, (\"Lagrange\", 2, (self.domain.geometry.dim, )))\n",
    "\n",
    "    def _initialize_functions(self):\n",
    "        \"\"\"\n",
    "        Initialize trial and test functions.\n",
    "        \"\"\"\n",
    "        self.u = fem.Function(self.V)\n",
    "        self.v = ufl.TestFunction(self.V)\n",
    "\n",
    "    def parameters(self, rho, g, lmbda, mu):\n",
    "        \"\"\"\n",
    "        Set material and physical parameters.\n",
    "\n",
    "        Parameters:\n",
    "        rho (float): Density.\n",
    "        g (float): Gravitational acceleration.\n",
    "        lmbda (float): First Lamé parameter.\n",
    "        mu (float): Second Lamé parameter.\n",
    "        \"\"\"\n",
    "        self.rho = rho\n",
    "        self.g = g\n",
    "        self.lmbda = lmbda\n",
    "        self.mu = mu\n",
    "\n",
    "    def boundary_conditions(self, internal_pressure, outer_pressure):\n",
    "        \"\"\"\n",
    "        Define and set the boundary conditions.\n",
    "        \"\"\"\n",
    "        \n",
    "        # Locate dofs for Dirichlet boundary conditions\n",
    "        self.dofs_D_top     = fem.locate_dofs_topological(V=self.V, entity_dim=self.fdim, entities=self.ft.find(7))\n",
    "        self.dofs_D_bottom  = fem.locate_dofs_topological(V=self.V, entity_dim=self.fdim, entities=self.ft.find(8))\n",
    "        self.dofs_D_outer   = fem.locate_dofs_topological(V=self.V, entity_dim=self.fdim, entities=self.ft.find(9))\n",
    "        self.dofs_D_inner   = fem.locate_dofs_topological(V=self.V, entity_dim=self.fdim, entities=self.ft.find(10))\n",
    "\n",
    "        # Dirichlet boundary conditions\n",
    "        self.bc_top     = fem.dirichletbc(np.array([0, 0, 0], dtype=default_scalar_type), dofs=self.dofs_D_top, V=self.V)\n",
    "        self.bc_bottom  = fem.dirichletbc(np.array([0, 0, 0], dtype=default_scalar_type), dofs=self.dofs_D_bottom, V=self.V)\n",
    "        self.bc_outer   = fem.dirichletbc(np.array([0, 0, 0], dtype=default_scalar_type), dofs=self.dofs_D_outer, V=self.V)\n",
    "        self.bc_inner   = fem.dirichletbc(np.array([0, 0, 0], dtype=default_scalar_type), dofs=self.dofs_D_inner, V=self.V)\n",
    "\n",
    "        self.bc = [self.bc_top, self.bc_bottom]\n",
    "\n",
    "        # Neumann boundary conditions\n",
    "        self.normal = ufl.FacetNormal(self.domain)\n",
    "        self.pressure_inner = fem.Constant(self.domain, default_scalar_type(internal_pressure))\n",
    "        self.pressure_outer = fem.Constant(self.domain, default_scalar_type(outer_pressure))\n",
    "        \n",
    "        self.traction_inner = self.pressure_inner * self.normal\n",
    "        self.traction_outer = self.pressure_outer * self.normal\n",
    "\n",
    "    def assemble_system(self):\n",
    "        \"\"\"\n",
    "        Assemble the system for the linear elasticity problem.\n",
    "        \"\"\"\n",
    "        def sigma(u, lmbda, mu):\n",
    "            return lmbda * ufl.nabla_div(u) * ufl.Identity(len(u)) + 2 * mu * epsilon(u)\n",
    "\n",
    "        def epsilon(u):\n",
    "            return ufl.sym(ufl.grad(u))\n",
    "\n",
    "        # Body forces\n",
    "        self.f = fem.Constant(self.domain, ScalarType((0.0, 0.0, - self.rho * self.g)))\n",
    "\n",
    "        self.ds = ufl.Measure(\"ds\", domain=self.domain, subdomain_data=self.ft)\n",
    "        ds_in = self.ds(10)\n",
    "        ds_out = self.ds(9)\n",
    "\n",
    "        self.a = ufl.inner(sigma(self.u, self.lmbda, self.mu), epsilon(self.v)) * ufl.dx\n",
    "        self.L = ufl.dot(self.f, self.v) * ufl.dx + ufl.dot(self.traction_outer, self.v) * ds_out + ufl.dot(self.traction_inner, self.v) * ds_in\n",
    "\n",
    "        self.F = self.a - self.L\n",
    "\n",
    "    def solve(self):\n",
    "        \"\"\"\n",
    "        Solve the non linear elasticity problem.\n",
    "        \"\"\"       \n",
    "        self.nonLinearProblem = NonlinearProblem(self.F, self.u, self.bc)\n",
    "\n",
    "    def get_results(self):\n",
    "        \"\"\"\n",
    "        Get the computed displacement, stress, and strain fields.\n",
    "\n",
    "        Returns:\n",
    "        displacement (Function): The displacement field.\n",
    "        stress_field (ufl.Expr): The stress field.\n",
    "        strain_field (ufl.Expr): The strain field.\n",
    "        \"\"\"\n",
    "        return self.displacement, self.stress_field, self.strain_field"
   ]
  },
  {
   "cell_type": "code",
   "execution_count": 66,
   "metadata": {},
   "outputs": [
    {
     "name": "stdout",
     "output_type": "stream",
     "text": [
      "Young's modulus = 1.00 GPa\n",
      "Poisson's ratio =  0.33\n",
      "Shear modulus = 0.38 GPa\n",
      "Lamé first parameter = 0.73 GPa\n",
      "Lamé second parameter = 0.38 GPa\n",
      "Info    : Reading './cylindrical_shell.msh'...\n",
      "Info    : 15 entities\n",
      "Info    : 1386 nodes\n",
      "Info    : 7056 elements\n",
      "Info    : Done reading './cylindrical_shell.msh'\n",
      "---------\n",
      "Caclulated volume =  59.66881083605438\n",
      "Analytical volume = 59.660000000000004\n"
     ]
    },
    {
     "name": "stderr",
     "output_type": "stream",
     "text": [
      "2024-07-30 09:44:49.622 (1030.486s) [main            ]         graphbuild.cpp:356   INFO| Build local part of mesh dual graph\n",
      "2024-07-30 09:44:49.626 (1030.490s) [main            ]           ordering.cpp:204   INFO| GPS pseudo-diameter:(69) 2875-0\n",
      "2024-07-30 09:44:49.627 (1030.491s) [main            ]           Topology.cpp:1330  INFO| Create topology (single cell type)\n",
      "2024-07-30 09:44:49.627 (1030.491s) [main            ]           Topology.cpp:1044  INFO| Create topology (generalised)\n",
      "2024-07-30 09:44:49.627 (1030.492s) [main            ]                MPI.cpp:164   INFO| Computing communication graph edges (using NBX algorithm). Number of input edges: 1\n",
      "2024-07-30 09:44:49.627 (1030.492s) [main            ]                MPI.cpp:235   INFO| Finished graph edge discovery using NBX algorithm. Number of discovered edges 1\n",
      "2024-07-30 09:44:49.628 (1030.493s) [main            ]          partition.cpp:233   INFO| Compute ghost indices\n",
      "2024-07-30 09:44:49.628 (1030.493s) [main            ]                MPI.cpp:97    INFO| Computing communication graph edges (using PCX algorithm). Number of input edges: 0\n",
      "2024-07-30 09:44:49.628 (1030.493s) [main            ]                MPI.cpp:154   INFO| Finished graph edge discovery using PCX algorithm. Number of discovered edges 0\n",
      "2024-07-30 09:44:49.630 (1030.494s) [main            ]                MPI.cpp:164   INFO| Computing communication graph edges (using NBX algorithm). Number of input edges: 0\n",
      "2024-07-30 09:44:49.630 (1030.494s) [main            ]                MPI.cpp:235   INFO| Finished graph edge discovery using NBX algorithm. Number of discovered edges 0\n",
      "2024-07-30 09:44:49.630 (1030.494s) [main            ]                MPI.cpp:164   INFO| Computing communication graph edges (using NBX algorithm). Number of input edges: 0\n",
      "2024-07-30 09:44:49.630 (1030.494s) [main            ]                MPI.cpp:235   INFO| Finished graph edge discovery using NBX algorithm. Number of discovered edges 0\n",
      "2024-07-30 09:44:49.630 (1030.494s) [main            ]                  MPI.h:377   INFO| Number of neighbourhood source ranks in distribute_to_postoffice: 0\n",
      "2024-07-30 09:44:49.630 (1030.494s) [main            ]                MPI.cpp:164   INFO| Computing communication graph edges (using NBX algorithm). Number of input edges: 0\n",
      "2024-07-30 09:44:49.630 (1030.494s) [main            ]                MPI.cpp:235   INFO| Finished graph edge discovery using NBX algorithm. Number of discovered edges 0\n",
      "2024-07-30 09:44:49.630 (1030.494s) [main            ]                  MPI.h:518   INFO| Neighbourhood destination ranks from post office in distribute_data (rank, num dests, num dests/mpi_size): 0, 0, 0\n",
      "2024-07-30 09:44:49.630 (1030.494s) [main            ]      dofmapbuilder.cpp:166   INFO| Checking required entities per dimension\n",
      "2024-07-30 09:44:49.630 (1030.494s) [main            ]      dofmapbuilder.cpp:264   INFO| Cell type:0, dofmap:5040x4\n",
      "2024-07-30 09:44:49.630 (1030.495s) [main            ]      dofmapbuilder.cpp:320   INFO| Global index computation\n",
      "2024-07-30 09:44:49.630 (1030.495s) [main            ]      dofmapbuilder.cpp:637   INFO| Got 1 index_maps\n",
      "2024-07-30 09:44:49.630 (1030.495s) [main            ]      dofmapbuilder.cpp:644   INFO| Get global indices\n",
      "2024-07-30 09:44:49.631 (1030.495s) [main            ]         xdmf_utils.cpp:230   INFO| XDMF distribute entity data\n",
      "2024-07-30 09:44:49.631 (1030.496s) [main            ]                MPI.cpp:164   INFO| Computing communication graph edges (using NBX algorithm). Number of input edges: 1\n",
      "2024-07-30 09:44:49.631 (1030.496s) [main            ]                MPI.cpp:235   INFO| Finished graph edge discovery using NBX algorithm. Number of discovered edges 1\n",
      "2024-07-30 09:44:49.631 (1030.496s) [main            ]                MPI.cpp:164   INFO| Computing communication graph edges (using NBX algorithm). Number of input edges: 1\n",
      "2024-07-30 09:44:49.631 (1030.496s) [main            ]                MPI.cpp:235   INFO| Finished graph edge discovery using NBX algorithm. Number of discovered edges 1\n",
      "2024-07-30 09:44:49.632 (1030.496s) [main            ]         xdmf_utils.cpp:589   INFO| XDMF build map\n",
      "2024-07-30 09:44:49.634 (1030.498s) [main            ]topologycomputation.cpp:799   INFO| Requesting connectivity (3,0) - (0,0)\n",
      "2024-07-30 09:44:49.634 (1030.498s) [main            ]             MeshTags.h:142   INFO| Building MeshTags object from tagged entities (defined by vertices).\n",
      "2024-07-30 09:44:49.634 (1030.498s) [main            ]           Topology.cpp:1433  INFO| Build list of mesh entity indices from the entity vertices.\n",
      "2024-07-30 09:44:49.637 (1030.501s) [main            ]         xdmf_utils.cpp:230   INFO| XDMF distribute entity data\n",
      "2024-07-30 09:44:49.637 (1030.501s) [main            ]                MPI.cpp:164   INFO| Computing communication graph edges (using NBX algorithm). Number of input edges: 1\n",
      "2024-07-30 09:44:49.637 (1030.501s) [main            ]                MPI.cpp:235   INFO| Finished graph edge discovery using NBX algorithm. Number of discovered edges 1\n",
      "2024-07-30 09:44:49.637 (1030.501s) [main            ]                MPI.cpp:164   INFO| Computing communication graph edges (using NBX algorithm). Number of input edges: 1\n",
      "2024-07-30 09:44:49.637 (1030.501s) [main            ]                MPI.cpp:235   INFO| Finished graph edge discovery using NBX algorithm. Number of discovered edges 1\n",
      "2024-07-30 09:44:49.637 (1030.502s) [main            ]         xdmf_utils.cpp:589   INFO| XDMF build map\n",
      "2024-07-30 09:44:49.638 (1030.503s) [main            ]topologycomputation.cpp:748   INFO| Computing mesh entities of dimension 2\n",
      "2024-07-30 09:44:49.640 (1030.504s) [main            ]                MPI.cpp:164   INFO| Computing communication graph edges (using NBX algorithm). Number of input edges: 0\n",
      "2024-07-30 09:44:49.640 (1030.504s) [main            ]                MPI.cpp:235   INFO| Finished graph edge discovery using NBX algorithm. Number of discovered edges 0\n",
      "2024-07-30 09:44:49.640 (1030.504s) [main            ]topologycomputation.cpp:799   INFO| Requesting connectivity (2,0) - (3,0)\n",
      "2024-07-30 09:44:49.640 (1030.504s) [main            ]topologycomputation.cpp:870   INFO| Computing mesh connectivity 2 - 3 from transpose.\n",
      "2024-07-30 09:44:49.640 (1030.504s) [main            ]             MeshTags.h:142   INFO| Building MeshTags object from tagged entities (defined by vertices).\n",
      "2024-07-30 09:44:49.640 (1030.505s) [main            ]           Topology.cpp:1433  INFO| Build list of mesh entity indices from the entity vertices.\n",
      "2024-07-30 09:44:49.644 (1030.508s) [main            ]topologycomputation.cpp:799   INFO| Requesting connectivity (2,0) - (3,0)\n",
      "2024-07-30 09:44:49.646 (1030.511s) [main            ]topologycomputation.cpp:748   INFO| Computing mesh entities of dimension 1\n",
      "2024-07-30 09:44:49.648 (1030.512s) [main            ]                MPI.cpp:164   INFO| Computing communication graph edges (using NBX algorithm). Number of input edges: 0\n",
      "2024-07-30 09:44:49.648 (1030.512s) [main            ]                MPI.cpp:235   INFO| Finished graph edge discovery using NBX algorithm. Number of discovered edges 0\n",
      "2024-07-30 09:44:49.648 (1030.512s) [main            ]      dofmapbuilder.cpp:166   INFO| Checking required entities per dimension\n",
      "2024-07-30 09:44:49.648 (1030.512s) [main            ]      dofmapbuilder.cpp:264   INFO| Cell type:0, dofmap:5040x10\n",
      "2024-07-30 09:44:49.649 (1030.513s) [main            ]      dofmapbuilder.cpp:320   INFO| Global index computation\n",
      "2024-07-30 09:44:49.649 (1030.513s) [main            ]      dofmapbuilder.cpp:637   INFO| Got 2 index_maps\n",
      "2024-07-30 09:44:49.649 (1030.513s) [main            ]      dofmapbuilder.cpp:644   INFO| Get global indices\n",
      "2024-07-30 09:44:49.656 (1030.520s) [main            ]topologycomputation.cpp:799   INFO| Requesting connectivity (2,0) - (3,0)\n",
      "2024-07-30 09:44:49.656 (1030.520s) [main            ]topologycomputation.cpp:799   INFO| Requesting connectivity (3,0) - (2,0)\n",
      "2024-07-30 09:44:49.656 (1030.521s) [main            ]topologycomputation.cpp:799   INFO| Requesting connectivity (2,0) - (3,0)\n",
      "2024-07-30 09:44:49.656 (1030.521s) [main            ]topologycomputation.cpp:799   INFO| Requesting connectivity (3,0) - (2,0)\n",
      "2024-07-30 09:44:49.658 (1030.523s) [main            ]topologycomputation.cpp:799   INFO| Requesting connectivity (2,0) - (3,0)\n",
      "2024-07-30 09:44:49.659 (1030.523s) [main            ]topologycomputation.cpp:799   INFO| Requesting connectivity (3,0) - (2,0)\n",
      "2024-07-30 09:44:49.674 (1030.538s) [main            ]    SparsityPattern.cpp:385   INFO| Column ghost size increased from 0 to 0\n"
     ]
    }
   ],
   "source": [
    "# Scaled variable\n",
    "E = 1e9 # Pa\n",
    "nu = 0.33\n",
    "G = E / (2*(1+nu))\n",
    "lame1 = nu * E /((1+nu)*(1-2*nu))\n",
    "lame2 = G\n",
    "\n",
    "internal_pressure = -1e7\n",
    "outer_pressure = 0\n",
    "\n",
    "print(f\"Young's modulus = {E*1e-9:.2f} GPa\")\n",
    "print(f\"Poisson's ratio = \", nu)\n",
    "print(f\"Shear modulus = {G*1e-9:.2f} GPa\")\n",
    "print(f\"Lamé first parameter = {lame1*1e-9:.2f} GPa\")\n",
    "print(f\"Lamé second parameter = {lame2*1e-9:.2f} GPa\")\n",
    "\n",
    "rho = 9560 # kg/m3\n",
    "g = 9.81\n",
    "\n",
    "problem = LinearElasticity(mesh_file='./cylindrical_shell.msh')\n",
    "\n",
    "# Volume of the mesh = volume integral\n",
    "dx_subdomain = ufl.Measure(\"dx\", domain=problem.domain)\n",
    "volume = fem.assemble_scalar(fem.form(1 * dx_subdomain))\n",
    "print(\"---------\")\n",
    "print(f\"Caclulated volume = \", volume)\n",
    "print(f\"Analytical volume = {3.14*(5**2 - 4.5**2)*4}\")\n",
    "\n",
    "problem.parameters(rho, g / volume, lame1, lame2)\n",
    "problem.boundary_conditions(internal_pressure=internal_pressure, outer_pressure=outer_pressure)\n",
    "problem.assemble_system()\n",
    "problem.solve()\n",
    "\n",
    "# Set Newton solver options\n",
    "solver = NewtonSolver(MPI.COMM_WORLD, problem.nonLinearProblem)\n",
    "\n",
    "solver.atol = 1e-8\n",
    "solver.rtol = 1e-8\n",
    "solver.convergence_criterion = \"incremental\"\n",
    "\n"
   ]
  },
  {
   "cell_type": "code",
   "execution_count": 67,
   "metadata": {},
   "outputs": [
    {
     "name": "stderr",
     "output_type": "stream",
     "text": [
      "2024-07-30 09:44:52.758 (1033.623s) [main            ]      dofmapbuilder.cpp:166   INFO| Checking required entities per dimension\n",
      "2024-07-30 09:44:52.759 (1033.623s) [main            ]      dofmapbuilder.cpp:264   INFO| Cell type:0, dofmap:5040x10\n",
      "2024-07-30 09:44:52.760 (1033.624s) [main            ]      dofmapbuilder.cpp:320   INFO| Global index computation\n",
      "2024-07-30 09:44:52.760 (1033.624s) [main            ]      dofmapbuilder.cpp:637   INFO| Got 2 index_maps\n",
      "2024-07-30 09:44:52.760 (1033.624s) [main            ]      dofmapbuilder.cpp:644   INFO| Get global indices\n",
      "2024-07-30 09:44:52.936 (1033.800s) [main            ]              petsc.cpp:700   INFO| PETSc Krylov solver starting to solve system.\n",
      "2024-07-30 09:44:56.861 (1037.725s) [main            ]              petsc.cpp:700   INFO| PETSc Krylov solver starting to solve system.\n",
      "2024-07-30 09:45:00.312 (1041.176s) [main            ]       NewtonSolver.cpp:38    INFO| Newton iteration 2: r (abs) = 4.39089e-12 (tol = 1e-08) r (rel) = 2.53796e-13(tol = 1e-08)\n",
      "2024-07-30 09:45:00.312 (1041.176s) [main            ]       NewtonSolver.cpp:252   INFO| Newton solver finished in 2 iterations and 2 linear solver iterations.\n"
     ]
    },
    {
     "name": "stdout",
     "output_type": "stream",
     "text": [
      "Time step 1, Number of iterations 2\n"
     ]
    },
    {
     "name": "stderr",
     "output_type": "stream",
     "text": [
      "2024-07-30 09:45:00.796 (1041.660s) [main            ]              petsc.cpp:700   INFO| PETSc Krylov solver starting to solve system.\n",
      "2024-07-30 09:45:04.355 (1045.219s) [main            ]              petsc.cpp:700   INFO| PETSc Krylov solver starting to solve system.\n"
     ]
    },
    {
     "name": "stdout",
     "output_type": "stream",
     "text": [
      "Time step 2, Number of iterations 2\n"
     ]
    },
    {
     "name": "stderr",
     "output_type": "stream",
     "text": [
      "2024-07-30 09:45:07.734 (1048.599s) [main            ]       NewtonSolver.cpp:38    INFO| Newton iteration 2: r (abs) = 2.36664e-15 (tol = 1e-08) r (rel) = 0.913267(tol = 1e-08)\n",
      "2024-07-30 09:45:07.734 (1048.599s) [main            ]       NewtonSolver.cpp:252   INFO| Newton solver finished in 2 iterations and 2 linear solver iterations.\n",
      "2024-07-30 09:45:08.071 (1048.936s) [main            ]              petsc.cpp:700   INFO| PETSc Krylov solver starting to solve system.\n",
      "2024-07-30 09:45:11.612 (1052.477s) [main            ]              petsc.cpp:700   INFO| PETSc Krylov solver starting to solve system.\n",
      "2024-07-30 09:45:14.754 (1055.619s) [main            ]       NewtonSolver.cpp:38    INFO| Newton iteration 2: r (abs) = 2.37148e-15 (tol = 1e-08) r (rel) = 1.02394(tol = 1e-08)\n",
      "2024-07-30 09:45:14.754 (1055.619s) [main            ]       NewtonSolver.cpp:252   INFO| Newton solver finished in 2 iterations and 2 linear solver iterations.\n"
     ]
    },
    {
     "name": "stdout",
     "output_type": "stream",
     "text": [
      "Time step 3, Number of iterations 2\n"
     ]
    },
    {
     "name": "stderr",
     "output_type": "stream",
     "text": [
      "2024-07-30 09:45:15.089 (1055.953s) [main            ]              petsc.cpp:700   INFO| PETSc Krylov solver starting to solve system.\n",
      "2024-07-30 09:45:18.639 (1059.504s) [main            ]              petsc.cpp:700   INFO| PETSc Krylov solver starting to solve system.\n",
      "2024-07-30 09:45:21.971 (1062.835s) [main            ]       NewtonSolver.cpp:38    INFO| Newton iteration 2: r (abs) = 2.44281e-15 (tol = 1e-08) r (rel) = 0.995194(tol = 1e-08)\n",
      "2024-07-30 09:45:21.971 (1062.835s) [main            ]       NewtonSolver.cpp:252   INFO| Newton solver finished in 2 iterations and 2 linear solver iterations.\n"
     ]
    },
    {
     "name": "stdout",
     "output_type": "stream",
     "text": [
      "Time step 4, Number of iterations 2\n"
     ]
    },
    {
     "name": "stderr",
     "output_type": "stream",
     "text": [
      "2024-07-30 09:45:22.308 (1063.173s) [main            ]              petsc.cpp:700   INFO| PETSc Krylov solver starting to solve system.\n",
      "2024-07-30 09:45:25.791 (1066.656s) [main            ]              petsc.cpp:700   INFO| PETSc Krylov solver starting to solve system.\n",
      "2024-07-30 09:45:28.971 (1069.836s) [main            ]       NewtonSolver.cpp:38    INFO| Newton iteration 2: r (abs) = 2.30547e-15 (tol = 1e-08) r (rel) = 0.9417(tol = 1e-08)\n",
      "2024-07-30 09:45:28.971 (1069.836s) [main            ]       NewtonSolver.cpp:252   INFO| Newton solver finished in 2 iterations and 2 linear solver iterations.\n"
     ]
    },
    {
     "name": "stdout",
     "output_type": "stream",
     "text": [
      "Time step 5, Number of iterations 2\n"
     ]
    },
    {
     "name": "stderr",
     "output_type": "stream",
     "text": [
      "2024-07-30 09:45:29.311 (1070.175s) [main            ]              petsc.cpp:700   INFO| PETSc Krylov solver starting to solve system.\n",
      "2024-07-30 09:45:32.764 (1073.628s) [main            ]              petsc.cpp:700   INFO| PETSc Krylov solver starting to solve system.\n"
     ]
    },
    {
     "name": "stdout",
     "output_type": "stream",
     "text": [
      "Time step 6, Number of iterations 2\n"
     ]
    },
    {
     "name": "stderr",
     "output_type": "stream",
     "text": [
      "2024-07-30 09:45:36.021 (1076.885s) [main            ]       NewtonSolver.cpp:38    INFO| Newton iteration 2: r (abs) = 2.3801e-15 (tol = 1e-08) r (rel) = 1.01238(tol = 1e-08)\n",
      "2024-07-30 09:45:36.021 (1076.885s) [main            ]       NewtonSolver.cpp:252   INFO| Newton solver finished in 2 iterations and 2 linear solver iterations.\n",
      "2024-07-30 09:45:36.351 (1077.215s) [main            ]              petsc.cpp:700   INFO| PETSc Krylov solver starting to solve system.\n",
      "2024-07-30 09:45:39.792 (1080.657s) [main            ]              petsc.cpp:700   INFO| PETSc Krylov solver starting to solve system.\n",
      "2024-07-30 09:45:43.003 (1083.867s) [main            ]       NewtonSolver.cpp:38    INFO| Newton iteration 2: r (abs) = 2.5306e-15 (tol = 1e-08) r (rel) = 1.06606(tol = 1e-08)\n",
      "2024-07-30 09:45:43.003 (1083.867s) [main            ]       NewtonSolver.cpp:252   INFO| Newton solver finished in 2 iterations and 2 linear solver iterations.\n"
     ]
    },
    {
     "name": "stdout",
     "output_type": "stream",
     "text": [
      "Time step 7, Number of iterations 2\n"
     ]
    },
    {
     "name": "stderr",
     "output_type": "stream",
     "text": [
      "2024-07-30 09:45:43.331 (1084.195s) [main            ]              petsc.cpp:700   INFO| PETSc Krylov solver starting to solve system.\n",
      "2024-07-30 09:45:46.758 (1087.622s) [main            ]              petsc.cpp:700   INFO| PETSc Krylov solver starting to solve system.\n",
      "2024-07-30 09:45:49.983 (1090.848s) [main            ]       NewtonSolver.cpp:38    INFO| Newton iteration 2: r (abs) = 2.34991e-15 (tol = 1e-08) r (rel) = 0.953555(tol = 1e-08)\n",
      "2024-07-30 09:45:49.983 (1090.848s) [main            ]       NewtonSolver.cpp:252   INFO| Newton solver finished in 2 iterations and 2 linear solver iterations.\n"
     ]
    },
    {
     "name": "stdout",
     "output_type": "stream",
     "text": [
      "Time step 8, Number of iterations 2\n"
     ]
    },
    {
     "name": "stderr",
     "output_type": "stream",
     "text": [
      "2024-07-30 09:45:50.318 (1091.182s) [main            ]              petsc.cpp:700   INFO| PETSc Krylov solver starting to solve system.\n",
      "2024-07-30 09:45:53.927 (1094.792s) [main            ]              petsc.cpp:700   INFO| PETSc Krylov solver starting to solve system.\n",
      "2024-07-30 09:45:57.213 (1098.078s) [main            ]       NewtonSolver.cpp:38    INFO| Newton iteration 2: r (abs) = 2.48156e-15 (tol = 1e-08) r (rel) = 1.05716(tol = 1e-08)\n",
      "2024-07-30 09:45:57.213 (1098.078s) [main            ]       NewtonSolver.cpp:252   INFO| Newton solver finished in 2 iterations and 2 linear solver iterations.\n"
     ]
    },
    {
     "name": "stdout",
     "output_type": "stream",
     "text": [
      "Time step 9, Number of iterations 2\n"
     ]
    }
   ],
   "source": [
    "import pyvista\n",
    "\n",
    "pyvista.start_xvfb()\n",
    "plotter = pyvista.Plotter()\n",
    "plotter.open_gif(\"deformation.gif\", fps=3)\n",
    "\n",
    "topology, cells, geometry = plot.vtk_mesh(problem.u.function_space)\n",
    "function_grid = pyvista.UnstructuredGrid(topology, cells, geometry)\n",
    "\n",
    "values = np.zeros((geometry.shape[0], 3))\n",
    "values[:, :len(problem.u)] = problem.u.x.array.reshape(geometry.shape[0], len(problem.u))\n",
    "function_grid[\"u\"] = values\n",
    "function_grid.set_active_vectors(\"u\")\n",
    "\n",
    "# Warp mesh by deformation\n",
    "warped = function_grid.warp_by_vector(\"u\", factor=1)\n",
    "warped.set_active_vectors(\"u\")\n",
    "\n",
    "# Add mesh to plotter and visualize\n",
    "actor = plotter.add_mesh(warped, show_edges=True, lighting=False, clim=[0, 10])\n",
    "\n",
    "# Compute magnitude of displacement to visualize in GIF\n",
    "Vs = fem.functionspace(problem.domain, (\"Lagrange\", 2))\n",
    "magnitude = fem.Function(Vs)\n",
    "us = fem.Expression(ufl.sqrt(sum([problem.u[i]**2 for i in range(len(problem.u))])), Vs.element.interpolation_points())\n",
    "magnitude.interpolate(us)\n",
    "warped[\"mag\"] = magnitude.x.array\n",
    "\n",
    "log.set_log_level(log.LogLevel.INFO)\n",
    "tval0 = -1.5\n",
    "for n in range(1, 10):\n",
    "    num_its, converged = solver.solve(problem.u)\n",
    "    assert (converged)\n",
    "    problem.u.x.scatter_forward()\n",
    "    print(f\"Time step {n}, Number of iterations {num_its}\")\n",
    "    function_grid[\"u\"][:, :len(problem.u)] = problem.u.x.array.reshape(geometry.shape[0], len(problem.u))\n",
    "    magnitude.interpolate(us)\n",
    "    warped.set_active_scalars(\"mag\")\n",
    "    warped_n = function_grid.warp_by_vector(factor=1)\n",
    "    warped.points[:, :] = warped_n.points\n",
    "    warped.point_data[\"mag\"][:] = magnitude.x.array\n",
    "    plotter.update_scalar_bar_range([0, 10])\n",
    "    plotter.write_frame()\n",
    "plotter.close()\n"
   ]
  }
 ],
 "metadata": {
  "kernelspec": {
   "display_name": "Python 3",
   "language": "python",
   "name": "python3"
  },
  "language_info": {
   "codemirror_mode": {
    "name": "ipython",
    "version": 3
   },
   "file_extension": ".py",
   "mimetype": "text/x-python",
   "name": "python",
   "nbconvert_exporter": "python",
   "pygments_lexer": "ipython3",
   "version": "3.12.2"
  },
  "orig_nbformat": 4
 },
 "nbformat": 4,
 "nbformat_minor": 2
}
