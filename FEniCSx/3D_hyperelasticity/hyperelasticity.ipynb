{
 "cells": [
  {
   "cell_type": "markdown",
   "id": "908815e6-cdac-4915-bf52-5578f978d2e7",
   "metadata": {},
   "source": [
    "# Hyperelasticity\n",
    "Author: Jørgen S. Dokken and Garth N. Wells\n",
    "\n",
    "This section shows how to solve the hyperelasticity problem for deformation of a beam.\n",
    "\n",
    "We will also show how to create a constant boundary condition for a vector function space.\n",
    "\n",
    "We start by importing DOLFINx and some additional dependencies.\n",
    "Then, we create a slender cantilever consisting of hexahedral elements and create the function space `V` for our unknown."
   ]
  },
  {
   "cell_type": "code",
   "execution_count": 93,
   "id": "optional-cameroon",
   "metadata": {
    "tags": []
   },
   "outputs": [],
   "source": [
    "from dolfinx import log, default_scalar_type\n",
    "from dolfinx.fem.petsc import NonlinearProblem\n",
    "from dolfinx.nls.petsc import NewtonSolver\n",
    "import pyvista\n",
    "import numpy as np\n",
    "import ufl\n",
    "\n",
    "from mpi4py import MPI\n",
    "from dolfinx import fem, mesh, plot"
   ]
  },
  {
   "cell_type": "code",
   "execution_count": 94,
   "id": "87b36a5e",
   "metadata": {},
   "outputs": [
    {
     "name": "stderr",
     "output_type": "stream",
     "text": [
      "2024-07-27 19:10:41.789 ( 518.053s) [main            ]         graphbuild.cpp:356   INFO| Build local part of mesh dual graph\n",
      "2024-07-27 19:10:41.789 ( 518.054s) [main            ]           ordering.cpp:204   INFO| GPS pseudo-diameter:(28) 499-0\n",
      "2024-07-27 19:10:41.789 ( 518.054s) [main            ]           Topology.cpp:1330  INFO| Create topology (single cell type)\n",
      "2024-07-27 19:10:41.789 ( 518.054s) [main            ]           Topology.cpp:1044  INFO| Create topology (generalised)\n",
      "2024-07-27 19:10:41.790 ( 518.054s) [main            ]                MPI.cpp:164   INFO| Computing communication graph edges (using NBX algorithm). Number of input edges: 1\n",
      "2024-07-27 19:10:41.790 ( 518.054s) [main            ]                MPI.cpp:235   INFO| Finished graph edge discovery using NBX algorithm. Number of discovered edges 1\n",
      "2024-07-27 19:10:41.790 ( 518.054s) [main            ]          partition.cpp:233   INFO| Compute ghost indices\n",
      "2024-07-27 19:10:41.790 ( 518.054s) [main            ]                MPI.cpp:97    INFO| Computing communication graph edges (using PCX algorithm). Number of input edges: 0\n",
      "2024-07-27 19:10:41.790 ( 518.054s) [main            ]                MPI.cpp:154   INFO| Finished graph edge discovery using PCX algorithm. Number of discovered edges 0\n",
      "2024-07-27 19:10:41.791 ( 518.055s) [main            ]                MPI.cpp:164   INFO| Computing communication graph edges (using NBX algorithm). Number of input edges: 0\n",
      "2024-07-27 19:10:41.791 ( 518.055s) [main            ]                MPI.cpp:235   INFO| Finished graph edge discovery using NBX algorithm. Number of discovered edges 0\n",
      "2024-07-27 19:10:41.791 ( 518.055s) [main            ]                MPI.cpp:164   INFO| Computing communication graph edges (using NBX algorithm). Number of input edges: 0\n",
      "2024-07-27 19:10:41.791 ( 518.055s) [main            ]                MPI.cpp:235   INFO| Finished graph edge discovery using NBX algorithm. Number of discovered edges 0\n",
      "2024-07-27 19:10:41.791 ( 518.055s) [main            ]                  MPI.h:377   INFO| Number of neighbourhood source ranks in distribute_to_postoffice: 0\n",
      "2024-07-27 19:10:41.791 ( 518.055s) [main            ]                MPI.cpp:164   INFO| Computing communication graph edges (using NBX algorithm). Number of input edges: 0\n",
      "2024-07-27 19:10:41.791 ( 518.055s) [main            ]                MPI.cpp:235   INFO| Finished graph edge discovery using NBX algorithm. Number of discovered edges 0\n",
      "2024-07-27 19:10:41.791 ( 518.055s) [main            ]                  MPI.h:518   INFO| Neighbourhood destination ranks from post office in distribute_data (rank, num dests, num dests/mpi_size): 0, 0, 0\n",
      "2024-07-27 19:10:41.791 ( 518.055s) [main            ]      dofmapbuilder.cpp:166   INFO| Checking required entities per dimension\n",
      "2024-07-27 19:10:41.791 ( 518.055s) [main            ]      dofmapbuilder.cpp:264   INFO| Cell type:0, dofmap:500x8\n",
      "2024-07-27 19:10:41.791 ( 518.055s) [main            ]      dofmapbuilder.cpp:320   INFO| Global index computation\n",
      "2024-07-27 19:10:41.791 ( 518.055s) [main            ]      dofmapbuilder.cpp:637   INFO| Got 1 index_maps\n",
      "2024-07-27 19:10:41.791 ( 518.055s) [main            ]      dofmapbuilder.cpp:644   INFO| Get global indices\n",
      "2024-07-27 19:10:41.799 ( 518.063s) [main            ]topologycomputation.cpp:748   INFO| Computing mesh entities of dimension 1\n",
      "2024-07-27 19:10:41.799 ( 518.064s) [main            ]                MPI.cpp:164   INFO| Computing communication graph edges (using NBX algorithm). Number of input edges: 0\n",
      "2024-07-27 19:10:41.799 ( 518.064s) [main            ]                MPI.cpp:235   INFO| Finished graph edge discovery using NBX algorithm. Number of discovered edges 0\n",
      "2024-07-27 19:10:41.800 ( 518.064s) [main            ]topologycomputation.cpp:748   INFO| Computing mesh entities of dimension 2\n",
      "2024-07-27 19:10:41.800 ( 518.064s) [main            ]                MPI.cpp:164   INFO| Computing communication graph edges (using NBX algorithm). Number of input edges: 0\n",
      "2024-07-27 19:10:41.800 ( 518.064s) [main            ]                MPI.cpp:235   INFO| Finished graph edge discovery using NBX algorithm. Number of discovered edges 0\n",
      "2024-07-27 19:10:41.800 ( 518.065s) [main            ]      dofmapbuilder.cpp:166   INFO| Checking required entities per dimension\n",
      "2024-07-27 19:10:41.800 ( 518.065s) [main            ]      dofmapbuilder.cpp:264   INFO| Cell type:0, dofmap:500x27\n",
      "2024-07-27 19:10:41.801 ( 518.065s) [main            ]      dofmapbuilder.cpp:320   INFO| Global index computation\n",
      "2024-07-27 19:10:41.801 ( 518.065s) [main            ]      dofmapbuilder.cpp:637   INFO| Got 4 index_maps\n",
      "2024-07-27 19:10:41.801 ( 518.065s) [main            ]      dofmapbuilder.cpp:644   INFO| Get global indices\n"
     ]
    }
   ],
   "source": [
    "# Mesh\n",
    "L = 20.0\n",
    "domain = mesh.create_box(MPI.COMM_WORLD, [[0.0, 0.0, 0.0], [L, 1, 1]], [20, 5, 5], mesh.CellType.hexahedron)\n",
    "V = fem.functionspace(domain, (\"Lagrange\", 2, (domain.geometry.dim, )))"
   ]
  },
  {
   "cell_type": "markdown",
   "id": "streaming-neutral",
   "metadata": {},
   "source": [
    "We create two python functions for determining the facets to apply boundary conditions to"
   ]
  },
  {
   "cell_type": "code",
   "execution_count": 95,
   "id": "major-factor",
   "metadata": {},
   "outputs": [
    {
     "name": "stdout",
     "output_type": "stream",
     "text": [
      "Domain topology = 3\n",
      "fdim = 2\n",
      "\n",
      "Left faces = [  2   8  14  20  38  44  50  56  86  92  98 104 110 155 161 167 173 179\n",
      " 185 252 258 264 346 352 440]\n",
      "Right faces = [1468 1469 1470 1471 1545 1546 1547 1548 1610 1611 1612 1613 1614 1661\n",
      " 1662 1663 1664 1665 1666 1695 1696 1697 1713 1714 1722]\n"
     ]
    },
    {
     "name": "stderr",
     "output_type": "stream",
     "text": [
      "2024-07-27 19:10:41.814 ( 518.079s) [main            ]topologycomputation.cpp:799   INFO| Requesting connectivity (2,0) - (3,0)\n",
      "2024-07-27 19:10:41.814 ( 518.079s) [main            ]topologycomputation.cpp:870   INFO| Computing mesh connectivity 2 - 3 from transpose.\n",
      "2024-07-27 19:10:41.814 ( 518.079s) [main            ]topologycomputation.cpp:799   INFO| Requesting connectivity (2,0) - (0,0)\n",
      "2024-07-27 19:10:41.814 ( 518.079s) [main            ]topologycomputation.cpp:799   INFO| Requesting connectivity (2,0) - (2,0)\n",
      "2024-07-27 19:10:41.815 ( 518.079s) [main            ]topologycomputation.cpp:799   INFO| Requesting connectivity (0,0) - (3,0)\n",
      "2024-07-27 19:10:41.815 ( 518.079s) [main            ]topologycomputation.cpp:870   INFO| Computing mesh connectivity 0 - 3 from transpose.\n",
      "2024-07-27 19:10:41.815 ( 518.079s) [main            ]topologycomputation.cpp:799   INFO| Requesting connectivity (3,0) - (0,0)\n",
      "2024-07-27 19:10:41.815 ( 518.079s) [main            ]topologycomputation.cpp:799   INFO| Requesting connectivity (2,0) - (3,0)\n",
      "2024-07-27 19:10:41.815 ( 518.079s) [main            ]topologycomputation.cpp:799   INFO| Requesting connectivity (2,0) - (0,0)\n",
      "2024-07-27 19:10:41.815 ( 518.079s) [main            ]topologycomputation.cpp:799   INFO| Requesting connectivity (2,0) - (2,0)\n",
      "2024-07-27 19:10:41.815 ( 518.080s) [main            ]topologycomputation.cpp:799   INFO| Requesting connectivity (0,0) - (3,0)\n",
      "2024-07-27 19:10:41.815 ( 518.080s) [main            ]topologycomputation.cpp:799   INFO| Requesting connectivity (3,0) - (0,0)\n"
     ]
    }
   ],
   "source": [
    "def left(x):\n",
    "    return np.isclose(x[0], 0)\n",
    "\n",
    "def right(x):\n",
    "    return np.isclose(x[0], L)\n",
    "\n",
    "fdim = domain.topology.dim - 1\n",
    "\n",
    "print(f\"Domain topology = {domain.topology.dim}\")\n",
    "print(f\"fdim = {domain.topology.dim - 1}\\n\")\n",
    "\n",
    "left_facets = mesh.locate_entities_boundary(domain, fdim, left)\n",
    "right_facets = mesh.locate_entities_boundary(domain, fdim, right)\n",
    "\n",
    "print(f\"Left faces = {left_facets}\")\n",
    "print(f\"Right faces = {right_facets}\")"
   ]
  },
  {
   "cell_type": "markdown",
   "id": "figured-world",
   "metadata": {},
   "source": [
    "Next, we create a  marker based on these two functions"
   ]
  },
  {
   "cell_type": "code",
   "execution_count": 96,
   "id": "dated-india",
   "metadata": {},
   "outputs": [
    {
     "name": "stdout",
     "output_type": "stream",
     "text": [
      "marked_facets = [   2    8   14   20   38   44   50   56   86   92   98  104  110  155\n",
      "  161  167  173  179  185  252  258  264  346  352  440 1468 1469 1470\n",
      " 1471 1545 1546 1547 1548 1610 1611 1612 1613 1614 1661 1662 1663 1664\n",
      " 1665 1666 1695 1696 1697 1713 1714 1722]\n",
      "marked_values = [1 1 1 1 1 1 1 1 1 1 1 1 1 1 1 1 1 1 1 1 1 1 1 1 1 2 2 2 2 2 2 2 2 2 2 2 2\n",
      " 2 2 2 2 2 2 2 2 2 2 2 2 2]\n",
      "sorted_facets = [ 0  1  2  3  4  5  6  7  8  9 10 11 12 13 14 15 16 17 18 19 20 21 22 23\n",
      " 24 25 26 27 28 29 30 31 32 33 34 35 36 37 38 39 40 41 42 43 44 45 46 47\n",
      " 48 49]\n",
      "facet_tag = [   2    8   14   20   38   44   50   56   86   92   98  104  110  155\n",
      "  161  167  173  179  185  252  258  264  346  352  440 1468 1469 1470\n",
      " 1471 1545 1546 1547 1548 1610 1611 1612 1613 1614 1661 1662 1663 1664\n",
      " 1665 1666 1695 1696 1697 1713 1714 1722]\n"
     ]
    }
   ],
   "source": [
    "# Concatenate and sort the arrays based on facet indices. Left facets marked with 1, right facets with two\n",
    "marked_facets = np.hstack([left_facets, right_facets])\n",
    "marked_values = np.hstack([np.full_like(left_facets, 1), np.full_like(right_facets, 2)])\n",
    "sorted_facets = np.argsort(marked_facets)\n",
    "facet_tag = mesh.meshtags(domain, fdim, marked_facets[sorted_facets], marked_values[sorted_facets])\n",
    "\n",
    "print(f\"marked_facets = {marked_facets}\")\n",
    "print(f\"marked_values = {marked_values}\")\n",
    "print(f\"sorted_facets = {sorted_facets}\")\n",
    "print(f\"facet_tag = {facet_tag.indices}\") # = marked_facets"
   ]
  },
  {
   "cell_type": "markdown",
   "id": "renewable-glossary",
   "metadata": {},
   "source": [
    "We then create a function for supplying the boundary condition on the left side, which is fixed."
   ]
  },
  {
   "cell_type": "code",
   "execution_count": 97,
   "id": "confidential-french",
   "metadata": {},
   "outputs": [
    {
     "name": "stdout",
     "output_type": "stream",
     "text": [
      "Boundary conditions = [0. 0. 0.]\n"
     ]
    }
   ],
   "source": [
    "u_bc = np.array((0,) * domain.geometry.dim, dtype=default_scalar_type)\n",
    "\n",
    "print(f\"Boundary conditions = {u_bc}\")"
   ]
  },
  {
   "cell_type": "markdown",
   "id": "musical-documentation",
   "metadata": {},
   "source": [
    "To apply the boundary condition, we identity the dofs located on the facets marked by the `MeshTag`."
   ]
  },
  {
   "cell_type": "code",
   "execution_count": 98,
   "id": "written-monster",
   "metadata": {},
   "outputs": [
    {
     "name": "stdout",
     "output_type": "stream",
     "text": [
      "left_dofs = [   0    2    4    6    9   10   14   17   22   45   47   49   52   54\n",
      "   58   63   65   67   69   72   76  123  125  127  130  132  136  141\n",
      "  143  145  148  153  155  157  159  162  166  245  247  249  252  254\n",
      "  258  263  265  267  270  275  277  279  282  287  289  291  293  296\n",
      "  300  419  421  423  426  428  432  437  439  441  444  449  451  453\n",
      "  456  461  463  465  468  473  475  477  479  482  486  653  655  657\n",
      "  660  665  667  669  672  677  679  681  684  689  691  693  696  895\n",
      "  897  899  902  907  909  911  914  919  921  923  926 1149 1151 1153\n",
      " 1156 1161 1163 1165 1168 1407 1409 1411 1414]\n",
      "right_dofs = [3839 3840 3841 3842 3844 3845 3847 3849 3853 4081 4082 4083 4085 4086\n",
      " 4089 4093 4094 4095 4096 4098 4101 4305 4306 4307 4309 4310 4313 4317\n",
      " 4318 4319 4321 4325 4326 4327 4328 4330 4333 4505 4506 4507 4509 4510\n",
      " 4513 4517 4518 4519 4521 4525 4526 4527 4529 4533 4534 4535 4536 4538\n",
      " 4541 4673 4674 4675 4677 4678 4681 4685 4686 4687 4689 4693 4694 4695\n",
      " 4697 4701 4702 4703 4705 4709 4710 4711 4712 4714 4717 4801 4802 4803\n",
      " 4805 4809 4810 4811 4813 4817 4818 4819 4821 4825 4826 4827 4829 4881\n",
      " 4882 4883 4885 4889 4890 4891 4893 4897 4898 4899 4901 4929 4930 4931\n",
      " 4933 4937 4938 4939 4941 4953 4954 4955 4957]\n"
     ]
    }
   ],
   "source": [
    "left_dofs = fem.locate_dofs_topological(V, facet_tag.dim, facet_tag.find(1))\n",
    "right_dofs = fem.locate_dofs_topological(V, facet_tag.dim, facet_tag.find(2))\n",
    "\n",
    "print(f\"left_dofs = {left_dofs}\")\n",
    "print(f\"right_dofs = {right_dofs}\")\n",
    "\n",
    "# bcs = [fem.dirichletbc(u_bc, left_dofs, V), fem.dirichletbc(u_bc, right_dofs, V)]\n",
    "bcs = [fem.dirichletbc(u_bc, left_dofs, V)]"
   ]
  },
  {
   "cell_type": "markdown",
   "id": "indoor-chester",
   "metadata": {},
   "source": [
    "Next, we define the body force on the reference configuration (`B`), and nominal (first Piola-Kirchhoff) traction (`T`)."
   ]
  },
  {
   "cell_type": "code",
   "execution_count": 99,
   "id": "korean-carol",
   "metadata": {},
   "outputs": [],
   "source": [
    "B = fem.Constant(domain, default_scalar_type((0, 0, 0)))\n",
    "T = fem.Constant(domain, default_scalar_type((0, 0, 0)))"
   ]
  },
  {
   "cell_type": "markdown",
   "id": "blond-dynamics",
   "metadata": {},
   "source": [
    "Define the test and solution functions on the space $V$"
   ]
  },
  {
   "cell_type": "code",
   "execution_count": 100,
   "id": "vocational-experiment",
   "metadata": {},
   "outputs": [],
   "source": [
    "v = ufl.TestFunction(V)\n",
    "u = fem.Function(V)"
   ]
  },
  {
   "cell_type": "markdown",
   "id": "bright-belle",
   "metadata": {},
   "source": [
    "Define kinematic quantities used in the problem"
   ]
  },
  {
   "cell_type": "code",
   "execution_count": 101,
   "id": "vertical-original",
   "metadata": {},
   "outputs": [],
   "source": [
    "# Spatial dimension\n",
    "d = len(u)\n",
    "\n",
    "# Identity tensor\n",
    "I = ufl.variable(ufl.Identity(d))\n",
    "\n",
    "# Deformation gradient\n",
    "F = ufl.variable(I + ufl.grad(u))\n",
    "\n",
    "# Right Cauchy-Green tensor\n",
    "C = ufl.variable(F.T * F)\n",
    "\n",
    "# Invariants of deformation tensors\n",
    "Ic = ufl.variable(ufl.tr(C))\n",
    "J = ufl.variable(ufl.det(F))"
   ]
  },
  {
   "cell_type": "markdown",
   "id": "respiratory-compromise",
   "metadata": {},
   "source": [
    "Define the elasticity model via a stored strain energy density function $\\psi$, and create the expression for the first Piola-Kirchhoff stress:"
   ]
  },
  {
   "cell_type": "code",
   "execution_count": 102,
   "id": "incorrect-hello",
   "metadata": {},
   "outputs": [],
   "source": [
    "# Elasticity parameters\n",
    "E = default_scalar_type(1.0e4)\n",
    "nu = default_scalar_type(0.3)\n",
    "mu = fem.Constant(domain, E / (2 * (1 + nu)))\n",
    "lmbda = fem.Constant(domain, E * nu / ((1 + nu) * (1 - 2 * nu)))\n",
    "# Stored strain energy density (compressible neo-Hookean model)\n",
    "psi = (mu / 2) * (Ic - 3) - mu * ufl.ln(J) + (lmbda / 2) * (ufl.ln(J))**2\n",
    "# Stress\n",
    "# Hyper-elasticity\n",
    "# P = ufl.diff(psi, F)"
   ]
  },
  {
   "cell_type": "markdown",
   "id": "grateful-battlefield",
   "metadata": {},
   "source": [
    "```{admonition} Comparison to linear elasticity\n",
    "To illustrate the difference between linear and hyperelasticity, the following lines can be uncommented to solve the linear elasticity problem.\n",
    "```"
   ]
  },
  {
   "cell_type": "code",
   "execution_count": 103,
   "id": "imperial-jurisdiction",
   "metadata": {},
   "outputs": [],
   "source": [
    "P = 2.0 * mu * ufl.sym(ufl.grad(u)) + lmbda * ufl.tr(ufl.sym(ufl.grad(u))) * I"
   ]
  },
  {
   "cell_type": "markdown",
   "id": "alleged-genesis",
   "metadata": {},
   "source": [
    "Define the variational form with traction integral over all facets with value 2. We set the quadrature degree for the integrals to 4."
   ]
  },
  {
   "cell_type": "code",
   "execution_count": 104,
   "id": "recognized-conclusion",
   "metadata": {},
   "outputs": [],
   "source": [
    "metadata = {\"quadrature_degree\": 4}\n",
    "ds = ufl.Measure('ds', domain=domain, subdomain_data=facet_tag, metadata=metadata)\n",
    "dx = ufl.Measure(\"dx\", domain=domain, metadata=metadata)\n",
    "\n",
    "# Define form F (we want to find u such that F(u) = 0)\n",
    "F = ufl.inner(ufl.grad(v), P) * dx - ufl.inner(v, B) * dx - ufl.inner(v, T) * ds(2)"
   ]
  },
  {
   "cell_type": "markdown",
   "id": "historic-sherman",
   "metadata": {},
   "source": [
    "As the varitional form is non-linear and written on residual form, we use the non-linear problem class from DOLFINx to set up required structures to use a Newton solver."
   ]
  },
  {
   "cell_type": "code",
   "execution_count": 105,
   "id": "threatened-devices",
   "metadata": {},
   "outputs": [
    {
     "name": "stderr",
     "output_type": "stream",
     "text": [
      "2024-07-27 19:10:41.972 ( 518.237s) [main            ]topologycomputation.cpp:799   INFO| Requesting connectivity (2,0) - (3,0)\n",
      "2024-07-27 19:10:41.972 ( 518.237s) [main            ]topologycomputation.cpp:799   INFO| Requesting connectivity (3,0) - (2,0)\n",
      "2024-07-27 19:10:41.972 ( 518.237s) [main            ]topologycomputation.cpp:799   INFO| Requesting connectivity (2,0) - (3,0)\n",
      "2024-07-27 19:10:41.972 ( 518.237s) [main            ]topologycomputation.cpp:799   INFO| Requesting connectivity (3,0) - (2,0)\n",
      "2024-07-27 19:10:41.980 ( 518.244s) [main            ]topologycomputation.cpp:799   INFO| Requesting connectivity (2,0) - (3,0)\n",
      "2024-07-27 19:10:41.980 ( 518.244s) [main            ]topologycomputation.cpp:799   INFO| Requesting connectivity (3,0) - (2,0)\n"
     ]
    }
   ],
   "source": [
    "problem = NonlinearProblem(F, u, bcs)"
   ]
  },
  {
   "cell_type": "markdown",
   "id": "qualified-phrase",
   "metadata": {},
   "source": [
    "and then create and customize the Newton solver"
   ]
  },
  {
   "cell_type": "code",
   "execution_count": 106,
   "id": "special-globe",
   "metadata": {},
   "outputs": [
    {
     "name": "stderr",
     "output_type": "stream",
     "text": [
      "2024-07-27 19:10:42.004 ( 518.268s) [main            ]    SparsityPattern.cpp:385   INFO| Column ghost size increased from 0 to 0\n"
     ]
    }
   ],
   "source": [
    "solver = NewtonSolver(domain.comm, problem)\n",
    "\n",
    "# Set Newton solver options\n",
    "solver.atol = 1e-8\n",
    "solver.rtol = 1e-8\n",
    "solver.convergence_criterion = \"incremental\"\n"
   ]
  },
  {
   "cell_type": "markdown",
   "id": "marked-hungary",
   "metadata": {},
   "source": [
    "We create a function to plot the solution at each time step."
   ]
  },
  {
   "cell_type": "code",
   "execution_count": 107,
   "id": "noble-perception",
   "metadata": {},
   "outputs": [
    {
     "name": "stderr",
     "output_type": "stream",
     "text": [
      "2024-07-27 19:10:45.080 ( 521.344s) [main            ]      dofmapbuilder.cpp:166   INFO| Checking required entities per dimension\n",
      "2024-07-27 19:10:45.080 ( 521.344s) [main            ]      dofmapbuilder.cpp:264   INFO| Cell type:0, dofmap:500x27\n",
      "2024-07-27 19:10:45.080 ( 521.344s) [main            ]      dofmapbuilder.cpp:320   INFO| Global index computation\n",
      "2024-07-27 19:10:45.080 ( 521.344s) [main            ]      dofmapbuilder.cpp:637   INFO| Got 4 index_maps\n",
      "2024-07-27 19:10:45.080 ( 521.344s) [main            ]      dofmapbuilder.cpp:644   INFO| Get global indices\n"
     ]
    }
   ],
   "source": [
    "pyvista.start_xvfb()\n",
    "plotter = pyvista.Plotter()\n",
    "plotter.open_gif(\"deformation.gif\", fps=3)\n",
    "\n",
    "topology, cells, geometry = plot.vtk_mesh(u.function_space)\n",
    "function_grid = pyvista.UnstructuredGrid(topology, cells, geometry)\n",
    "\n",
    "values = np.zeros((geometry.shape[0], 3))\n",
    "values[:, :len(u)] = u.x.array.reshape(geometry.shape[0], len(u))\n",
    "function_grid[\"u\"] = values\n",
    "function_grid.set_active_vectors(\"u\")\n",
    "\n",
    "# Warp mesh by deformation\n",
    "warped = function_grid.warp_by_vector(\"u\", factor=1)\n",
    "warped.set_active_vectors(\"u\")\n",
    "\n",
    "# Add mesh to plotter and visualize\n",
    "actor = plotter.add_mesh(warped, show_edges=True, lighting=False, clim=[0, 10])\n",
    "\n",
    "# Compute magnitude of displacement to visualize in GIF\n",
    "Vs = fem.functionspace(domain, (\"Lagrange\", 2))\n",
    "magnitude = fem.Function(Vs)\n",
    "us = fem.Expression(ufl.sqrt(sum([u[i]**2 for i in range(len(u))])), Vs.element.interpolation_points())\n",
    "magnitude.interpolate(us)\n",
    "warped[\"mag\"] = magnitude.x.array"
   ]
  },
  {
   "cell_type": "markdown",
   "id": "nasty-entertainment",
   "metadata": {},
   "source": [
    "Finally, we solve the problem over several time steps, updating the z-component of the traction"
   ]
  },
  {
   "cell_type": "code",
   "execution_count": 108,
   "id": "vanilla-referral",
   "metadata": {},
   "outputs": [
    {
     "name": "stderr",
     "output_type": "stream",
     "text": [
      "2024-07-27 19:10:45.674 ( 521.938s) [main            ]              petsc.cpp:700   INFO| PETSc Krylov solver starting to solve system.\n",
      "2024-07-27 19:10:48.475 ( 524.740s) [main            ]              petsc.cpp:700   INFO| PETSc Krylov solver starting to solve system.\n",
      "2024-07-27 19:10:50.870 ( 527.134s) [main            ]       NewtonSolver.cpp:38    INFO| Newton iteration 2: r (abs) = 8.69535e-07 (tol = 1e-08) r (rel) = 5.24868e-09(tol = 1e-08)\n",
      "2024-07-27 19:10:50.870 ( 527.134s) [main            ]       NewtonSolver.cpp:252   INFO| Newton solver finished in 2 iterations and 2 linear solver iterations.\n"
     ]
    },
    {
     "name": "stdout",
     "output_type": "stream",
     "text": [
      "Time step 1, Number of iterations 2, Load [ 0.   0.  -1.5]\n"
     ]
    },
    {
     "name": "stderr",
     "output_type": "stream",
     "text": [
      "2024-07-27 19:10:51.324 ( 527.589s) [main            ]              petsc.cpp:700   INFO| PETSc Krylov solver starting to solve system.\n",
      "2024-07-27 19:10:53.961 ( 530.225s) [main            ]              petsc.cpp:700   INFO| PETSc Krylov solver starting to solve system.\n",
      "2024-07-27 19:10:56.324 ( 532.588s) [main            ]       NewtonSolver.cpp:38    INFO| Newton iteration 2: r (abs) = 8.69535e-07 (tol = 1e-08) r (rel) = 5.24868e-09(tol = 1e-08)\n",
      "2024-07-27 19:10:56.324 ( 532.588s) [main            ]       NewtonSolver.cpp:252   INFO| Newton solver finished in 2 iterations and 2 linear solver iterations.\n"
     ]
    },
    {
     "name": "stdout",
     "output_type": "stream",
     "text": [
      "Time step 2, Number of iterations 2, Load [ 0.  0. -3.]\n"
     ]
    },
    {
     "name": "stderr",
     "output_type": "stream",
     "text": [
      "2024-07-27 19:10:56.724 ( 532.989s) [main            ]              petsc.cpp:700   INFO| PETSc Krylov solver starting to solve system.\n",
      "2024-07-27 19:10:59.434 ( 535.699s) [main            ]              petsc.cpp:700   INFO| PETSc Krylov solver starting to solve system.\n",
      "2024-07-27 19:11:01.753 ( 538.017s) [main            ]       NewtonSolver.cpp:38    INFO| Newton iteration 2: r (abs) = 8.69535e-07 (tol = 1e-08) r (rel) = 5.24867e-09(tol = 1e-08)\n",
      "2024-07-27 19:11:01.753 ( 538.017s) [main            ]       NewtonSolver.cpp:252   INFO| Newton solver finished in 2 iterations and 2 linear solver iterations.\n"
     ]
    },
    {
     "name": "stdout",
     "output_type": "stream",
     "text": [
      "Time step 3, Number of iterations 2, Load [ 0.   0.  -4.5]\n"
     ]
    },
    {
     "name": "stderr",
     "output_type": "stream",
     "text": [
      "2024-07-27 19:11:02.133 ( 538.397s) [main            ]              petsc.cpp:700   INFO| PETSc Krylov solver starting to solve system.\n",
      "2024-07-27 19:11:04.872 ( 541.136s) [main            ]              petsc.cpp:700   INFO| PETSc Krylov solver starting to solve system.\n",
      "2024-07-27 19:11:07.310 ( 543.574s) [main            ]       NewtonSolver.cpp:38    INFO| Newton iteration 2: r (abs) = 8.69535e-07 (tol = 1e-08) r (rel) = 5.24867e-09(tol = 1e-08)\n",
      "2024-07-27 19:11:07.310 ( 543.574s) [main            ]       NewtonSolver.cpp:252   INFO| Newton solver finished in 2 iterations and 2 linear solver iterations.\n"
     ]
    },
    {
     "name": "stdout",
     "output_type": "stream",
     "text": [
      "Time step 4, Number of iterations 2, Load [ 0.  0. -6.]\n"
     ]
    },
    {
     "name": "stderr",
     "output_type": "stream",
     "text": [
      "2024-07-27 19:11:07.705 ( 543.969s) [main            ]              petsc.cpp:700   INFO| PETSc Krylov solver starting to solve system.\n",
      "2024-07-27 19:11:10.498 ( 546.762s) [main            ]              petsc.cpp:700   INFO| PETSc Krylov solver starting to solve system.\n",
      "2024-07-27 19:11:12.995 ( 549.259s) [main            ]       NewtonSolver.cpp:38    INFO| Newton iteration 2: r (abs) = 8.69535e-07 (tol = 1e-08) r (rel) = 5.24868e-09(tol = 1e-08)\n",
      "2024-07-27 19:11:12.995 ( 549.259s) [main            ]       NewtonSolver.cpp:252   INFO| Newton solver finished in 2 iterations and 2 linear solver iterations.\n"
     ]
    },
    {
     "name": "stdout",
     "output_type": "stream",
     "text": [
      "Time step 5, Number of iterations 2, Load [ 0.   0.  -7.5]\n"
     ]
    },
    {
     "name": "stderr",
     "output_type": "stream",
     "text": [
      "2024-07-27 19:11:13.382 ( 549.646s) [main            ]              petsc.cpp:700   INFO| PETSc Krylov solver starting to solve system.\n",
      "2024-07-27 19:11:16.095 ( 552.359s) [main            ]              petsc.cpp:700   INFO| PETSc Krylov solver starting to solve system.\n",
      "2024-07-27 19:11:18.628 ( 554.892s) [main            ]       NewtonSolver.cpp:38    INFO| Newton iteration 2: r (abs) = 8.69535e-07 (tol = 1e-08) r (rel) = 5.24867e-09(tol = 1e-08)\n",
      "2024-07-27 19:11:18.628 ( 554.892s) [main            ]       NewtonSolver.cpp:252   INFO| Newton solver finished in 2 iterations and 2 linear solver iterations.\n"
     ]
    },
    {
     "name": "stdout",
     "output_type": "stream",
     "text": [
      "Time step 6, Number of iterations 2, Load [ 0.  0. -9.]\n"
     ]
    },
    {
     "name": "stderr",
     "output_type": "stream",
     "text": [
      "2024-07-27 19:11:19.046 ( 555.310s) [main            ]              petsc.cpp:700   INFO| PETSc Krylov solver starting to solve system.\n",
      "2024-07-27 19:11:21.892 ( 558.156s) [main            ]              petsc.cpp:700   INFO| PETSc Krylov solver starting to solve system.\n",
      "2024-07-27 19:11:24.140 ( 560.404s) [main            ]       NewtonSolver.cpp:38    INFO| Newton iteration 2: r (abs) = 8.69535e-07 (tol = 1e-08) r (rel) = 5.24868e-09(tol = 1e-08)\n",
      "2024-07-27 19:11:24.140 ( 560.404s) [main            ]       NewtonSolver.cpp:252   INFO| Newton solver finished in 2 iterations and 2 linear solver iterations.\n"
     ]
    },
    {
     "name": "stdout",
     "output_type": "stream",
     "text": [
      "Time step 7, Number of iterations 2, Load [  0.    0.  -10.5]\n"
     ]
    },
    {
     "name": "stderr",
     "output_type": "stream",
     "text": [
      "2024-07-27 19:11:24.538 ( 560.802s) [main            ]              petsc.cpp:700   INFO| PETSc Krylov solver starting to solve system.\n",
      "2024-07-27 19:11:27.362 ( 563.626s) [main            ]              petsc.cpp:700   INFO| PETSc Krylov solver starting to solve system.\n",
      "2024-07-27 19:11:29.725 ( 565.989s) [main            ]       NewtonSolver.cpp:38    INFO| Newton iteration 2: r (abs) = 8.69535e-07 (tol = 1e-08) r (rel) = 5.24867e-09(tol = 1e-08)\n",
      "2024-07-27 19:11:29.725 ( 565.989s) [main            ]       NewtonSolver.cpp:252   INFO| Newton solver finished in 2 iterations and 2 linear solver iterations.\n"
     ]
    },
    {
     "name": "stdout",
     "output_type": "stream",
     "text": [
      "Time step 8, Number of iterations 2, Load [  0.   0. -12.]\n"
     ]
    },
    {
     "name": "stderr",
     "output_type": "stream",
     "text": [
      "2024-07-27 19:11:30.149 ( 566.413s) [main            ]              petsc.cpp:700   INFO| PETSc Krylov solver starting to solve system.\n",
      "2024-07-27 19:11:32.897 ( 569.161s) [main            ]              petsc.cpp:700   INFO| PETSc Krylov solver starting to solve system.\n",
      "2024-07-27 19:11:35.410 ( 571.675s) [main            ]       NewtonSolver.cpp:38    INFO| Newton iteration 2: r (abs) = 8.69534e-07 (tol = 1e-08) r (rel) = 5.24867e-09(tol = 1e-08)\n",
      "2024-07-27 19:11:35.411 ( 571.675s) [main            ]       NewtonSolver.cpp:252   INFO| Newton solver finished in 2 iterations and 2 linear solver iterations.\n"
     ]
    },
    {
     "name": "stdout",
     "output_type": "stream",
     "text": [
      "Time step 9, Number of iterations 2, Load [  0.    0.  -13.5]\n"
     ]
    }
   ],
   "source": [
    "log.set_log_level(log.LogLevel.INFO)\n",
    "tval0 = -1.5\n",
    "for n in range(1, 10):\n",
    "    T.value[2] = n * tval0\n",
    "    num_its, converged = solver.solve(u)\n",
    "    assert (converged)\n",
    "    u.x.scatter_forward()\n",
    "    print(f\"Time step {n}, Number of iterations {num_its}, Load {T.value}\")\n",
    "    function_grid[\"u\"][:, :len(u)] = u.x.array.reshape(geometry.shape[0], len(u))\n",
    "    magnitude.interpolate(us)\n",
    "    warped.set_active_scalars(\"mag\")\n",
    "    warped_n = function_grid.warp_by_vector(factor=1)\n",
    "    warped.points[:, :] = warped_n.points\n",
    "    warped.point_data[\"mag\"][:] = magnitude.x.array\n",
    "    plotter.update_scalar_bar_range([0, 10])\n",
    "    plotter.write_frame()\n",
    "plotter.close()"
   ]
  }
 ],
 "metadata": {
  "jupytext": {
   "formats": "ipynb,py:light"
  },
  "kernelspec": {
   "display_name": "Python 3 (ipykernel)",
   "language": "python",
   "name": "python3"
  },
  "language_info": {
   "codemirror_mode": {
    "name": "ipython",
    "version": 3
   },
   "file_extension": ".py",
   "mimetype": "text/x-python",
   "name": "python",
   "nbconvert_exporter": "python",
   "pygments_lexer": "ipython3",
   "version": "3.12.2"
  }
 },
 "nbformat": 4,
 "nbformat_minor": 5
}
