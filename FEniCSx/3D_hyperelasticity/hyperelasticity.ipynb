{
 "cells": [
  {
   "cell_type": "markdown",
   "id": "908815e6-cdac-4915-bf52-5578f978d2e7",
   "metadata": {},
   "source": [
    "# Hyperelasticity\n",
    "Author: Jørgen S. Dokken and Garth N. Wells\n",
    "\n",
    "This section shows how to solve the hyperelasticity problem for deformation of a beam.\n",
    "\n",
    "We will also show how to create a constant boundary condition for a vector function space.\n",
    "\n",
    "We start by importing DOLFINx and some additional dependencies.\n",
    "Then, we create a slender cantilever consisting of hexahedral elements and create the function space `V` for our unknown."
   ]
  },
  {
   "cell_type": "code",
   "execution_count": 65,
   "id": "optional-cameroon",
   "metadata": {
    "tags": []
   },
   "outputs": [],
   "source": [
    "from dolfinx import *  # Assuming the required dolfinx modules are imported\n",
    "from dolfinx import log, default_scalar_type\n",
    "from dolfinx import fem, mesh, plot\n",
    "\n",
    "from dolfinx.fem.petsc import NonlinearProblem\n",
    "from dolfinx.nls.petsc import NewtonSolver\n",
    "\n",
    "import pyvista as pv\n",
    "import pyvista\n",
    "\n",
    "import numpy as np\n",
    "import ufl\n",
    "\n",
    "import logging\n",
    "from matplotlib import pyplot as plt\n",
    "\n",
    "from mpi4py import MPI"
   ]
  },
  {
   "cell_type": "code",
   "execution_count": 66,
   "id": "87b36a5e",
   "metadata": {},
   "outputs": [
    {
     "name": "stderr",
     "output_type": "stream",
     "text": [
      "2024-07-27 18:53:26.653 ( 185.849s) [main            ]         graphbuild.cpp:356   INFO| Build local part of mesh dual graph\n",
      "2024-07-27 18:53:26.653 ( 185.849s) [main            ]           ordering.cpp:204   INFO| GPS pseudo-diameter:(16) 159-0\n",
      "2024-07-27 18:53:26.653 ( 185.849s) [main            ]           Topology.cpp:1330  INFO| Create topology (single cell type)\n",
      "2024-07-27 18:53:26.653 ( 185.849s) [main            ]           Topology.cpp:1044  INFO| Create topology (generalised)\n",
      "2024-07-27 18:53:26.653 ( 185.849s) [main            ]                MPI.cpp:164   INFO| Computing communication graph edges (using NBX algorithm). Number of input edges: 1\n",
      "2024-07-27 18:53:26.653 ( 185.849s) [main            ]                MPI.cpp:235   INFO| Finished graph edge discovery using NBX algorithm. Number of discovered edges 1\n",
      "2024-07-27 18:53:26.653 ( 185.849s) [main            ]          partition.cpp:233   INFO| Compute ghost indices\n",
      "2024-07-27 18:53:26.653 ( 185.849s) [main            ]                MPI.cpp:97    INFO| Computing communication graph edges (using PCX algorithm). Number of input edges: 0\n",
      "2024-07-27 18:53:26.653 ( 185.849s) [main            ]                MPI.cpp:154   INFO| Finished graph edge discovery using PCX algorithm. Number of discovered edges 0\n",
      "2024-07-27 18:53:26.653 ( 185.849s) [main            ]                MPI.cpp:164   INFO| Computing communication graph edges (using NBX algorithm). Number of input edges: 0\n",
      "2024-07-27 18:53:26.653 ( 185.849s) [main            ]                MPI.cpp:235   INFO| Finished graph edge discovery using NBX algorithm. Number of discovered edges 0\n",
      "2024-07-27 18:53:26.653 ( 185.849s) [main            ]                MPI.cpp:164   INFO| Computing communication graph edges (using NBX algorithm). Number of input edges: 0\n",
      "2024-07-27 18:53:26.653 ( 185.849s) [main            ]                MPI.cpp:235   INFO| Finished graph edge discovery using NBX algorithm. Number of discovered edges 0\n",
      "2024-07-27 18:53:26.653 ( 185.849s) [main            ]                  MPI.h:377   INFO| Number of neighbourhood source ranks in distribute_to_postoffice: 0\n",
      "2024-07-27 18:53:26.653 ( 185.849s) [main            ]                MPI.cpp:164   INFO| Computing communication graph edges (using NBX algorithm). Number of input edges: 0\n",
      "2024-07-27 18:53:26.653 ( 185.849s) [main            ]                MPI.cpp:235   INFO| Finished graph edge discovery using NBX algorithm. Number of discovered edges 0\n",
      "2024-07-27 18:53:26.653 ( 185.849s) [main            ]                  MPI.h:518   INFO| Neighbourhood destination ranks from post office in distribute_data (rank, num dests, num dests/mpi_size): 0, 0, 0\n",
      "2024-07-27 18:53:26.653 ( 185.849s) [main            ]      dofmapbuilder.cpp:166   INFO| Checking required entities per dimension\n",
      "2024-07-27 18:53:26.653 ( 185.849s) [main            ]      dofmapbuilder.cpp:264   INFO| Cell type:0, dofmap:160x8\n",
      "2024-07-27 18:53:26.653 ( 185.849s) [main            ]      dofmapbuilder.cpp:320   INFO| Global index computation\n",
      "2024-07-27 18:53:26.653 ( 185.849s) [main            ]      dofmapbuilder.cpp:637   INFO| Got 1 index_maps\n",
      "2024-07-27 18:53:26.653 ( 185.849s) [main            ]      dofmapbuilder.cpp:644   INFO| Get global indices\n",
      "2024-07-27 18:53:26.657 ( 185.853s) [main            ]topologycomputation.cpp:748   INFO| Computing mesh entities of dimension 1\n",
      "2024-07-27 18:53:26.657 ( 185.853s) [main            ]                MPI.cpp:164   INFO| Computing communication graph edges (using NBX algorithm). Number of input edges: 0\n",
      "2024-07-27 18:53:26.657 ( 185.853s) [main            ]                MPI.cpp:235   INFO| Finished graph edge discovery using NBX algorithm. Number of discovered edges 0\n",
      "2024-07-27 18:53:26.657 ( 185.853s) [main            ]topologycomputation.cpp:748   INFO| Computing mesh entities of dimension 2\n",
      "2024-07-27 18:53:26.657 ( 185.853s) [main            ]                MPI.cpp:164   INFO| Computing communication graph edges (using NBX algorithm). Number of input edges: 0\n",
      "2024-07-27 18:53:26.657 ( 185.853s) [main            ]                MPI.cpp:235   INFO| Finished graph edge discovery using NBX algorithm. Number of discovered edges 0\n",
      "2024-07-27 18:53:26.657 ( 185.853s) [main            ]      dofmapbuilder.cpp:166   INFO| Checking required entities per dimension\n",
      "2024-07-27 18:53:26.657 ( 185.853s) [main            ]      dofmapbuilder.cpp:264   INFO| Cell type:0, dofmap:160x27\n",
      "2024-07-27 18:53:26.657 ( 185.853s) [main            ]      dofmapbuilder.cpp:320   INFO| Global index computation\n",
      "2024-07-27 18:53:26.657 ( 185.853s) [main            ]      dofmapbuilder.cpp:637   INFO| Got 4 index_maps\n",
      "2024-07-27 18:53:26.657 ( 185.853s) [main            ]      dofmapbuilder.cpp:644   INFO| Get global indices\n"
     ]
    }
   ],
   "source": [
    "# Mesh\n",
    "L = 20.0\n",
    "domain = mesh.create_box(MPI.COMM_WORLD, [[0.0, 0.0, 0.0], [L, 1, 1]], [10, 4, 4], mesh.CellType.hexahedron)\n",
    "V = fem.functionspace(domain, (\"Lagrange\", 2, (domain.geometry.dim, )))"
   ]
  },
  {
   "cell_type": "markdown",
   "id": "streaming-neutral",
   "metadata": {},
   "source": [
    "We create two python functions for determining the facets to apply boundary conditions to"
   ]
  },
  {
   "cell_type": "code",
   "execution_count": 67,
   "id": "major-factor",
   "metadata": {},
   "outputs": [
    {
     "name": "stdout",
     "output_type": "stream",
     "text": [
      "Domain topology = 3\n",
      "fdim = 2\n",
      "\n",
      "Left faces = [  2   8  14  20  38  44  50  56  86  92  98 104 110 159 165 226]\n",
      "Right faces = [458 459 460 461 506 507 508 509 542 543 544 545 546 564 565 573]\n"
     ]
    },
    {
     "name": "stderr",
     "output_type": "stream",
     "text": [
      "2024-07-27 18:53:26.663 ( 185.859s) [main            ]topologycomputation.cpp:799   INFO| Requesting connectivity (2,0) - (3,0)\n",
      "2024-07-27 18:53:26.663 ( 185.859s) [main            ]topologycomputation.cpp:870   INFO| Computing mesh connectivity 2 - 3 from transpose.\n",
      "2024-07-27 18:53:26.663 ( 185.859s) [main            ]topologycomputation.cpp:799   INFO| Requesting connectivity (2,0) - (0,0)\n",
      "2024-07-27 18:53:26.663 ( 185.859s) [main            ]topologycomputation.cpp:799   INFO| Requesting connectivity (2,0) - (2,0)\n",
      "2024-07-27 18:53:26.663 ( 185.859s) [main            ]topologycomputation.cpp:799   INFO| Requesting connectivity (0,0) - (3,0)\n",
      "2024-07-27 18:53:26.663 ( 185.859s) [main            ]topologycomputation.cpp:870   INFO| Computing mesh connectivity 0 - 3 from transpose.\n",
      "2024-07-27 18:53:26.664 ( 185.859s) [main            ]topologycomputation.cpp:799   INFO| Requesting connectivity (3,0) - (0,0)\n",
      "2024-07-27 18:53:26.664 ( 185.860s) [main            ]topologycomputation.cpp:799   INFO| Requesting connectivity (2,0) - (3,0)\n",
      "2024-07-27 18:53:26.664 ( 185.860s) [main            ]topologycomputation.cpp:799   INFO| Requesting connectivity (2,0) - (0,0)\n",
      "2024-07-27 18:53:26.664 ( 185.860s) [main            ]topologycomputation.cpp:799   INFO| Requesting connectivity (2,0) - (2,0)\n",
      "2024-07-27 18:53:26.664 ( 185.860s) [main            ]topologycomputation.cpp:799   INFO| Requesting connectivity (0,0) - (3,0)\n",
      "2024-07-27 18:53:26.664 ( 185.860s) [main            ]topologycomputation.cpp:799   INFO| Requesting connectivity (3,0) - (0,0)\n"
     ]
    }
   ],
   "source": [
    "def left(x):\n",
    "    return np.isclose(x[0], 0)\n",
    "\n",
    "def right(x):\n",
    "    return np.isclose(x[0], L)\n",
    "\n",
    "fdim = domain.topology.dim - 1\n",
    "\n",
    "print(f\"Domain topology = {domain.topology.dim}\")\n",
    "print(f\"fdim = {domain.topology.dim - 1}\\n\")\n",
    "\n",
    "left_facets = mesh.locate_entities_boundary(domain, fdim, left)\n",
    "right_facets = mesh.locate_entities_boundary(domain, fdim, right)\n",
    "\n",
    "print(f\"Left faces = {left_facets}\")\n",
    "print(f\"Right faces = {right_facets}\")"
   ]
  },
  {
   "cell_type": "markdown",
   "id": "figured-world",
   "metadata": {},
   "source": [
    "Next, we create a  marker based on these two functions"
   ]
  },
  {
   "cell_type": "code",
   "execution_count": 68,
   "id": "dated-india",
   "metadata": {},
   "outputs": [
    {
     "name": "stdout",
     "output_type": "stream",
     "text": [
      "marked_facets = [  2   8  14  20  38  44  50  56  86  92  98 104 110 159 165 226 458 459\n",
      " 460 461 506 507 508 509 542 543 544 545 546 564 565 573]\n",
      "marked_values = [1 1 1 1 1 1 1 1 1 1 1 1 1 1 1 1 2 2 2 2 2 2 2 2 2 2 2 2 2 2 2 2]\n",
      "sorted_facets = [ 0  1  2  3  4  5  6  7  8  9 10 11 12 13 14 15 16 17 18 19 20 21 22 23\n",
      " 24 25 26 27 28 29 30 31]\n",
      "facet_tag = [  2   8  14  20  38  44  50  56  86  92  98 104 110 159 165 226 458 459\n",
      " 460 461 506 507 508 509 542 543 544 545 546 564 565 573]\n"
     ]
    }
   ],
   "source": [
    "# Concatenate and sort the arrays based on facet indices. Left facets marked with 1, right facets with two\n",
    "marked_facets = np.hstack([left_facets, right_facets])\n",
    "marked_values = np.hstack([np.full_like(left_facets, 1), np.full_like(right_facets, 2)])\n",
    "sorted_facets = np.argsort(marked_facets)\n",
    "facet_tag = mesh.meshtags(domain, fdim, marked_facets[sorted_facets], marked_values[sorted_facets])\n",
    "\n",
    "print(f\"marked_facets = {marked_facets}\")\n",
    "print(f\"marked_values = {marked_values}\")\n",
    "print(f\"sorted_facets = {sorted_facets}\")\n",
    "print(f\"facet_tag = {facet_tag.indices}\") # = marked_facets"
   ]
  },
  {
   "cell_type": "markdown",
   "id": "renewable-glossary",
   "metadata": {},
   "source": [
    "We then create a function for supplying the boundary condition on the left side, which is fixed."
   ]
  },
  {
   "cell_type": "code",
   "execution_count": 69,
   "id": "confidential-french",
   "metadata": {},
   "outputs": [
    {
     "name": "stdout",
     "output_type": "stream",
     "text": [
      "Boundary conditions = [0. 0. 0.]\n"
     ]
    }
   ],
   "source": [
    "u_bc = np.array((0,) * domain.geometry.dim, dtype=default_scalar_type)\n",
    "\n",
    "print(f\"Boundary conditions = {u_bc}\")"
   ]
  },
  {
   "cell_type": "markdown",
   "id": "musical-documentation",
   "metadata": {},
   "source": [
    "To apply the boundary condition, we identity the dofs located on the facets marked by the `MeshTag`."
   ]
  },
  {
   "cell_type": "code",
   "execution_count": 70,
   "id": "written-monster",
   "metadata": {},
   "outputs": [
    {
     "name": "stdout",
     "output_type": "stream",
     "text": [
      "left_dofs = [  0   2   4   6   9  10  14  17  22  45  47  49  52  54  58  63  65  67\n",
      "  69  72  76 123 125 127 130 132 136 141 143 145 148 153 155 157 159 162\n",
      " 166 245 247 249 252 254 258 263 265 267 270 275 277 279 282 287 289 291\n",
      " 293 296 300 419 421 423 426 431 433 435 438 443 445 447 450 593 595 597\n",
      " 600 605 607 609 612 771 773 775 778]\n",
      "right_dofs = [1107 1108 1109 1110 1112 1113 1115 1117 1121 1269 1270 1271 1273 1274\n",
      " 1277 1281 1282 1283 1284 1286 1289 1413 1414 1415 1417 1418 1421 1425\n",
      " 1426 1427 1429 1433 1434 1435 1436 1438 1441 1533 1534 1535 1537 1538\n",
      " 1541 1545 1546 1547 1549 1553 1554 1555 1557 1561 1562 1563 1564 1566\n",
      " 1569 1621 1622 1623 1625 1629 1630 1631 1633 1637 1638 1639 1641 1669\n",
      " 1670 1671 1673 1677 1678 1679 1681 1693 1694 1695 1697]\n"
     ]
    }
   ],
   "source": [
    "left_dofs = fem.locate_dofs_topological(V, facet_tag.dim, facet_tag.find(1))\n",
    "right_dofs = fem.locate_dofs_topological(V, facet_tag.dim, facet_tag.find(2))\n",
    "\n",
    "print(f\"left_dofs = {left_dofs}\")\n",
    "print(f\"right_dofs = {right_dofs}\")\n",
    "\n",
    "bcs = [fem.dirichletbc(u_bc, left_dofs, V), fem.dirichletbc(u_bc, right_dofs, V)]"
   ]
  },
  {
   "cell_type": "markdown",
   "id": "indoor-chester",
   "metadata": {},
   "source": [
    "Next, we define the body force on the reference configuration (`B`), and nominal (first Piola-Kirchhoff) traction (`T`)."
   ]
  },
  {
   "cell_type": "code",
   "execution_count": 71,
   "id": "korean-carol",
   "metadata": {},
   "outputs": [],
   "source": [
    "B = fem.Constant(domain, default_scalar_type((0, -10, 0)))\n",
    "T = fem.Constant(domain, default_scalar_type((0, 0, 0)))"
   ]
  },
  {
   "cell_type": "markdown",
   "id": "blond-dynamics",
   "metadata": {},
   "source": [
    "Define the test and solution functions on the space $V$"
   ]
  },
  {
   "cell_type": "code",
   "execution_count": 72,
   "id": "vocational-experiment",
   "metadata": {},
   "outputs": [],
   "source": [
    "v = ufl.TestFunction(V)\n",
    "u = fem.Function(V)"
   ]
  },
  {
   "cell_type": "markdown",
   "id": "bright-belle",
   "metadata": {},
   "source": [
    "Define kinematic quantities used in the problem"
   ]
  },
  {
   "cell_type": "code",
   "execution_count": 73,
   "id": "vertical-original",
   "metadata": {},
   "outputs": [],
   "source": [
    "# Spatial dimension\n",
    "d = len(u)\n",
    "\n",
    "# Identity tensor\n",
    "I = ufl.variable(ufl.Identity(d))\n",
    "\n",
    "# Deformation gradient\n",
    "F = ufl.variable(I + ufl.grad(u))\n",
    "\n",
    "# Right Cauchy-Green tensor\n",
    "C = ufl.variable(F.T * F)\n",
    "\n",
    "# Invariants of deformation tensors\n",
    "Ic = ufl.variable(ufl.tr(C))\n",
    "J = ufl.variable(ufl.det(F))"
   ]
  },
  {
   "cell_type": "markdown",
   "id": "respiratory-compromise",
   "metadata": {},
   "source": [
    "Define the elasticity model via a stored strain energy density function $\\psi$, and create the expression for the first Piola-Kirchhoff stress:"
   ]
  },
  {
   "cell_type": "code",
   "execution_count": 74,
   "id": "incorrect-hello",
   "metadata": {},
   "outputs": [],
   "source": [
    "# Elasticity parameters\n",
    "E = default_scalar_type(1.0e4)\n",
    "nu = default_scalar_type(0.3)\n",
    "mu = fem.Constant(domain, E / (2 * (1 + nu)))\n",
    "lmbda = fem.Constant(domain, E * nu / ((1 + nu) * (1 - 2 * nu)))\n",
    "# Stored strain energy density (compressible neo-Hookean model)\n",
    "psi = (mu / 2) * (Ic - 3) - mu * ufl.ln(J) + (lmbda / 2) * (ufl.ln(J))**2\n",
    "# Stress\n",
    "# Hyper-elasticity\n",
    "# P = ufl.diff(psi, F)"
   ]
  },
  {
   "cell_type": "markdown",
   "id": "grateful-battlefield",
   "metadata": {},
   "source": [
    "```{admonition} Comparison to linear elasticity\n",
    "To illustrate the difference between linear and hyperelasticity, the following lines can be uncommented to solve the linear elasticity problem.\n",
    "```"
   ]
  },
  {
   "cell_type": "code",
   "execution_count": 75,
   "id": "imperial-jurisdiction",
   "metadata": {},
   "outputs": [],
   "source": [
    "P = 2.0 * mu * ufl.sym(ufl.grad(u)) + lmbda * ufl.tr(ufl.sym(ufl.grad(u))) * I"
   ]
  },
  {
   "cell_type": "markdown",
   "id": "alleged-genesis",
   "metadata": {},
   "source": [
    "Define the variational form with traction integral over all facets with value 2. We set the quadrature degree for the integrals to 4."
   ]
  },
  {
   "cell_type": "code",
   "execution_count": 76,
   "id": "recognized-conclusion",
   "metadata": {},
   "outputs": [],
   "source": [
    "metadata = {\"quadrature_degree\": 4}\n",
    "ds = ufl.Measure('ds', domain=domain, subdomain_data=facet_tag, metadata=metadata)\n",
    "dx = ufl.Measure(\"dx\", domain=domain, metadata=metadata)\n",
    "# Define form F (we want to find u such that F(u) = 0)\n",
    "F = ufl.inner(ufl.grad(v), P) * dx - ufl.inner(v, B) * dx - ufl.inner(v, T) * ds(2)"
   ]
  },
  {
   "cell_type": "markdown",
   "id": "historic-sherman",
   "metadata": {},
   "source": [
    "As the varitional form is non-linear and written on residual form, we use the non-linear problem class from DOLFINx to set up required structures to use a Newton solver."
   ]
  },
  {
   "cell_type": "code",
   "execution_count": 77,
   "id": "threatened-devices",
   "metadata": {},
   "outputs": [
    {
     "name": "stderr",
     "output_type": "stream",
     "text": [
      "2024-07-27 18:53:26.725 ( 185.921s) [main            ]topologycomputation.cpp:799   INFO| Requesting connectivity (2,0) - (3,0)\n",
      "2024-07-27 18:53:26.725 ( 185.921s) [main            ]topologycomputation.cpp:799   INFO| Requesting connectivity (3,0) - (2,0)\n",
      "2024-07-27 18:53:26.725 ( 185.921s) [main            ]topologycomputation.cpp:799   INFO| Requesting connectivity (2,0) - (3,0)\n",
      "2024-07-27 18:53:26.725 ( 185.921s) [main            ]topologycomputation.cpp:799   INFO| Requesting connectivity (3,0) - (2,0)\n",
      "2024-07-27 18:53:26.729 ( 185.925s) [main            ]topologycomputation.cpp:799   INFO| Requesting connectivity (2,0) - (3,0)\n",
      "2024-07-27 18:53:26.729 ( 185.925s) [main            ]topologycomputation.cpp:799   INFO| Requesting connectivity (3,0) - (2,0)\n"
     ]
    }
   ],
   "source": [
    "problem = NonlinearProblem(F, u, bcs)"
   ]
  },
  {
   "cell_type": "markdown",
   "id": "qualified-phrase",
   "metadata": {},
   "source": [
    "and then create and customize the Newton solver"
   ]
  },
  {
   "cell_type": "code",
   "execution_count": 78,
   "id": "special-globe",
   "metadata": {},
   "outputs": [
    {
     "name": "stderr",
     "output_type": "stream",
     "text": [
      "2024-07-27 18:53:26.736 ( 185.932s) [main            ]    SparsityPattern.cpp:385   INFO| Column ghost size increased from 0 to 0\n"
     ]
    }
   ],
   "source": [
    "solver = NewtonSolver(domain.comm, problem)\n",
    "\n",
    "# Set Newton solver options\n",
    "solver.atol = 1e-8\n",
    "solver.rtol = 1e-8\n",
    "solver.convergence_criterion = \"incremental\"\n"
   ]
  },
  {
   "cell_type": "markdown",
   "id": "marked-hungary",
   "metadata": {},
   "source": [
    "We create a function to plot the solution at each time step."
   ]
  },
  {
   "cell_type": "code",
   "execution_count": 79,
   "id": "noble-perception",
   "metadata": {},
   "outputs": [
    {
     "name": "stderr",
     "output_type": "stream",
     "text": [
      "2024-07-27 18:53:29.759 ( 188.955s) [main            ]      dofmapbuilder.cpp:166   INFO| Checking required entities per dimension\n",
      "2024-07-27 18:53:29.759 ( 188.955s) [main            ]      dofmapbuilder.cpp:264   INFO| Cell type:0, dofmap:160x27\n",
      "2024-07-27 18:53:29.759 ( 188.955s) [main            ]      dofmapbuilder.cpp:320   INFO| Global index computation\n",
      "2024-07-27 18:53:29.759 ( 188.955s) [main            ]      dofmapbuilder.cpp:637   INFO| Got 4 index_maps\n",
      "2024-07-27 18:53:29.759 ( 188.955s) [main            ]      dofmapbuilder.cpp:644   INFO| Get global indices\n"
     ]
    }
   ],
   "source": [
    "pyvista.start_xvfb()\n",
    "plotter = pyvista.Plotter()\n",
    "plotter.open_gif(\"deformation.gif\", fps=3)\n",
    "\n",
    "topology, cells, geometry = plot.vtk_mesh(u.function_space)\n",
    "function_grid = pyvista.UnstructuredGrid(topology, cells, geometry)\n",
    "\n",
    "values = np.zeros((geometry.shape[0], 3))\n",
    "values[:, :len(u)] = u.x.array.reshape(geometry.shape[0], len(u))\n",
    "function_grid[\"u\"] = values\n",
    "function_grid.set_active_vectors(\"u\")\n",
    "\n",
    "# Warp mesh by deformation\n",
    "warped = function_grid.warp_by_vector(\"u\", factor=1)\n",
    "warped.set_active_vectors(\"u\")\n",
    "\n",
    "# Add mesh to plotter and visualize\n",
    "actor = plotter.add_mesh(warped, show_edges=True, lighting=False, clim=[0, 10])\n",
    "\n",
    "# Compute magnitude of displacement to visualize in GIF\n",
    "Vs = fem.functionspace(domain, (\"Lagrange\", 2))\n",
    "magnitude = fem.Function(Vs)\n",
    "us = fem.Expression(ufl.sqrt(sum([u[i]**2 for i in range(len(u))])), Vs.element.interpolation_points())\n",
    "magnitude.interpolate(us)\n",
    "warped[\"mag\"] = magnitude.x.array"
   ]
  },
  {
   "cell_type": "markdown",
   "id": "nasty-entertainment",
   "metadata": {},
   "source": [
    "Finally, we solve the problem over several time steps, updating the z-component of the traction"
   ]
  },
  {
   "cell_type": "code",
   "execution_count": 80,
   "id": "vanilla-referral",
   "metadata": {},
   "outputs": [
    {
     "name": "stderr",
     "output_type": "stream",
     "text": [
      "2024-07-27 18:53:29.867 ( 189.063s) [main            ]              petsc.cpp:700   INFO| PETSc Krylov solver starting to solve system.\n",
      "2024-07-27 18:53:30.236 ( 189.432s) [main            ]              petsc.cpp:700   INFO| PETSc Krylov solver starting to solve system.\n",
      "2024-07-27 18:53:30.494 ( 189.690s) [main            ]       NewtonSolver.cpp:38    INFO| Newton iteration 2: r (abs) = 7.5835e-09 (tol = 1e-08) r (rel) = 5.93709e-11(tol = 1e-08)\n",
      "2024-07-27 18:53:30.494 ( 189.690s) [main            ]       NewtonSolver.cpp:252   INFO| Newton solver finished in 2 iterations and 2 linear solver iterations.\n"
     ]
    },
    {
     "name": "stdout",
     "output_type": "stream",
     "text": [
      "Time step 1, Number of iterations 2, Load [ 0.   0.  -1.5]\n"
     ]
    },
    {
     "name": "stderr",
     "output_type": "stream",
     "text": [
      "2024-07-27 18:53:30.681 ( 189.877s) [main            ]              petsc.cpp:700   INFO| PETSc Krylov solver starting to solve system.\n",
      "2024-07-27 18:53:31.040 ( 190.236s) [main            ]              petsc.cpp:700   INFO| PETSc Krylov solver starting to solve system.\n",
      "2024-07-27 18:53:31.306 ( 190.502s) [main            ]       NewtonSolver.cpp:38    INFO| Newton iteration 2: r (abs) = 1.67947e-14 (tol = 1e-08) r (rel) = 0.829954(tol = 1e-08)\n",
      "2024-07-27 18:53:31.306 ( 190.502s) [main            ]       NewtonSolver.cpp:252   INFO| Newton solver finished in 2 iterations and 2 linear solver iterations.\n",
      "2024-07-27 18:53:31.435 ( 190.631s) [main            ]              petsc.cpp:700   INFO| PETSc Krylov solver starting to solve system.\n"
     ]
    },
    {
     "name": "stdout",
     "output_type": "stream",
     "text": [
      "Time step 2, Number of iterations 2, Load [ 0.  0. -3.]\n"
     ]
    },
    {
     "name": "stderr",
     "output_type": "stream",
     "text": [
      "2024-07-27 18:53:31.784 ( 190.980s) [main            ]              petsc.cpp:700   INFO| PETSc Krylov solver starting to solve system.\n",
      "2024-07-27 18:53:32.038 ( 191.234s) [main            ]       NewtonSolver.cpp:38    INFO| Newton iteration 2: r (abs) = 1.53385e-14 (tol = 1e-08) r (rel) = 0.812451(tol = 1e-08)\n",
      "2024-07-27 18:53:32.038 ( 191.234s) [main            ]       NewtonSolver.cpp:252   INFO| Newton solver finished in 2 iterations and 2 linear solver iterations.\n"
     ]
    },
    {
     "name": "stdout",
     "output_type": "stream",
     "text": [
      "Time step 3, Number of iterations 2, Load [ 0.   0.  -4.5]\n"
     ]
    },
    {
     "name": "stderr",
     "output_type": "stream",
     "text": [
      "2024-07-27 18:53:32.166 ( 191.362s) [main            ]              petsc.cpp:700   INFO| PETSc Krylov solver starting to solve system.\n",
      "2024-07-27 18:53:32.513 ( 191.709s) [main            ]              petsc.cpp:700   INFO| PETSc Krylov solver starting to solve system.\n"
     ]
    },
    {
     "name": "stdout",
     "output_type": "stream",
     "text": [
      "Time step 4, Number of iterations 2, Load [ 0.  0. -6.]\n"
     ]
    },
    {
     "name": "stderr",
     "output_type": "stream",
     "text": [
      "2024-07-27 18:53:32.780 ( 191.976s) [main            ]       NewtonSolver.cpp:38    INFO| Newton iteration 2: r (abs) = 2.70127e-14 (tol = 1e-08) r (rel) = 1.28428(tol = 1e-08)\n",
      "2024-07-27 18:53:32.780 ( 191.976s) [main            ]       NewtonSolver.cpp:252   INFO| Newton solver finished in 2 iterations and 2 linear solver iterations.\n",
      "2024-07-27 18:53:32.908 ( 192.104s) [main            ]              petsc.cpp:700   INFO| PETSc Krylov solver starting to solve system.\n",
      "2024-07-27 18:53:33.260 ( 192.456s) [main            ]              petsc.cpp:700   INFO| PETSc Krylov solver starting to solve system.\n",
      "2024-07-27 18:53:33.527 ( 192.723s) [main            ]       NewtonSolver.cpp:38    INFO| Newton iteration 2: r (abs) = 1.51789e-14 (tol = 1e-08) r (rel) = 0.890791(tol = 1e-08)\n",
      "2024-07-27 18:53:33.527 ( 192.723s) [main            ]       NewtonSolver.cpp:252   INFO| Newton solver finished in 2 iterations and 2 linear solver iterations.\n"
     ]
    },
    {
     "name": "stdout",
     "output_type": "stream",
     "text": [
      "Time step 5, Number of iterations 2, Load [ 0.   0.  -7.5]\n"
     ]
    },
    {
     "name": "stderr",
     "output_type": "stream",
     "text": [
      "2024-07-27 18:53:33.660 ( 192.856s) [main            ]              petsc.cpp:700   INFO| PETSc Krylov solver starting to solve system.\n",
      "2024-07-27 18:53:34.002 ( 193.198s) [main            ]              petsc.cpp:700   INFO| PETSc Krylov solver starting to solve system.\n"
     ]
    },
    {
     "name": "stdout",
     "output_type": "stream",
     "text": [
      "Time step 6, Number of iterations 2, Load [ 0.  0. -9.]\n"
     ]
    },
    {
     "name": "stderr",
     "output_type": "stream",
     "text": [
      "2024-07-27 18:53:34.259 ( 193.455s) [main            ]       NewtonSolver.cpp:38    INFO| Newton iteration 2: r (abs) = 2.69323e-14 (tol = 1e-08) r (rel) = 1.20472(tol = 1e-08)\n",
      "2024-07-27 18:53:34.259 ( 193.455s) [main            ]       NewtonSolver.cpp:252   INFO| Newton solver finished in 2 iterations and 2 linear solver iterations.\n",
      "2024-07-27 18:53:34.389 ( 193.585s) [main            ]              petsc.cpp:700   INFO| PETSc Krylov solver starting to solve system.\n",
      "2024-07-27 18:53:34.739 ( 193.935s) [main            ]              petsc.cpp:700   INFO| PETSc Krylov solver starting to solve system.\n",
      "2024-07-27 18:53:35.003 ( 194.199s) [main            ]       NewtonSolver.cpp:38    INFO| Newton iteration 2: r (abs) = 1.77495e-14 (tol = 1e-08) r (rel) = 0.765837(tol = 1e-08)\n",
      "2024-07-27 18:53:35.003 ( 194.199s) [main            ]       NewtonSolver.cpp:252   INFO| Newton solver finished in 2 iterations and 2 linear solver iterations.\n"
     ]
    },
    {
     "name": "stdout",
     "output_type": "stream",
     "text": [
      "Time step 7, Number of iterations 2, Load [  0.    0.  -10.5]\n"
     ]
    },
    {
     "name": "stderr",
     "output_type": "stream",
     "text": [
      "2024-07-27 18:53:35.133 ( 194.329s) [main            ]              petsc.cpp:700   INFO| PETSc Krylov solver starting to solve system.\n",
      "2024-07-27 18:53:35.518 ( 194.714s) [main            ]              petsc.cpp:700   INFO| PETSc Krylov solver starting to solve system.\n",
      "2024-07-27 18:53:35.804 ( 195.000s) [main            ]       NewtonSolver.cpp:38    INFO| Newton iteration 2: r (abs) = 1.59032e-14 (tol = 1e-08) r (rel) = 1.10516(tol = 1e-08)\n",
      "2024-07-27 18:53:35.804 ( 195.000s) [main            ]       NewtonSolver.cpp:252   INFO| Newton solver finished in 2 iterations and 2 linear solver iterations.\n"
     ]
    },
    {
     "name": "stdout",
     "output_type": "stream",
     "text": [
      "Time step 8, Number of iterations 2, Load [  0.   0. -12.]\n"
     ]
    },
    {
     "name": "stderr",
     "output_type": "stream",
     "text": [
      "2024-07-27 18:53:35.931 ( 195.127s) [main            ]              petsc.cpp:700   INFO| PETSc Krylov solver starting to solve system.\n",
      "2024-07-27 18:53:36.286 ( 195.481s) [main            ]              petsc.cpp:700   INFO| PETSc Krylov solver starting to solve system.\n",
      "2024-07-27 18:53:36.556 ( 195.752s) [main            ]       NewtonSolver.cpp:38    INFO| Newton iteration 2: r (abs) = 1.65778e-14 (tol = 1e-08) r (rel) = 1.24191(tol = 1e-08)\n",
      "2024-07-27 18:53:36.556 ( 195.752s) [main            ]       NewtonSolver.cpp:252   INFO| Newton solver finished in 2 iterations and 2 linear solver iterations.\n"
     ]
    },
    {
     "name": "stdout",
     "output_type": "stream",
     "text": [
      "Time step 9, Number of iterations 2, Load [  0.    0.  -13.5]\n"
     ]
    }
   ],
   "source": [
    "log.set_log_level(log.LogLevel.INFO)\n",
    "tval0 = -1.5\n",
    "for n in range(1, 10):\n",
    "    T.value[2] = n * tval0\n",
    "    num_its, converged = solver.solve(u)\n",
    "    assert (converged)\n",
    "    u.x.scatter_forward()\n",
    "    print(f\"Time step {n}, Number of iterations {num_its}, Load {T.value}\")\n",
    "    function_grid[\"u\"][:, :len(u)] = u.x.array.reshape(geometry.shape[0], len(u))\n",
    "    magnitude.interpolate(us)\n",
    "    warped.set_active_scalars(\"mag\")\n",
    "    warped_n = function_grid.warp_by_vector(factor=1)\n",
    "    warped.points[:, :] = warped_n.points\n",
    "    warped.point_data[\"mag\"][:] = magnitude.x.array\n",
    "    plotter.update_scalar_bar_range([0, 10])\n",
    "    plotter.write_frame()\n",
    "plotter.close()"
   ]
  }
 ],
 "metadata": {
  "jupytext": {
   "formats": "ipynb,py:light"
  },
  "kernelspec": {
   "display_name": "Python 3 (ipykernel)",
   "language": "python",
   "name": "python3"
  },
  "language_info": {
   "codemirror_mode": {
    "name": "ipython",
    "version": 3
   },
   "file_extension": ".py",
   "mimetype": "text/x-python",
   "name": "python",
   "nbconvert_exporter": "python",
   "pygments_lexer": "ipython3",
   "version": "3.12.2"
  }
 },
 "nbformat": 4,
 "nbformat_minor": 5
}
