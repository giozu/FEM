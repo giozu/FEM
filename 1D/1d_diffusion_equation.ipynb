{
  "nbformat": 4,
  "nbformat_minor": 0,
  "metadata": {
    "colab": {
      "provenance": [],
      "authorship_tag": "ABX9TyNM/dcEFOoAqzDq7pBg5lUa",
      "include_colab_link": true
    },
    "kernelspec": {
      "name": "python3",
      "display_name": "Python 3"
    },
    "language_info": {
      "name": "python"
    }
  },
  "cells": [
    {
      "cell_type": "markdown",
      "metadata": {
        "id": "view-in-github",
        "colab_type": "text"
      },
      "source": [
        "<a href=\"https://colab.research.google.com/github/giozu/FEniCS/blob/main/1D/1d_diffusion_equation.ipynb\" target=\"_parent\"><img src=\"https://colab.research.google.com/assets/colab-badge.svg\" alt=\"Open In Colab\"/></a>"
      ]
    },
    {
      "cell_type": "markdown",
      "source": [
        "# Diffusion equation\n",
        "\n",
        "In this notebook, we will solve the 1D diffusion equation with FEniCS:\n",
        "\n",
        "\\begin{alignat}{2}\n",
        "\\frac{\\partial u}{\\partial t} &= D \\nabla^2 u + f \\quad && \\text{ in } \\Omega \\\\\n",
        "u &= u_{\\mathrm{D}} \\quad && \\text{ on } \\Gamma_{\\mathrm{D}} \\\\\n",
        "u &= g(x) \\quad && \\text{ at } t=0 \\\\\n",
        "\\end{alignat}\n",
        "\n",
        "We will use the following data:\n",
        "\n",
        "* $\\Omega = [0,1]$\n",
        "* $f(x, y) = 1$\n",
        "* $D = 1$\n",
        "* $u_{\\mathrm{D}} = 0$\n",
        "* $t \\in (0,1)$\n",
        "* $g(x) = \\sin(\\pi x)$"
      ],
      "metadata": {
        "id": "-Y1QQRGxGQoJ"
      }
    },
    {
      "cell_type": "markdown",
      "source": [
        "## Importing FEniCS\n",
        "The first thing we need to do is to import FEniCS. We will also need to import the meshing library `mshr`."
      ],
      "metadata": {
        "id": "EkcHVEDtHQyz"
      }
    },
    {
      "cell_type": "code",
      "source": [
        "try:\n",
        "    import dolfin\n",
        "except ImportError:\n",
        "    !wget \"https://fem-on-colab.github.io/releases/fenics-install.sh\" -O \"/tmp/fenics-install.sh\" && bash \"/tmp/fenics-install.sh\"\n",
        "    import dolfin\n",
        "\n",
        "import fenics as fe\n",
        "import matplotlib.pyplot as plt"
      ],
      "metadata": {
        "id": "0xApXXY4_gM-"
      },
      "execution_count": null,
      "outputs": []
    },
    {
      "cell_type": "markdown",
      "source": [
        "## Initializing notebook plotting\n",
        "When running in a Jupyter notebook, a special line is necessary to show FEniCS plots in the notebook."
      ],
      "metadata": {
        "id": "6eRYeRPiHTyy"
      }
    },
    {
      "cell_type": "code",
      "source": [
        "%matplotlib inline"
      ],
      "metadata": {
        "id": "aHunEITwHdEJ"
      },
      "execution_count": null,
      "outputs": []
    },
    {
      "cell_type": "markdown",
      "source": [
        "## Creating the mesh\n",
        "To create the mesh, a simple FEniCS function is adopted"
      ],
      "metadata": {
        "id": "fLTBUVsCHg92"
      }
    },
    {
      "cell_type": "code",
      "source": [
        "n_elements = 16\n",
        "mesh = fe.UnitIntervalMesh(n_elements)\n",
        "fe.plot(mesh)\n",
        "\n",
        "fe.plot(mesh)"
      ],
      "metadata": {
        "colab": {
          "base_uri": "https://localhost:8080/",
          "height": 127
        },
        "id": "657lcnKiHznG",
        "outputId": "13fc58fe-cc66-4755-804e-97593d26a0e0"
      },
      "execution_count": null,
      "outputs": [
        {
          "output_type": "execute_result",
          "data": {
            "text/plain": [
              "[<matplotlib.lines.Line2D at 0x7fb84d7a9c90>]"
            ]
          },
          "metadata": {},
          "execution_count": 3
        },
        {
          "output_type": "display_data",
          "data": {
            "text/plain": [
              "<Figure size 640x480 with 1 Axes>"
            ],
            "image/png": "[encoded data removed]"
          },
          "metadata": {}
        }
      ]
    },
    {
      "cell_type": "markdown",
      "source": [
        "## Defining the finite element function space\n",
        "When we have created the mesh, we can define the finite element function space. We will use a standard piecewise linear $P_1$ (Lagrangian) function space."
      ],
      "metadata": {
        "id": "Y1zmMY2UH1Wa"
      }
    },
    {
      "cell_type": "code",
      "source": [
        "# Function space\n",
        "lagrange_polynomial_space_first_order = fe.FunctionSpace(\n",
        "    mesh,\n",
        "    \"Lagrange\",\n",
        "    1\n",
        ")"
      ],
      "metadata": {
        "id": "nKJoJNJJII3i"
      },
      "execution_count": null,
      "outputs": []
    },
    {
      "cell_type": "markdown",
      "source": [
        "## Defining the boundary condition\n",
        "The boundary condition can be defined by specifying all points on the boundary closer to either of the two circle centers than a distance slightly larger than the radius $r = 0.25$. "
      ],
      "metadata": {
        "id": "hWLgP2FjIKRg"
      }
    },
    {
      "cell_type": "code",
      "source": [
        "def boundary_function(x, on_boundary):\n",
        "  return on_boundary\n",
        "\n",
        "# Boundary condition\n",
        "boundary_condition = fe.DirichletBC(\n",
        "    lagrange_polynomial_space_first_order,\n",
        "    fe.Constant(0.0),\n",
        "    boundary_function,\n",
        ")"
      ],
      "metadata": {
        "id": "ivbPMcx_IPsm"
      },
      "execution_count": null,
      "outputs": []
    },
    {
      "cell_type": "markdown",
      "source": [
        "## Defining the initial condition\n",
        "The initial condition can be imposed with a specific instruction."
      ],
      "metadata": {
        "id": "meDFvI4lIWJ7"
      }
    },
    {
      "cell_type": "code",
      "source": [
        "# Initial condition\n",
        "# initial_condition_expression = fe.Expression(\n",
        "#     \"sin(3.141 * x[0])\",\n",
        "#     degree = 1,\n",
        "# )\n",
        "\n",
        "initial_condition_expression = fe.Constant(0.0)\n",
        "\n",
        "u_old = fe.interpolate(\n",
        "    initial_condition_expression,\n",
        "    lagrange_polynomial_space_first_order\n",
        ")\n",
        "\n",
        "plt.figure()\n",
        "fe.plot(u_old, label=\"t=0.0\")"
      ],
      "metadata": {
        "colab": {
          "base_uri": "https://localhost:8080/",
          "height": 447
        },
        "id": "lM09xvFnJZCV",
        "outputId": "90c07b58-fbe4-4bd1-ed4c-3bd14efde3a1"
      },
      "execution_count": null,
      "outputs": [
        {
          "output_type": "execute_result",
          "data": {
            "text/plain": [
              "[<matplotlib.lines.Line2D at 0x7fb84d4bb700>]"
            ]
          },
          "metadata": {},
          "execution_count": 14
        },
        {
          "output_type": "display_data",
          "data": {
            "text/plain": [
              "<Figure size 640x480 with 1 Axes>"
            ],
            "image/png": "[encoded data removed]"
          },
          "metadata": {}
        }
      ]
    },
    {
      "cell_type": "markdown",
      "source": [
        "## Defining the variational problem\n",
        "The finite element variational problem  reads: Find $u \\in V$ such that\n",
        "$$\n",
        "\\int_{\\Omega} u^{t+1} v \\,\\mathrm{d} x - \\int_{\\Omega} u^{t} v \\,\\mathrm{d}x + \\int_{\\Omega} D \\Delta t (\\nabla u^{t+1} \\cdot \\nabla v) \\,\\mathrm{d}x = \\int_{\\Omega} fv \\,\\mathrm{d}x\n",
        "$$\n",
        "for all $v \\in V$.\n",
        "\n",
        "This can be expressed in FEniCS by defining the *bilinear form* $a$ and the *linear form* $L$:\n",
        "\n",
        "\\begin{align}\n",
        "  a(u, v) &= \\int_{\\Omega} \\nabla u \\cdot \\nabla v \\,\\mathrm{d}x, \\\\\n",
        "  L(v) &= \\int_{\\Omega} fv \\,\\mathrm{d}x.\n",
        "\\end{align}"
      ],
      "metadata": {
        "id": "bEaRNwguJamX"
      }
    },
    {
      "cell_type": "code",
      "source": [
        "time_step = 0.1\n",
        "diffusivity = 1.0\n",
        "\n",
        "# The forcing on the rhs of the PDE\n",
        "source = fe.Constant(1.0)\n",
        "\n",
        "# Weak formulation\n",
        "u_trial = fe.TrialFunction(lagrange_polynomial_space_first_order)\n",
        "v_test = fe.TestFunction(lagrange_polynomial_space_first_order)\n",
        "\n",
        "weak_form = (\n",
        "    u_trial * v_test * fe.dx - \n",
        "    u_old * v_test * fe.dx +\n",
        "    time_step * diffusivity * fe.inner(fe.grad(u_trial), fe.grad(v_test)) * fe.dx -\n",
        "    time_step * source * v_test * fe.dx\n",
        ")\n",
        "\n",
        "weak_form_lhs = fe.lhs(weak_form)\n",
        "weak_form_rhs = fe.rhs(weak_form)\n",
        "\n",
        "u_solution = fe.Function(lagrange_polynomial_space_first_order)"
      ],
      "metadata": {
        "id": "lA-WvUxoKuZY"
      },
      "execution_count": null,
      "outputs": []
    },
    {
      "cell_type": "markdown",
      "source": [
        "## Solving the variational problem\n",
        "The variational problem can now be solved by calling the FEniCS `solve` command wuthin a temporal loop. Use the `plot` command to visualize the solution. "
      ],
      "metadata": {
        "id": "JElDr2O3Kviw"
      }
    },
    {
      "cell_type": "code",
      "source": [
        "# Time iteration\n",
        "time_current = 0.0\n",
        "for t in range(5):\n",
        "  time_current += time_step\n",
        "\n",
        "  fe.solve(\n",
        "      weak_form_lhs == weak_form_rhs,\n",
        "      u_solution,\n",
        "      boundary_condition,\n",
        "  )\n",
        "\n",
        "  u_old.assign(u_solution)\n",
        "\n",
        "  fe.plot(u_solution, label = f\"t={time_current:1.1f}\")\n",
        "\n",
        "# plt.legend()\n",
        "plt.title(\"Heat Conduction in a rod with homogeneous Dirichlet BC\")\n",
        "plt.xlabel(\"x position\")\n",
        "plt.ylabel(\"Temperature\")\n",
        "plt.grid()\n",
        "plt.show()"
      ],
      "metadata": {
        "colab": {
          "base_uri": "https://localhost:8080/",
          "height": 472
        },
        "id": "-GQcvfvljMPh",
        "outputId": "941e0a92-1d7b-43b1-d99c-5ae6dfd8ca77"
      },
      "execution_count": null,
      "outputs": [
        {
          "output_type": "display_data",
          "data": {
            "text/plain": [
              "<Figure size 640x480 with 1 Axes>"
            ],
            "image/png": "[encoded data removed]"
          },
          "metadata": {}
        }
      ]
    }
  ]
}